{
  "nbformat": 4,
  "nbformat_minor": 0,
  "metadata": {
    "colab": {
      "provenance": [],
      "gpuType": "T4"
    },
    "kernelspec": {
      "name": "python3",
      "display_name": "Python 3"
    },
    "language_info": {
      "name": "python"
    },
    "accelerator": "GPU",
    "widgets": {
      "application/vnd.jupyter.widget-state+json": {
        "328d89ab8a1a441cb4c0a0db04d45d37": {
          "model_module": "@jupyter-widgets/controls",
          "model_name": "HBoxModel",
          "model_module_version": "1.5.0",
          "state": {
            "_dom_classes": [],
            "_model_module": "@jupyter-widgets/controls",
            "_model_module_version": "1.5.0",
            "_model_name": "HBoxModel",
            "_view_count": null,
            "_view_module": "@jupyter-widgets/controls",
            "_view_module_version": "1.5.0",
            "_view_name": "HBoxView",
            "box_style": "",
            "children": [
              "IPY_MODEL_bfa8bba2cbd743a1b27950cbbffb7156",
              "IPY_MODEL_8c426355f07e4f06aae541196353036a",
              "IPY_MODEL_4ec61a8eec684449b534b57a5c9f9ba8"
            ],
            "layout": "IPY_MODEL_09f0851b7634415cad854774fa3548c0"
          }
        },
        "bfa8bba2cbd743a1b27950cbbffb7156": {
          "model_module": "@jupyter-widgets/controls",
          "model_name": "HTMLModel",
          "model_module_version": "1.5.0",
          "state": {
            "_dom_classes": [],
            "_model_module": "@jupyter-widgets/controls",
            "_model_module_version": "1.5.0",
            "_model_name": "HTMLModel",
            "_view_count": null,
            "_view_module": "@jupyter-widgets/controls",
            "_view_module_version": "1.5.0",
            "_view_name": "HTMLView",
            "description": "",
            "description_tooltip": null,
            "layout": "IPY_MODEL_9ecd894785be4037b29c252f39552256",
            "placeholder": "​",
            "style": "IPY_MODEL_fb18084135ac439394b6a50908ce3a44",
            "value": "tokenizer_config.json: 100%"
          }
        },
        "8c426355f07e4f06aae541196353036a": {
          "model_module": "@jupyter-widgets/controls",
          "model_name": "FloatProgressModel",
          "model_module_version": "1.5.0",
          "state": {
            "_dom_classes": [],
            "_model_module": "@jupyter-widgets/controls",
            "_model_module_version": "1.5.0",
            "_model_name": "FloatProgressModel",
            "_view_count": null,
            "_view_module": "@jupyter-widgets/controls",
            "_view_module_version": "1.5.0",
            "_view_name": "ProgressView",
            "bar_style": "success",
            "description": "",
            "description_tooltip": null,
            "layout": "IPY_MODEL_79d9674528d2485aaa22da1d0b142649",
            "max": 62,
            "min": 0,
            "orientation": "horizontal",
            "style": "IPY_MODEL_2d0fc6333d0f4a6795dcfb26fc877454",
            "value": 62
          }
        },
        "4ec61a8eec684449b534b57a5c9f9ba8": {
          "model_module": "@jupyter-widgets/controls",
          "model_name": "HTMLModel",
          "model_module_version": "1.5.0",
          "state": {
            "_dom_classes": [],
            "_model_module": "@jupyter-widgets/controls",
            "_model_module_version": "1.5.0",
            "_model_name": "HTMLModel",
            "_view_count": null,
            "_view_module": "@jupyter-widgets/controls",
            "_view_module_version": "1.5.0",
            "_view_name": "HTMLView",
            "description": "",
            "description_tooltip": null,
            "layout": "IPY_MODEL_9cea750ae3214a5596cd95568d82bede",
            "placeholder": "​",
            "style": "IPY_MODEL_bddcc7c71b934d8b80cdb70938071ff7",
            "value": " 62.0/62.0 [00:00&lt;00:00, 6.26kB/s]"
          }
        },
        "09f0851b7634415cad854774fa3548c0": {
          "model_module": "@jupyter-widgets/base",
          "model_name": "LayoutModel",
          "model_module_version": "1.2.0",
          "state": {
            "_model_module": "@jupyter-widgets/base",
            "_model_module_version": "1.2.0",
            "_model_name": "LayoutModel",
            "_view_count": null,
            "_view_module": "@jupyter-widgets/base",
            "_view_module_version": "1.2.0",
            "_view_name": "LayoutView",
            "align_content": null,
            "align_items": null,
            "align_self": null,
            "border": null,
            "bottom": null,
            "display": null,
            "flex": null,
            "flex_flow": null,
            "grid_area": null,
            "grid_auto_columns": null,
            "grid_auto_flow": null,
            "grid_auto_rows": null,
            "grid_column": null,
            "grid_gap": null,
            "grid_row": null,
            "grid_template_areas": null,
            "grid_template_columns": null,
            "grid_template_rows": null,
            "height": null,
            "justify_content": null,
            "justify_items": null,
            "left": null,
            "margin": null,
            "max_height": null,
            "max_width": null,
            "min_height": null,
            "min_width": null,
            "object_fit": null,
            "object_position": null,
            "order": null,
            "overflow": null,
            "overflow_x": null,
            "overflow_y": null,
            "padding": null,
            "right": null,
            "top": null,
            "visibility": null,
            "width": null
          }
        },
        "9ecd894785be4037b29c252f39552256": {
          "model_module": "@jupyter-widgets/base",
          "model_name": "LayoutModel",
          "model_module_version": "1.2.0",
          "state": {
            "_model_module": "@jupyter-widgets/base",
            "_model_module_version": "1.2.0",
            "_model_name": "LayoutModel",
            "_view_count": null,
            "_view_module": "@jupyter-widgets/base",
            "_view_module_version": "1.2.0",
            "_view_name": "LayoutView",
            "align_content": null,
            "align_items": null,
            "align_self": null,
            "border": null,
            "bottom": null,
            "display": null,
            "flex": null,
            "flex_flow": null,
            "grid_area": null,
            "grid_auto_columns": null,
            "grid_auto_flow": null,
            "grid_auto_rows": null,
            "grid_column": null,
            "grid_gap": null,
            "grid_row": null,
            "grid_template_areas": null,
            "grid_template_columns": null,
            "grid_template_rows": null,
            "height": null,
            "justify_content": null,
            "justify_items": null,
            "left": null,
            "margin": null,
            "max_height": null,
            "max_width": null,
            "min_height": null,
            "min_width": null,
            "object_fit": null,
            "object_position": null,
            "order": null,
            "overflow": null,
            "overflow_x": null,
            "overflow_y": null,
            "padding": null,
            "right": null,
            "top": null,
            "visibility": null,
            "width": null
          }
        },
        "fb18084135ac439394b6a50908ce3a44": {
          "model_module": "@jupyter-widgets/controls",
          "model_name": "DescriptionStyleModel",
          "model_module_version": "1.5.0",
          "state": {
            "_model_module": "@jupyter-widgets/controls",
            "_model_module_version": "1.5.0",
            "_model_name": "DescriptionStyleModel",
            "_view_count": null,
            "_view_module": "@jupyter-widgets/base",
            "_view_module_version": "1.2.0",
            "_view_name": "StyleView",
            "description_width": ""
          }
        },
        "79d9674528d2485aaa22da1d0b142649": {
          "model_module": "@jupyter-widgets/base",
          "model_name": "LayoutModel",
          "model_module_version": "1.2.0",
          "state": {
            "_model_module": "@jupyter-widgets/base",
            "_model_module_version": "1.2.0",
            "_model_name": "LayoutModel",
            "_view_count": null,
            "_view_module": "@jupyter-widgets/base",
            "_view_module_version": "1.2.0",
            "_view_name": "LayoutView",
            "align_content": null,
            "align_items": null,
            "align_self": null,
            "border": null,
            "bottom": null,
            "display": null,
            "flex": null,
            "flex_flow": null,
            "grid_area": null,
            "grid_auto_columns": null,
            "grid_auto_flow": null,
            "grid_auto_rows": null,
            "grid_column": null,
            "grid_gap": null,
            "grid_row": null,
            "grid_template_areas": null,
            "grid_template_columns": null,
            "grid_template_rows": null,
            "height": null,
            "justify_content": null,
            "justify_items": null,
            "left": null,
            "margin": null,
            "max_height": null,
            "max_width": null,
            "min_height": null,
            "min_width": null,
            "object_fit": null,
            "object_position": null,
            "order": null,
            "overflow": null,
            "overflow_x": null,
            "overflow_y": null,
            "padding": null,
            "right": null,
            "top": null,
            "visibility": null,
            "width": null
          }
        },
        "2d0fc6333d0f4a6795dcfb26fc877454": {
          "model_module": "@jupyter-widgets/controls",
          "model_name": "ProgressStyleModel",
          "model_module_version": "1.5.0",
          "state": {
            "_model_module": "@jupyter-widgets/controls",
            "_model_module_version": "1.5.0",
            "_model_name": "ProgressStyleModel",
            "_view_count": null,
            "_view_module": "@jupyter-widgets/base",
            "_view_module_version": "1.2.0",
            "_view_name": "StyleView",
            "bar_color": null,
            "description_width": ""
          }
        },
        "9cea750ae3214a5596cd95568d82bede": {
          "model_module": "@jupyter-widgets/base",
          "model_name": "LayoutModel",
          "model_module_version": "1.2.0",
          "state": {
            "_model_module": "@jupyter-widgets/base",
            "_model_module_version": "1.2.0",
            "_model_name": "LayoutModel",
            "_view_count": null,
            "_view_module": "@jupyter-widgets/base",
            "_view_module_version": "1.2.0",
            "_view_name": "LayoutView",
            "align_content": null,
            "align_items": null,
            "align_self": null,
            "border": null,
            "bottom": null,
            "display": null,
            "flex": null,
            "flex_flow": null,
            "grid_area": null,
            "grid_auto_columns": null,
            "grid_auto_flow": null,
            "grid_auto_rows": null,
            "grid_column": null,
            "grid_gap": null,
            "grid_row": null,
            "grid_template_areas": null,
            "grid_template_columns": null,
            "grid_template_rows": null,
            "height": null,
            "justify_content": null,
            "justify_items": null,
            "left": null,
            "margin": null,
            "max_height": null,
            "max_width": null,
            "min_height": null,
            "min_width": null,
            "object_fit": null,
            "object_position": null,
            "order": null,
            "overflow": null,
            "overflow_x": null,
            "overflow_y": null,
            "padding": null,
            "right": null,
            "top": null,
            "visibility": null,
            "width": null
          }
        },
        "bddcc7c71b934d8b80cdb70938071ff7": {
          "model_module": "@jupyter-widgets/controls",
          "model_name": "DescriptionStyleModel",
          "model_module_version": "1.5.0",
          "state": {
            "_model_module": "@jupyter-widgets/controls",
            "_model_module_version": "1.5.0",
            "_model_name": "DescriptionStyleModel",
            "_view_count": null,
            "_view_module": "@jupyter-widgets/base",
            "_view_module_version": "1.2.0",
            "_view_name": "StyleView",
            "description_width": ""
          }
        },
        "b9d83198d8384abfa60e40ca4792b161": {
          "model_module": "@jupyter-widgets/controls",
          "model_name": "HBoxModel",
          "model_module_version": "1.5.0",
          "state": {
            "_dom_classes": [],
            "_model_module": "@jupyter-widgets/controls",
            "_model_module_version": "1.5.0",
            "_model_name": "HBoxModel",
            "_view_count": null,
            "_view_module": "@jupyter-widgets/controls",
            "_view_module_version": "1.5.0",
            "_view_name": "HBoxView",
            "box_style": "",
            "children": [
              "IPY_MODEL_c09c09a26a814999bb32c63a77523f85",
              "IPY_MODEL_182bb56025f34fdbb1a7fc3de8c9afdc",
              "IPY_MODEL_d07dadce6ba24c14b55da5846c97feba"
            ],
            "layout": "IPY_MODEL_1bc12035520641daa6708f15c688c4cb"
          }
        },
        "c09c09a26a814999bb32c63a77523f85": {
          "model_module": "@jupyter-widgets/controls",
          "model_name": "HTMLModel",
          "model_module_version": "1.5.0",
          "state": {
            "_dom_classes": [],
            "_model_module": "@jupyter-widgets/controls",
            "_model_module_version": "1.5.0",
            "_model_name": "HTMLModel",
            "_view_count": null,
            "_view_module": "@jupyter-widgets/controls",
            "_view_module_version": "1.5.0",
            "_view_name": "HTMLView",
            "description": "",
            "description_tooltip": null,
            "layout": "IPY_MODEL_655ba0888ac94055b887989faf8b9099",
            "placeholder": "​",
            "style": "IPY_MODEL_12dac047c40c4d2cb50a479a2184fb75",
            "value": "config.json: 100%"
          }
        },
        "182bb56025f34fdbb1a7fc3de8c9afdc": {
          "model_module": "@jupyter-widgets/controls",
          "model_name": "FloatProgressModel",
          "model_module_version": "1.5.0",
          "state": {
            "_dom_classes": [],
            "_model_module": "@jupyter-widgets/controls",
            "_model_module_version": "1.5.0",
            "_model_name": "FloatProgressModel",
            "_view_count": null,
            "_view_module": "@jupyter-widgets/controls",
            "_view_module_version": "1.5.0",
            "_view_name": "ProgressView",
            "bar_style": "success",
            "description": "",
            "description_tooltip": null,
            "layout": "IPY_MODEL_bc60539286c9407db9c1a2f2a985c4a2",
            "max": 491,
            "min": 0,
            "orientation": "horizontal",
            "style": "IPY_MODEL_5d73a6a49738497cb07b660fda557a55",
            "value": 491
          }
        },
        "d07dadce6ba24c14b55da5846c97feba": {
          "model_module": "@jupyter-widgets/controls",
          "model_name": "HTMLModel",
          "model_module_version": "1.5.0",
          "state": {
            "_dom_classes": [],
            "_model_module": "@jupyter-widgets/controls",
            "_model_module_version": "1.5.0",
            "_model_name": "HTMLModel",
            "_view_count": null,
            "_view_module": "@jupyter-widgets/controls",
            "_view_module_version": "1.5.0",
            "_view_name": "HTMLView",
            "description": "",
            "description_tooltip": null,
            "layout": "IPY_MODEL_e2dfe57976bc4485b28818bfaf22d397",
            "placeholder": "​",
            "style": "IPY_MODEL_ceb8e6360967430288cdf254175f0257",
            "value": " 491/491 [00:00&lt;00:00, 33.5kB/s]"
          }
        },
        "1bc12035520641daa6708f15c688c4cb": {
          "model_module": "@jupyter-widgets/base",
          "model_name": "LayoutModel",
          "model_module_version": "1.2.0",
          "state": {
            "_model_module": "@jupyter-widgets/base",
            "_model_module_version": "1.2.0",
            "_model_name": "LayoutModel",
            "_view_count": null,
            "_view_module": "@jupyter-widgets/base",
            "_view_module_version": "1.2.0",
            "_view_name": "LayoutView",
            "align_content": null,
            "align_items": null,
            "align_self": null,
            "border": null,
            "bottom": null,
            "display": null,
            "flex": null,
            "flex_flow": null,
            "grid_area": null,
            "grid_auto_columns": null,
            "grid_auto_flow": null,
            "grid_auto_rows": null,
            "grid_column": null,
            "grid_gap": null,
            "grid_row": null,
            "grid_template_areas": null,
            "grid_template_columns": null,
            "grid_template_rows": null,
            "height": null,
            "justify_content": null,
            "justify_items": null,
            "left": null,
            "margin": null,
            "max_height": null,
            "max_width": null,
            "min_height": null,
            "min_width": null,
            "object_fit": null,
            "object_position": null,
            "order": null,
            "overflow": null,
            "overflow_x": null,
            "overflow_y": null,
            "padding": null,
            "right": null,
            "top": null,
            "visibility": null,
            "width": null
          }
        },
        "655ba0888ac94055b887989faf8b9099": {
          "model_module": "@jupyter-widgets/base",
          "model_name": "LayoutModel",
          "model_module_version": "1.2.0",
          "state": {
            "_model_module": "@jupyter-widgets/base",
            "_model_module_version": "1.2.0",
            "_model_name": "LayoutModel",
            "_view_count": null,
            "_view_module": "@jupyter-widgets/base",
            "_view_module_version": "1.2.0",
            "_view_name": "LayoutView",
            "align_content": null,
            "align_items": null,
            "align_self": null,
            "border": null,
            "bottom": null,
            "display": null,
            "flex": null,
            "flex_flow": null,
            "grid_area": null,
            "grid_auto_columns": null,
            "grid_auto_flow": null,
            "grid_auto_rows": null,
            "grid_column": null,
            "grid_gap": null,
            "grid_row": null,
            "grid_template_areas": null,
            "grid_template_columns": null,
            "grid_template_rows": null,
            "height": null,
            "justify_content": null,
            "justify_items": null,
            "left": null,
            "margin": null,
            "max_height": null,
            "max_width": null,
            "min_height": null,
            "min_width": null,
            "object_fit": null,
            "object_position": null,
            "order": null,
            "overflow": null,
            "overflow_x": null,
            "overflow_y": null,
            "padding": null,
            "right": null,
            "top": null,
            "visibility": null,
            "width": null
          }
        },
        "12dac047c40c4d2cb50a479a2184fb75": {
          "model_module": "@jupyter-widgets/controls",
          "model_name": "DescriptionStyleModel",
          "model_module_version": "1.5.0",
          "state": {
            "_model_module": "@jupyter-widgets/controls",
            "_model_module_version": "1.5.0",
            "_model_name": "DescriptionStyleModel",
            "_view_count": null,
            "_view_module": "@jupyter-widgets/base",
            "_view_module_version": "1.2.0",
            "_view_name": "StyleView",
            "description_width": ""
          }
        },
        "bc60539286c9407db9c1a2f2a985c4a2": {
          "model_module": "@jupyter-widgets/base",
          "model_name": "LayoutModel",
          "model_module_version": "1.2.0",
          "state": {
            "_model_module": "@jupyter-widgets/base",
            "_model_module_version": "1.2.0",
            "_model_name": "LayoutModel",
            "_view_count": null,
            "_view_module": "@jupyter-widgets/base",
            "_view_module_version": "1.2.0",
            "_view_name": "LayoutView",
            "align_content": null,
            "align_items": null,
            "align_self": null,
            "border": null,
            "bottom": null,
            "display": null,
            "flex": null,
            "flex_flow": null,
            "grid_area": null,
            "grid_auto_columns": null,
            "grid_auto_flow": null,
            "grid_auto_rows": null,
            "grid_column": null,
            "grid_gap": null,
            "grid_row": null,
            "grid_template_areas": null,
            "grid_template_columns": null,
            "grid_template_rows": null,
            "height": null,
            "justify_content": null,
            "justify_items": null,
            "left": null,
            "margin": null,
            "max_height": null,
            "max_width": null,
            "min_height": null,
            "min_width": null,
            "object_fit": null,
            "object_position": null,
            "order": null,
            "overflow": null,
            "overflow_x": null,
            "overflow_y": null,
            "padding": null,
            "right": null,
            "top": null,
            "visibility": null,
            "width": null
          }
        },
        "5d73a6a49738497cb07b660fda557a55": {
          "model_module": "@jupyter-widgets/controls",
          "model_name": "ProgressStyleModel",
          "model_module_version": "1.5.0",
          "state": {
            "_model_module": "@jupyter-widgets/controls",
            "_model_module_version": "1.5.0",
            "_model_name": "ProgressStyleModel",
            "_view_count": null,
            "_view_module": "@jupyter-widgets/base",
            "_view_module_version": "1.2.0",
            "_view_name": "StyleView",
            "bar_color": null,
            "description_width": ""
          }
        },
        "e2dfe57976bc4485b28818bfaf22d397": {
          "model_module": "@jupyter-widgets/base",
          "model_name": "LayoutModel",
          "model_module_version": "1.2.0",
          "state": {
            "_model_module": "@jupyter-widgets/base",
            "_model_module_version": "1.2.0",
            "_model_name": "LayoutModel",
            "_view_count": null,
            "_view_module": "@jupyter-widgets/base",
            "_view_module_version": "1.2.0",
            "_view_name": "LayoutView",
            "align_content": null,
            "align_items": null,
            "align_self": null,
            "border": null,
            "bottom": null,
            "display": null,
            "flex": null,
            "flex_flow": null,
            "grid_area": null,
            "grid_auto_columns": null,
            "grid_auto_flow": null,
            "grid_auto_rows": null,
            "grid_column": null,
            "grid_gap": null,
            "grid_row": null,
            "grid_template_areas": null,
            "grid_template_columns": null,
            "grid_template_rows": null,
            "height": null,
            "justify_content": null,
            "justify_items": null,
            "left": null,
            "margin": null,
            "max_height": null,
            "max_width": null,
            "min_height": null,
            "min_width": null,
            "object_fit": null,
            "object_position": null,
            "order": null,
            "overflow": null,
            "overflow_x": null,
            "overflow_y": null,
            "padding": null,
            "right": null,
            "top": null,
            "visibility": null,
            "width": null
          }
        },
        "ceb8e6360967430288cdf254175f0257": {
          "model_module": "@jupyter-widgets/controls",
          "model_name": "DescriptionStyleModel",
          "model_module_version": "1.5.0",
          "state": {
            "_model_module": "@jupyter-widgets/controls",
            "_model_module_version": "1.5.0",
            "_model_name": "DescriptionStyleModel",
            "_view_count": null,
            "_view_module": "@jupyter-widgets/base",
            "_view_module_version": "1.2.0",
            "_view_name": "StyleView",
            "description_width": ""
          }
        },
        "c2d212cf4494414e9c2cc904562c28a9": {
          "model_module": "@jupyter-widgets/controls",
          "model_name": "HBoxModel",
          "model_module_version": "1.5.0",
          "state": {
            "_dom_classes": [],
            "_model_module": "@jupyter-widgets/controls",
            "_model_module_version": "1.5.0",
            "_model_name": "HBoxModel",
            "_view_count": null,
            "_view_module": "@jupyter-widgets/controls",
            "_view_module_version": "1.5.0",
            "_view_name": "HBoxView",
            "box_style": "",
            "children": [
              "IPY_MODEL_ba5d3d6e7c6e47399ec182cbb80841de",
              "IPY_MODEL_938fec1b4a65430a8ac17ccbf01dd643",
              "IPY_MODEL_55a91bace4d541debe11f0b92e4d68d8"
            ],
            "layout": "IPY_MODEL_5c4ad3fcc32241729ec33c0781871232"
          }
        },
        "ba5d3d6e7c6e47399ec182cbb80841de": {
          "model_module": "@jupyter-widgets/controls",
          "model_name": "HTMLModel",
          "model_module_version": "1.5.0",
          "state": {
            "_dom_classes": [],
            "_model_module": "@jupyter-widgets/controls",
            "_model_module_version": "1.5.0",
            "_model_name": "HTMLModel",
            "_view_count": null,
            "_view_module": "@jupyter-widgets/controls",
            "_view_module_version": "1.5.0",
            "_view_name": "HTMLView",
            "description": "",
            "description_tooltip": null,
            "layout": "IPY_MODEL_d6f9e46ef9b249989052beff6d8e70a4",
            "placeholder": "​",
            "style": "IPY_MODEL_fc3b396a0f9843548b91ceef925274bf",
            "value": "vocab.txt: "
          }
        },
        "938fec1b4a65430a8ac17ccbf01dd643": {
          "model_module": "@jupyter-widgets/controls",
          "model_name": "FloatProgressModel",
          "model_module_version": "1.5.0",
          "state": {
            "_dom_classes": [],
            "_model_module": "@jupyter-widgets/controls",
            "_model_module_version": "1.5.0",
            "_model_name": "FloatProgressModel",
            "_view_count": null,
            "_view_module": "@jupyter-widgets/controls",
            "_view_module_version": "1.5.0",
            "_view_name": "ProgressView",
            "bar_style": "success",
            "description": "",
            "description_tooltip": null,
            "layout": "IPY_MODEL_32d8d5eef57843b79472a90be1a54663",
            "max": 1,
            "min": 0,
            "orientation": "horizontal",
            "style": "IPY_MODEL_9ddef0821b824bd78fc7140036baee44",
            "value": 1
          }
        },
        "55a91bace4d541debe11f0b92e4d68d8": {
          "model_module": "@jupyter-widgets/controls",
          "model_name": "HTMLModel",
          "model_module_version": "1.5.0",
          "state": {
            "_dom_classes": [],
            "_model_module": "@jupyter-widgets/controls",
            "_model_module_version": "1.5.0",
            "_model_name": "HTMLModel",
            "_view_count": null,
            "_view_module": "@jupyter-widgets/controls",
            "_view_module_version": "1.5.0",
            "_view_name": "HTMLView",
            "description": "",
            "description_tooltip": null,
            "layout": "IPY_MODEL_d07a89a336c341d48d22ff04756b9cd3",
            "placeholder": "​",
            "style": "IPY_MODEL_88bb37e30ff8463c8429a35f094af2ea",
            "value": " 334k/? [00:00&lt;00:00, 12.3MB/s]"
          }
        },
        "5c4ad3fcc32241729ec33c0781871232": {
          "model_module": "@jupyter-widgets/base",
          "model_name": "LayoutModel",
          "model_module_version": "1.2.0",
          "state": {
            "_model_module": "@jupyter-widgets/base",
            "_model_module_version": "1.2.0",
            "_model_name": "LayoutModel",
            "_view_count": null,
            "_view_module": "@jupyter-widgets/base",
            "_view_module_version": "1.2.0",
            "_view_name": "LayoutView",
            "align_content": null,
            "align_items": null,
            "align_self": null,
            "border": null,
            "bottom": null,
            "display": null,
            "flex": null,
            "flex_flow": null,
            "grid_area": null,
            "grid_auto_columns": null,
            "grid_auto_flow": null,
            "grid_auto_rows": null,
            "grid_column": null,
            "grid_gap": null,
            "grid_row": null,
            "grid_template_areas": null,
            "grid_template_columns": null,
            "grid_template_rows": null,
            "height": null,
            "justify_content": null,
            "justify_items": null,
            "left": null,
            "margin": null,
            "max_height": null,
            "max_width": null,
            "min_height": null,
            "min_width": null,
            "object_fit": null,
            "object_position": null,
            "order": null,
            "overflow": null,
            "overflow_x": null,
            "overflow_y": null,
            "padding": null,
            "right": null,
            "top": null,
            "visibility": null,
            "width": null
          }
        },
        "d6f9e46ef9b249989052beff6d8e70a4": {
          "model_module": "@jupyter-widgets/base",
          "model_name": "LayoutModel",
          "model_module_version": "1.2.0",
          "state": {
            "_model_module": "@jupyter-widgets/base",
            "_model_module_version": "1.2.0",
            "_model_name": "LayoutModel",
            "_view_count": null,
            "_view_module": "@jupyter-widgets/base",
            "_view_module_version": "1.2.0",
            "_view_name": "LayoutView",
            "align_content": null,
            "align_items": null,
            "align_self": null,
            "border": null,
            "bottom": null,
            "display": null,
            "flex": null,
            "flex_flow": null,
            "grid_area": null,
            "grid_auto_columns": null,
            "grid_auto_flow": null,
            "grid_auto_rows": null,
            "grid_column": null,
            "grid_gap": null,
            "grid_row": null,
            "grid_template_areas": null,
            "grid_template_columns": null,
            "grid_template_rows": null,
            "height": null,
            "justify_content": null,
            "justify_items": null,
            "left": null,
            "margin": null,
            "max_height": null,
            "max_width": null,
            "min_height": null,
            "min_width": null,
            "object_fit": null,
            "object_position": null,
            "order": null,
            "overflow": null,
            "overflow_x": null,
            "overflow_y": null,
            "padding": null,
            "right": null,
            "top": null,
            "visibility": null,
            "width": null
          }
        },
        "fc3b396a0f9843548b91ceef925274bf": {
          "model_module": "@jupyter-widgets/controls",
          "model_name": "DescriptionStyleModel",
          "model_module_version": "1.5.0",
          "state": {
            "_model_module": "@jupyter-widgets/controls",
            "_model_module_version": "1.5.0",
            "_model_name": "DescriptionStyleModel",
            "_view_count": null,
            "_view_module": "@jupyter-widgets/base",
            "_view_module_version": "1.2.0",
            "_view_name": "StyleView",
            "description_width": ""
          }
        },
        "32d8d5eef57843b79472a90be1a54663": {
          "model_module": "@jupyter-widgets/base",
          "model_name": "LayoutModel",
          "model_module_version": "1.2.0",
          "state": {
            "_model_module": "@jupyter-widgets/base",
            "_model_module_version": "1.2.0",
            "_model_name": "LayoutModel",
            "_view_count": null,
            "_view_module": "@jupyter-widgets/base",
            "_view_module_version": "1.2.0",
            "_view_name": "LayoutView",
            "align_content": null,
            "align_items": null,
            "align_self": null,
            "border": null,
            "bottom": null,
            "display": null,
            "flex": null,
            "flex_flow": null,
            "grid_area": null,
            "grid_auto_columns": null,
            "grid_auto_flow": null,
            "grid_auto_rows": null,
            "grid_column": null,
            "grid_gap": null,
            "grid_row": null,
            "grid_template_areas": null,
            "grid_template_columns": null,
            "grid_template_rows": null,
            "height": null,
            "justify_content": null,
            "justify_items": null,
            "left": null,
            "margin": null,
            "max_height": null,
            "max_width": null,
            "min_height": null,
            "min_width": null,
            "object_fit": null,
            "object_position": null,
            "order": null,
            "overflow": null,
            "overflow_x": null,
            "overflow_y": null,
            "padding": null,
            "right": null,
            "top": null,
            "visibility": null,
            "width": "20px"
          }
        },
        "9ddef0821b824bd78fc7140036baee44": {
          "model_module": "@jupyter-widgets/controls",
          "model_name": "ProgressStyleModel",
          "model_module_version": "1.5.0",
          "state": {
            "_model_module": "@jupyter-widgets/controls",
            "_model_module_version": "1.5.0",
            "_model_name": "ProgressStyleModel",
            "_view_count": null,
            "_view_module": "@jupyter-widgets/base",
            "_view_module_version": "1.2.0",
            "_view_name": "StyleView",
            "bar_color": null,
            "description_width": ""
          }
        },
        "d07a89a336c341d48d22ff04756b9cd3": {
          "model_module": "@jupyter-widgets/base",
          "model_name": "LayoutModel",
          "model_module_version": "1.2.0",
          "state": {
            "_model_module": "@jupyter-widgets/base",
            "_model_module_version": "1.2.0",
            "_model_name": "LayoutModel",
            "_view_count": null,
            "_view_module": "@jupyter-widgets/base",
            "_view_module_version": "1.2.0",
            "_view_name": "LayoutView",
            "align_content": null,
            "align_items": null,
            "align_self": null,
            "border": null,
            "bottom": null,
            "display": null,
            "flex": null,
            "flex_flow": null,
            "grid_area": null,
            "grid_auto_columns": null,
            "grid_auto_flow": null,
            "grid_auto_rows": null,
            "grid_column": null,
            "grid_gap": null,
            "grid_row": null,
            "grid_template_areas": null,
            "grid_template_columns": null,
            "grid_template_rows": null,
            "height": null,
            "justify_content": null,
            "justify_items": null,
            "left": null,
            "margin": null,
            "max_height": null,
            "max_width": null,
            "min_height": null,
            "min_width": null,
            "object_fit": null,
            "object_position": null,
            "order": null,
            "overflow": null,
            "overflow_x": null,
            "overflow_y": null,
            "padding": null,
            "right": null,
            "top": null,
            "visibility": null,
            "width": null
          }
        },
        "88bb37e30ff8463c8429a35f094af2ea": {
          "model_module": "@jupyter-widgets/controls",
          "model_name": "DescriptionStyleModel",
          "model_module_version": "1.5.0",
          "state": {
            "_model_module": "@jupyter-widgets/controls",
            "_model_module_version": "1.5.0",
            "_model_name": "DescriptionStyleModel",
            "_view_count": null,
            "_view_module": "@jupyter-widgets/base",
            "_view_module_version": "1.2.0",
            "_view_name": "StyleView",
            "description_width": ""
          }
        },
        "223b951004d44cb593022251709b44b6": {
          "model_module": "@jupyter-widgets/controls",
          "model_name": "HBoxModel",
          "model_module_version": "1.5.0",
          "state": {
            "_dom_classes": [],
            "_model_module": "@jupyter-widgets/controls",
            "_model_module_version": "1.5.0",
            "_model_name": "HBoxModel",
            "_view_count": null,
            "_view_module": "@jupyter-widgets/controls",
            "_view_module_version": "1.5.0",
            "_view_name": "HBoxView",
            "box_style": "",
            "children": [
              "IPY_MODEL_0ffe8614ea894c89b02f2fa983248267",
              "IPY_MODEL_44e13ef7a4b04ec996eb52fb5b122f6b",
              "IPY_MODEL_5c41e2441d564b508f3c68b3b6c7d832"
            ],
            "layout": "IPY_MODEL_2b6b6e4103c449f2a71b3b2900831862"
          }
        },
        "0ffe8614ea894c89b02f2fa983248267": {
          "model_module": "@jupyter-widgets/controls",
          "model_name": "HTMLModel",
          "model_module_version": "1.5.0",
          "state": {
            "_dom_classes": [],
            "_model_module": "@jupyter-widgets/controls",
            "_model_module_version": "1.5.0",
            "_model_name": "HTMLModel",
            "_view_count": null,
            "_view_module": "@jupyter-widgets/controls",
            "_view_module_version": "1.5.0",
            "_view_name": "HTMLView",
            "description": "",
            "description_tooltip": null,
            "layout": "IPY_MODEL_402cf78ab2c14c82878a6b3d274e752e",
            "placeholder": "​",
            "style": "IPY_MODEL_b4454a9753c141558424866e1412787e",
            "value": "special_tokens_map.json: 100%"
          }
        },
        "44e13ef7a4b04ec996eb52fb5b122f6b": {
          "model_module": "@jupyter-widgets/controls",
          "model_name": "FloatProgressModel",
          "model_module_version": "1.5.0",
          "state": {
            "_dom_classes": [],
            "_model_module": "@jupyter-widgets/controls",
            "_model_module_version": "1.5.0",
            "_model_name": "FloatProgressModel",
            "_view_count": null,
            "_view_module": "@jupyter-widgets/controls",
            "_view_module_version": "1.5.0",
            "_view_name": "ProgressView",
            "bar_style": "success",
            "description": "",
            "description_tooltip": null,
            "layout": "IPY_MODEL_456349928db347879c45c5ab66ca8f7f",
            "max": 112,
            "min": 0,
            "orientation": "horizontal",
            "style": "IPY_MODEL_e642b791f0f941ba8c08c4b84ab0aed2",
            "value": 112
          }
        },
        "5c41e2441d564b508f3c68b3b6c7d832": {
          "model_module": "@jupyter-widgets/controls",
          "model_name": "HTMLModel",
          "model_module_version": "1.5.0",
          "state": {
            "_dom_classes": [],
            "_model_module": "@jupyter-widgets/controls",
            "_model_module_version": "1.5.0",
            "_model_name": "HTMLModel",
            "_view_count": null,
            "_view_module": "@jupyter-widgets/controls",
            "_view_module_version": "1.5.0",
            "_view_name": "HTMLView",
            "description": "",
            "description_tooltip": null,
            "layout": "IPY_MODEL_dbac1ebba37a4e99aa8eac2bc9785e5b",
            "placeholder": "​",
            "style": "IPY_MODEL_fcd000d766a041f7b92a3886fba14b01",
            "value": " 112/112 [00:00&lt;00:00, 7.70kB/s]"
          }
        },
        "2b6b6e4103c449f2a71b3b2900831862": {
          "model_module": "@jupyter-widgets/base",
          "model_name": "LayoutModel",
          "model_module_version": "1.2.0",
          "state": {
            "_model_module": "@jupyter-widgets/base",
            "_model_module_version": "1.2.0",
            "_model_name": "LayoutModel",
            "_view_count": null,
            "_view_module": "@jupyter-widgets/base",
            "_view_module_version": "1.2.0",
            "_view_name": "LayoutView",
            "align_content": null,
            "align_items": null,
            "align_self": null,
            "border": null,
            "bottom": null,
            "display": null,
            "flex": null,
            "flex_flow": null,
            "grid_area": null,
            "grid_auto_columns": null,
            "grid_auto_flow": null,
            "grid_auto_rows": null,
            "grid_column": null,
            "grid_gap": null,
            "grid_row": null,
            "grid_template_areas": null,
            "grid_template_columns": null,
            "grid_template_rows": null,
            "height": null,
            "justify_content": null,
            "justify_items": null,
            "left": null,
            "margin": null,
            "max_height": null,
            "max_width": null,
            "min_height": null,
            "min_width": null,
            "object_fit": null,
            "object_position": null,
            "order": null,
            "overflow": null,
            "overflow_x": null,
            "overflow_y": null,
            "padding": null,
            "right": null,
            "top": null,
            "visibility": null,
            "width": null
          }
        },
        "402cf78ab2c14c82878a6b3d274e752e": {
          "model_module": "@jupyter-widgets/base",
          "model_name": "LayoutModel",
          "model_module_version": "1.2.0",
          "state": {
            "_model_module": "@jupyter-widgets/base",
            "_model_module_version": "1.2.0",
            "_model_name": "LayoutModel",
            "_view_count": null,
            "_view_module": "@jupyter-widgets/base",
            "_view_module_version": "1.2.0",
            "_view_name": "LayoutView",
            "align_content": null,
            "align_items": null,
            "align_self": null,
            "border": null,
            "bottom": null,
            "display": null,
            "flex": null,
            "flex_flow": null,
            "grid_area": null,
            "grid_auto_columns": null,
            "grid_auto_flow": null,
            "grid_auto_rows": null,
            "grid_column": null,
            "grid_gap": null,
            "grid_row": null,
            "grid_template_areas": null,
            "grid_template_columns": null,
            "grid_template_rows": null,
            "height": null,
            "justify_content": null,
            "justify_items": null,
            "left": null,
            "margin": null,
            "max_height": null,
            "max_width": null,
            "min_height": null,
            "min_width": null,
            "object_fit": null,
            "object_position": null,
            "order": null,
            "overflow": null,
            "overflow_x": null,
            "overflow_y": null,
            "padding": null,
            "right": null,
            "top": null,
            "visibility": null,
            "width": null
          }
        },
        "b4454a9753c141558424866e1412787e": {
          "model_module": "@jupyter-widgets/controls",
          "model_name": "DescriptionStyleModel",
          "model_module_version": "1.5.0",
          "state": {
            "_model_module": "@jupyter-widgets/controls",
            "_model_module_version": "1.5.0",
            "_model_name": "DescriptionStyleModel",
            "_view_count": null,
            "_view_module": "@jupyter-widgets/base",
            "_view_module_version": "1.2.0",
            "_view_name": "StyleView",
            "description_width": ""
          }
        },
        "456349928db347879c45c5ab66ca8f7f": {
          "model_module": "@jupyter-widgets/base",
          "model_name": "LayoutModel",
          "model_module_version": "1.2.0",
          "state": {
            "_model_module": "@jupyter-widgets/base",
            "_model_module_version": "1.2.0",
            "_model_name": "LayoutModel",
            "_view_count": null,
            "_view_module": "@jupyter-widgets/base",
            "_view_module_version": "1.2.0",
            "_view_name": "LayoutView",
            "align_content": null,
            "align_items": null,
            "align_self": null,
            "border": null,
            "bottom": null,
            "display": null,
            "flex": null,
            "flex_flow": null,
            "grid_area": null,
            "grid_auto_columns": null,
            "grid_auto_flow": null,
            "grid_auto_rows": null,
            "grid_column": null,
            "grid_gap": null,
            "grid_row": null,
            "grid_template_areas": null,
            "grid_template_columns": null,
            "grid_template_rows": null,
            "height": null,
            "justify_content": null,
            "justify_items": null,
            "left": null,
            "margin": null,
            "max_height": null,
            "max_width": null,
            "min_height": null,
            "min_width": null,
            "object_fit": null,
            "object_position": null,
            "order": null,
            "overflow": null,
            "overflow_x": null,
            "overflow_y": null,
            "padding": null,
            "right": null,
            "top": null,
            "visibility": null,
            "width": null
          }
        },
        "e642b791f0f941ba8c08c4b84ab0aed2": {
          "model_module": "@jupyter-widgets/controls",
          "model_name": "ProgressStyleModel",
          "model_module_version": "1.5.0",
          "state": {
            "_model_module": "@jupyter-widgets/controls",
            "_model_module_version": "1.5.0",
            "_model_name": "ProgressStyleModel",
            "_view_count": null,
            "_view_module": "@jupyter-widgets/base",
            "_view_module_version": "1.2.0",
            "_view_name": "StyleView",
            "bar_color": null,
            "description_width": ""
          }
        },
        "dbac1ebba37a4e99aa8eac2bc9785e5b": {
          "model_module": "@jupyter-widgets/base",
          "model_name": "LayoutModel",
          "model_module_version": "1.2.0",
          "state": {
            "_model_module": "@jupyter-widgets/base",
            "_model_module_version": "1.2.0",
            "_model_name": "LayoutModel",
            "_view_count": null,
            "_view_module": "@jupyter-widgets/base",
            "_view_module_version": "1.2.0",
            "_view_name": "LayoutView",
            "align_content": null,
            "align_items": null,
            "align_self": null,
            "border": null,
            "bottom": null,
            "display": null,
            "flex": null,
            "flex_flow": null,
            "grid_area": null,
            "grid_auto_columns": null,
            "grid_auto_flow": null,
            "grid_auto_rows": null,
            "grid_column": null,
            "grid_gap": null,
            "grid_row": null,
            "grid_template_areas": null,
            "grid_template_columns": null,
            "grid_template_rows": null,
            "height": null,
            "justify_content": null,
            "justify_items": null,
            "left": null,
            "margin": null,
            "max_height": null,
            "max_width": null,
            "min_height": null,
            "min_width": null,
            "object_fit": null,
            "object_position": null,
            "order": null,
            "overflow": null,
            "overflow_x": null,
            "overflow_y": null,
            "padding": null,
            "right": null,
            "top": null,
            "visibility": null,
            "width": null
          }
        },
        "fcd000d766a041f7b92a3886fba14b01": {
          "model_module": "@jupyter-widgets/controls",
          "model_name": "DescriptionStyleModel",
          "model_module_version": "1.5.0",
          "state": {
            "_model_module": "@jupyter-widgets/controls",
            "_model_module_version": "1.5.0",
            "_model_name": "DescriptionStyleModel",
            "_view_count": null,
            "_view_module": "@jupyter-widgets/base",
            "_view_module_version": "1.2.0",
            "_view_name": "StyleView",
            "description_width": ""
          }
        },
        "a5b043c82103492a8860bb33fa6daca0": {
          "model_module": "@jupyter-widgets/controls",
          "model_name": "HBoxModel",
          "model_module_version": "1.5.0",
          "state": {
            "_dom_classes": [],
            "_model_module": "@jupyter-widgets/controls",
            "_model_module_version": "1.5.0",
            "_model_name": "HBoxModel",
            "_view_count": null,
            "_view_module": "@jupyter-widgets/controls",
            "_view_module_version": "1.5.0",
            "_view_name": "HBoxView",
            "box_style": "",
            "children": [
              "IPY_MODEL_9f8af3072fee499fa9aa81a2a6626505",
              "IPY_MODEL_43641a5618844dbfa3eb739154db631b",
              "IPY_MODEL_72bff0fd623b492faa2e5b4371f7ec4b"
            ],
            "layout": "IPY_MODEL_cc13681fd33747dcb3aec4fc545fe12e"
          }
        },
        "9f8af3072fee499fa9aa81a2a6626505": {
          "model_module": "@jupyter-widgets/controls",
          "model_name": "HTMLModel",
          "model_module_version": "1.5.0",
          "state": {
            "_dom_classes": [],
            "_model_module": "@jupyter-widgets/controls",
            "_model_module_version": "1.5.0",
            "_model_name": "HTMLModel",
            "_view_count": null,
            "_view_module": "@jupyter-widgets/controls",
            "_view_module_version": "1.5.0",
            "_view_name": "HTMLView",
            "description": "",
            "description_tooltip": null,
            "layout": "IPY_MODEL_5abfc09cba2140449c907645c15a96d9",
            "placeholder": "​",
            "style": "IPY_MODEL_94590baf016343379a6a1c6c9a67a524",
            "value": "Map: 100%"
          }
        },
        "43641a5618844dbfa3eb739154db631b": {
          "model_module": "@jupyter-widgets/controls",
          "model_name": "FloatProgressModel",
          "model_module_version": "1.5.0",
          "state": {
            "_dom_classes": [],
            "_model_module": "@jupyter-widgets/controls",
            "_model_module_version": "1.5.0",
            "_model_name": "FloatProgressModel",
            "_view_count": null,
            "_view_module": "@jupyter-widgets/controls",
            "_view_module_version": "1.5.0",
            "_view_name": "ProgressView",
            "bar_style": "success",
            "description": "",
            "description_tooltip": null,
            "layout": "IPY_MODEL_f8c4457535ba4d15ba90fd9830c65688",
            "max": 100,
            "min": 0,
            "orientation": "horizontal",
            "style": "IPY_MODEL_27e2834bfd9e42bdb9e8ed1c603c5112",
            "value": 100
          }
        },
        "72bff0fd623b492faa2e5b4371f7ec4b": {
          "model_module": "@jupyter-widgets/controls",
          "model_name": "HTMLModel",
          "model_module_version": "1.5.0",
          "state": {
            "_dom_classes": [],
            "_model_module": "@jupyter-widgets/controls",
            "_model_module_version": "1.5.0",
            "_model_name": "HTMLModel",
            "_view_count": null,
            "_view_module": "@jupyter-widgets/controls",
            "_view_module_version": "1.5.0",
            "_view_name": "HTMLView",
            "description": "",
            "description_tooltip": null,
            "layout": "IPY_MODEL_00c3c13105944920aec82cda6e80e849",
            "placeholder": "​",
            "style": "IPY_MODEL_2f51421cbc964df78c1b2e25d685a1f0",
            "value": " 100/100 [00:00&lt;00:00, 1202.86 examples/s]"
          }
        },
        "cc13681fd33747dcb3aec4fc545fe12e": {
          "model_module": "@jupyter-widgets/base",
          "model_name": "LayoutModel",
          "model_module_version": "1.2.0",
          "state": {
            "_model_module": "@jupyter-widgets/base",
            "_model_module_version": "1.2.0",
            "_model_name": "LayoutModel",
            "_view_count": null,
            "_view_module": "@jupyter-widgets/base",
            "_view_module_version": "1.2.0",
            "_view_name": "LayoutView",
            "align_content": null,
            "align_items": null,
            "align_self": null,
            "border": null,
            "bottom": null,
            "display": null,
            "flex": null,
            "flex_flow": null,
            "grid_area": null,
            "grid_auto_columns": null,
            "grid_auto_flow": null,
            "grid_auto_rows": null,
            "grid_column": null,
            "grid_gap": null,
            "grid_row": null,
            "grid_template_areas": null,
            "grid_template_columns": null,
            "grid_template_rows": null,
            "height": null,
            "justify_content": null,
            "justify_items": null,
            "left": null,
            "margin": null,
            "max_height": null,
            "max_width": null,
            "min_height": null,
            "min_width": null,
            "object_fit": null,
            "object_position": null,
            "order": null,
            "overflow": null,
            "overflow_x": null,
            "overflow_y": null,
            "padding": null,
            "right": null,
            "top": null,
            "visibility": null,
            "width": null
          }
        },
        "5abfc09cba2140449c907645c15a96d9": {
          "model_module": "@jupyter-widgets/base",
          "model_name": "LayoutModel",
          "model_module_version": "1.2.0",
          "state": {
            "_model_module": "@jupyter-widgets/base",
            "_model_module_version": "1.2.0",
            "_model_name": "LayoutModel",
            "_view_count": null,
            "_view_module": "@jupyter-widgets/base",
            "_view_module_version": "1.2.0",
            "_view_name": "LayoutView",
            "align_content": null,
            "align_items": null,
            "align_self": null,
            "border": null,
            "bottom": null,
            "display": null,
            "flex": null,
            "flex_flow": null,
            "grid_area": null,
            "grid_auto_columns": null,
            "grid_auto_flow": null,
            "grid_auto_rows": null,
            "grid_column": null,
            "grid_gap": null,
            "grid_row": null,
            "grid_template_areas": null,
            "grid_template_columns": null,
            "grid_template_rows": null,
            "height": null,
            "justify_content": null,
            "justify_items": null,
            "left": null,
            "margin": null,
            "max_height": null,
            "max_width": null,
            "min_height": null,
            "min_width": null,
            "object_fit": null,
            "object_position": null,
            "order": null,
            "overflow": null,
            "overflow_x": null,
            "overflow_y": null,
            "padding": null,
            "right": null,
            "top": null,
            "visibility": null,
            "width": null
          }
        },
        "94590baf016343379a6a1c6c9a67a524": {
          "model_module": "@jupyter-widgets/controls",
          "model_name": "DescriptionStyleModel",
          "model_module_version": "1.5.0",
          "state": {
            "_model_module": "@jupyter-widgets/controls",
            "_model_module_version": "1.5.0",
            "_model_name": "DescriptionStyleModel",
            "_view_count": null,
            "_view_module": "@jupyter-widgets/base",
            "_view_module_version": "1.2.0",
            "_view_name": "StyleView",
            "description_width": ""
          }
        },
        "f8c4457535ba4d15ba90fd9830c65688": {
          "model_module": "@jupyter-widgets/base",
          "model_name": "LayoutModel",
          "model_module_version": "1.2.0",
          "state": {
            "_model_module": "@jupyter-widgets/base",
            "_model_module_version": "1.2.0",
            "_model_name": "LayoutModel",
            "_view_count": null,
            "_view_module": "@jupyter-widgets/base",
            "_view_module_version": "1.2.0",
            "_view_name": "LayoutView",
            "align_content": null,
            "align_items": null,
            "align_self": null,
            "border": null,
            "bottom": null,
            "display": null,
            "flex": null,
            "flex_flow": null,
            "grid_area": null,
            "grid_auto_columns": null,
            "grid_auto_flow": null,
            "grid_auto_rows": null,
            "grid_column": null,
            "grid_gap": null,
            "grid_row": null,
            "grid_template_areas": null,
            "grid_template_columns": null,
            "grid_template_rows": null,
            "height": null,
            "justify_content": null,
            "justify_items": null,
            "left": null,
            "margin": null,
            "max_height": null,
            "max_width": null,
            "min_height": null,
            "min_width": null,
            "object_fit": null,
            "object_position": null,
            "order": null,
            "overflow": null,
            "overflow_x": null,
            "overflow_y": null,
            "padding": null,
            "right": null,
            "top": null,
            "visibility": null,
            "width": null
          }
        },
        "27e2834bfd9e42bdb9e8ed1c603c5112": {
          "model_module": "@jupyter-widgets/controls",
          "model_name": "ProgressStyleModel",
          "model_module_version": "1.5.0",
          "state": {
            "_model_module": "@jupyter-widgets/controls",
            "_model_module_version": "1.5.0",
            "_model_name": "ProgressStyleModel",
            "_view_count": null,
            "_view_module": "@jupyter-widgets/base",
            "_view_module_version": "1.2.0",
            "_view_name": "StyleView",
            "bar_color": null,
            "description_width": ""
          }
        },
        "00c3c13105944920aec82cda6e80e849": {
          "model_module": "@jupyter-widgets/base",
          "model_name": "LayoutModel",
          "model_module_version": "1.2.0",
          "state": {
            "_model_module": "@jupyter-widgets/base",
            "_model_module_version": "1.2.0",
            "_model_name": "LayoutModel",
            "_view_count": null,
            "_view_module": "@jupyter-widgets/base",
            "_view_module_version": "1.2.0",
            "_view_name": "LayoutView",
            "align_content": null,
            "align_items": null,
            "align_self": null,
            "border": null,
            "bottom": null,
            "display": null,
            "flex": null,
            "flex_flow": null,
            "grid_area": null,
            "grid_auto_columns": null,
            "grid_auto_flow": null,
            "grid_auto_rows": null,
            "grid_column": null,
            "grid_gap": null,
            "grid_row": null,
            "grid_template_areas": null,
            "grid_template_columns": null,
            "grid_template_rows": null,
            "height": null,
            "justify_content": null,
            "justify_items": null,
            "left": null,
            "margin": null,
            "max_height": null,
            "max_width": null,
            "min_height": null,
            "min_width": null,
            "object_fit": null,
            "object_position": null,
            "order": null,
            "overflow": null,
            "overflow_x": null,
            "overflow_y": null,
            "padding": null,
            "right": null,
            "top": null,
            "visibility": null,
            "width": null
          }
        },
        "2f51421cbc964df78c1b2e25d685a1f0": {
          "model_module": "@jupyter-widgets/controls",
          "model_name": "DescriptionStyleModel",
          "model_module_version": "1.5.0",
          "state": {
            "_model_module": "@jupyter-widgets/controls",
            "_model_module_version": "1.5.0",
            "_model_name": "DescriptionStyleModel",
            "_view_count": null,
            "_view_module": "@jupyter-widgets/base",
            "_view_module_version": "1.2.0",
            "_view_name": "StyleView",
            "description_width": ""
          }
        },
        "1969384434194c899380d2c0aa241dd7": {
          "model_module": "@jupyter-widgets/controls",
          "model_name": "HBoxModel",
          "model_module_version": "1.5.0",
          "state": {
            "_dom_classes": [],
            "_model_module": "@jupyter-widgets/controls",
            "_model_module_version": "1.5.0",
            "_model_name": "HBoxModel",
            "_view_count": null,
            "_view_module": "@jupyter-widgets/controls",
            "_view_module_version": "1.5.0",
            "_view_name": "HBoxView",
            "box_style": "",
            "children": [
              "IPY_MODEL_a7e5388eab984f1faeeaac22acf0bc7c",
              "IPY_MODEL_f3cc8c2a22e94abd85d6662327c13e9d",
              "IPY_MODEL_9163412db52e42ce8fd4809b5331724a"
            ],
            "layout": "IPY_MODEL_732601c18d23457585e9a5a33916b402"
          }
        },
        "a7e5388eab984f1faeeaac22acf0bc7c": {
          "model_module": "@jupyter-widgets/controls",
          "model_name": "HTMLModel",
          "model_module_version": "1.5.0",
          "state": {
            "_dom_classes": [],
            "_model_module": "@jupyter-widgets/controls",
            "_model_module_version": "1.5.0",
            "_model_name": "HTMLModel",
            "_view_count": null,
            "_view_module": "@jupyter-widgets/controls",
            "_view_module_version": "1.5.0",
            "_view_name": "HTMLView",
            "description": "",
            "description_tooltip": null,
            "layout": "IPY_MODEL_3f09b3632672423d87f0c774726c6ede",
            "placeholder": "​",
            "style": "IPY_MODEL_e408d881d50641d387f243ed038b68b1",
            "value": "Downloading builder script: "
          }
        },
        "f3cc8c2a22e94abd85d6662327c13e9d": {
          "model_module": "@jupyter-widgets/controls",
          "model_name": "FloatProgressModel",
          "model_module_version": "1.5.0",
          "state": {
            "_dom_classes": [],
            "_model_module": "@jupyter-widgets/controls",
            "_model_module_version": "1.5.0",
            "_model_name": "FloatProgressModel",
            "_view_count": null,
            "_view_module": "@jupyter-widgets/controls",
            "_view_module_version": "1.5.0",
            "_view_name": "ProgressView",
            "bar_style": "success",
            "description": "",
            "description_tooltip": null,
            "layout": "IPY_MODEL_8370b12bca2245ce95d55fc2f05b42ca",
            "max": 1,
            "min": 0,
            "orientation": "horizontal",
            "style": "IPY_MODEL_25d405a53b264f43944516280f8261c8",
            "value": 1
          }
        },
        "9163412db52e42ce8fd4809b5331724a": {
          "model_module": "@jupyter-widgets/controls",
          "model_name": "HTMLModel",
          "model_module_version": "1.5.0",
          "state": {
            "_dom_classes": [],
            "_model_module": "@jupyter-widgets/controls",
            "_model_module_version": "1.5.0",
            "_model_name": "HTMLModel",
            "_view_count": null,
            "_view_module": "@jupyter-widgets/controls",
            "_view_module_version": "1.5.0",
            "_view_name": "HTMLView",
            "description": "",
            "description_tooltip": null,
            "layout": "IPY_MODEL_3924789d8e0743e582702487acc4316c",
            "placeholder": "​",
            "style": "IPY_MODEL_e21f7063fe0140289c3f8636bc8b40da",
            "value": " 4.20k/? [00:00&lt;00:00, 409kB/s]"
          }
        },
        "732601c18d23457585e9a5a33916b402": {
          "model_module": "@jupyter-widgets/base",
          "model_name": "LayoutModel",
          "model_module_version": "1.2.0",
          "state": {
            "_model_module": "@jupyter-widgets/base",
            "_model_module_version": "1.2.0",
            "_model_name": "LayoutModel",
            "_view_count": null,
            "_view_module": "@jupyter-widgets/base",
            "_view_module_version": "1.2.0",
            "_view_name": "LayoutView",
            "align_content": null,
            "align_items": null,
            "align_self": null,
            "border": null,
            "bottom": null,
            "display": null,
            "flex": null,
            "flex_flow": null,
            "grid_area": null,
            "grid_auto_columns": null,
            "grid_auto_flow": null,
            "grid_auto_rows": null,
            "grid_column": null,
            "grid_gap": null,
            "grid_row": null,
            "grid_template_areas": null,
            "grid_template_columns": null,
            "grid_template_rows": null,
            "height": null,
            "justify_content": null,
            "justify_items": null,
            "left": null,
            "margin": null,
            "max_height": null,
            "max_width": null,
            "min_height": null,
            "min_width": null,
            "object_fit": null,
            "object_position": null,
            "order": null,
            "overflow": null,
            "overflow_x": null,
            "overflow_y": null,
            "padding": null,
            "right": null,
            "top": null,
            "visibility": null,
            "width": null
          }
        },
        "3f09b3632672423d87f0c774726c6ede": {
          "model_module": "@jupyter-widgets/base",
          "model_name": "LayoutModel",
          "model_module_version": "1.2.0",
          "state": {
            "_model_module": "@jupyter-widgets/base",
            "_model_module_version": "1.2.0",
            "_model_name": "LayoutModel",
            "_view_count": null,
            "_view_module": "@jupyter-widgets/base",
            "_view_module_version": "1.2.0",
            "_view_name": "LayoutView",
            "align_content": null,
            "align_items": null,
            "align_self": null,
            "border": null,
            "bottom": null,
            "display": null,
            "flex": null,
            "flex_flow": null,
            "grid_area": null,
            "grid_auto_columns": null,
            "grid_auto_flow": null,
            "grid_auto_rows": null,
            "grid_column": null,
            "grid_gap": null,
            "grid_row": null,
            "grid_template_areas": null,
            "grid_template_columns": null,
            "grid_template_rows": null,
            "height": null,
            "justify_content": null,
            "justify_items": null,
            "left": null,
            "margin": null,
            "max_height": null,
            "max_width": null,
            "min_height": null,
            "min_width": null,
            "object_fit": null,
            "object_position": null,
            "order": null,
            "overflow": null,
            "overflow_x": null,
            "overflow_y": null,
            "padding": null,
            "right": null,
            "top": null,
            "visibility": null,
            "width": null
          }
        },
        "e408d881d50641d387f243ed038b68b1": {
          "model_module": "@jupyter-widgets/controls",
          "model_name": "DescriptionStyleModel",
          "model_module_version": "1.5.0",
          "state": {
            "_model_module": "@jupyter-widgets/controls",
            "_model_module_version": "1.5.0",
            "_model_name": "DescriptionStyleModel",
            "_view_count": null,
            "_view_module": "@jupyter-widgets/base",
            "_view_module_version": "1.2.0",
            "_view_name": "StyleView",
            "description_width": ""
          }
        },
        "8370b12bca2245ce95d55fc2f05b42ca": {
          "model_module": "@jupyter-widgets/base",
          "model_name": "LayoutModel",
          "model_module_version": "1.2.0",
          "state": {
            "_model_module": "@jupyter-widgets/base",
            "_model_module_version": "1.2.0",
            "_model_name": "LayoutModel",
            "_view_count": null,
            "_view_module": "@jupyter-widgets/base",
            "_view_module_version": "1.2.0",
            "_view_name": "LayoutView",
            "align_content": null,
            "align_items": null,
            "align_self": null,
            "border": null,
            "bottom": null,
            "display": null,
            "flex": null,
            "flex_flow": null,
            "grid_area": null,
            "grid_auto_columns": null,
            "grid_auto_flow": null,
            "grid_auto_rows": null,
            "grid_column": null,
            "grid_gap": null,
            "grid_row": null,
            "grid_template_areas": null,
            "grid_template_columns": null,
            "grid_template_rows": null,
            "height": null,
            "justify_content": null,
            "justify_items": null,
            "left": null,
            "margin": null,
            "max_height": null,
            "max_width": null,
            "min_height": null,
            "min_width": null,
            "object_fit": null,
            "object_position": null,
            "order": null,
            "overflow": null,
            "overflow_x": null,
            "overflow_y": null,
            "padding": null,
            "right": null,
            "top": null,
            "visibility": null,
            "width": "20px"
          }
        },
        "25d405a53b264f43944516280f8261c8": {
          "model_module": "@jupyter-widgets/controls",
          "model_name": "ProgressStyleModel",
          "model_module_version": "1.5.0",
          "state": {
            "_model_module": "@jupyter-widgets/controls",
            "_model_module_version": "1.5.0",
            "_model_name": "ProgressStyleModel",
            "_view_count": null,
            "_view_module": "@jupyter-widgets/base",
            "_view_module_version": "1.2.0",
            "_view_name": "StyleView",
            "bar_color": null,
            "description_width": ""
          }
        },
        "3924789d8e0743e582702487acc4316c": {
          "model_module": "@jupyter-widgets/base",
          "model_name": "LayoutModel",
          "model_module_version": "1.2.0",
          "state": {
            "_model_module": "@jupyter-widgets/base",
            "_model_module_version": "1.2.0",
            "_model_name": "LayoutModel",
            "_view_count": null,
            "_view_module": "@jupyter-widgets/base",
            "_view_module_version": "1.2.0",
            "_view_name": "LayoutView",
            "align_content": null,
            "align_items": null,
            "align_self": null,
            "border": null,
            "bottom": null,
            "display": null,
            "flex": null,
            "flex_flow": null,
            "grid_area": null,
            "grid_auto_columns": null,
            "grid_auto_flow": null,
            "grid_auto_rows": null,
            "grid_column": null,
            "grid_gap": null,
            "grid_row": null,
            "grid_template_areas": null,
            "grid_template_columns": null,
            "grid_template_rows": null,
            "height": null,
            "justify_content": null,
            "justify_items": null,
            "left": null,
            "margin": null,
            "max_height": null,
            "max_width": null,
            "min_height": null,
            "min_width": null,
            "object_fit": null,
            "object_position": null,
            "order": null,
            "overflow": null,
            "overflow_x": null,
            "overflow_y": null,
            "padding": null,
            "right": null,
            "top": null,
            "visibility": null,
            "width": null
          }
        },
        "e21f7063fe0140289c3f8636bc8b40da": {
          "model_module": "@jupyter-widgets/controls",
          "model_name": "DescriptionStyleModel",
          "model_module_version": "1.5.0",
          "state": {
            "_model_module": "@jupyter-widgets/controls",
            "_model_module_version": "1.5.0",
            "_model_name": "DescriptionStyleModel",
            "_view_count": null,
            "_view_module": "@jupyter-widgets/base",
            "_view_module_version": "1.2.0",
            "_view_name": "StyleView",
            "description_width": ""
          }
        },
        "31d47b2aa9f142b2897f1e3918a23c9a": {
          "model_module": "@jupyter-widgets/controls",
          "model_name": "HBoxModel",
          "model_module_version": "1.5.0",
          "state": {
            "_dom_classes": [],
            "_model_module": "@jupyter-widgets/controls",
            "_model_module_version": "1.5.0",
            "_model_name": "HBoxModel",
            "_view_count": null,
            "_view_module": "@jupyter-widgets/controls",
            "_view_module_version": "1.5.0",
            "_view_name": "HBoxView",
            "box_style": "",
            "children": [
              "IPY_MODEL_b064cc67007c4fdca043ec5d2adae1f9",
              "IPY_MODEL_3e53ab8a66ca4d1eb005ae7b0a6794b9",
              "IPY_MODEL_aafe60eed4c143bcb5692685e0e617a0"
            ],
            "layout": "IPY_MODEL_2f6cca898d3f47549d8153859717f22c"
          }
        },
        "b064cc67007c4fdca043ec5d2adae1f9": {
          "model_module": "@jupyter-widgets/controls",
          "model_name": "HTMLModel",
          "model_module_version": "1.5.0",
          "state": {
            "_dom_classes": [],
            "_model_module": "@jupyter-widgets/controls",
            "_model_module_version": "1.5.0",
            "_model_name": "HTMLModel",
            "_view_count": null,
            "_view_module": "@jupyter-widgets/controls",
            "_view_module_version": "1.5.0",
            "_view_name": "HTMLView",
            "description": "",
            "description_tooltip": null,
            "layout": "IPY_MODEL_4d3ee874655a46c69c9b83382dadc1cf",
            "placeholder": "​",
            "style": "IPY_MODEL_9c08c301563341d19df68947e1d79302",
            "value": "Downloading builder script: "
          }
        },
        "3e53ab8a66ca4d1eb005ae7b0a6794b9": {
          "model_module": "@jupyter-widgets/controls",
          "model_name": "FloatProgressModel",
          "model_module_version": "1.5.0",
          "state": {
            "_dom_classes": [],
            "_model_module": "@jupyter-widgets/controls",
            "_model_module_version": "1.5.0",
            "_model_name": "FloatProgressModel",
            "_view_count": null,
            "_view_module": "@jupyter-widgets/controls",
            "_view_module_version": "1.5.0",
            "_view_name": "ProgressView",
            "bar_style": "success",
            "description": "",
            "description_tooltip": null,
            "layout": "IPY_MODEL_2fa52445a6884daa97bb5a441c3adadf",
            "max": 1,
            "min": 0,
            "orientation": "horizontal",
            "style": "IPY_MODEL_f483a62715174f14867d878ba1982fcd",
            "value": 1
          }
        },
        "aafe60eed4c143bcb5692685e0e617a0": {
          "model_module": "@jupyter-widgets/controls",
          "model_name": "HTMLModel",
          "model_module_version": "1.5.0",
          "state": {
            "_dom_classes": [],
            "_model_module": "@jupyter-widgets/controls",
            "_model_module_version": "1.5.0",
            "_model_name": "HTMLModel",
            "_view_count": null,
            "_view_module": "@jupyter-widgets/controls",
            "_view_module_version": "1.5.0",
            "_view_name": "HTMLView",
            "description": "",
            "description_tooltip": null,
            "layout": "IPY_MODEL_3bfc2142a0854f959fea8c23cf3b7640",
            "placeholder": "​",
            "style": "IPY_MODEL_fbefdce05564439483cb22ddb6325369",
            "value": " 6.79k/? [00:00&lt;00:00, 460kB/s]"
          }
        },
        "2f6cca898d3f47549d8153859717f22c": {
          "model_module": "@jupyter-widgets/base",
          "model_name": "LayoutModel",
          "model_module_version": "1.2.0",
          "state": {
            "_model_module": "@jupyter-widgets/base",
            "_model_module_version": "1.2.0",
            "_model_name": "LayoutModel",
            "_view_count": null,
            "_view_module": "@jupyter-widgets/base",
            "_view_module_version": "1.2.0",
            "_view_name": "LayoutView",
            "align_content": null,
            "align_items": null,
            "align_self": null,
            "border": null,
            "bottom": null,
            "display": null,
            "flex": null,
            "flex_flow": null,
            "grid_area": null,
            "grid_auto_columns": null,
            "grid_auto_flow": null,
            "grid_auto_rows": null,
            "grid_column": null,
            "grid_gap": null,
            "grid_row": null,
            "grid_template_areas": null,
            "grid_template_columns": null,
            "grid_template_rows": null,
            "height": null,
            "justify_content": null,
            "justify_items": null,
            "left": null,
            "margin": null,
            "max_height": null,
            "max_width": null,
            "min_height": null,
            "min_width": null,
            "object_fit": null,
            "object_position": null,
            "order": null,
            "overflow": null,
            "overflow_x": null,
            "overflow_y": null,
            "padding": null,
            "right": null,
            "top": null,
            "visibility": null,
            "width": null
          }
        },
        "4d3ee874655a46c69c9b83382dadc1cf": {
          "model_module": "@jupyter-widgets/base",
          "model_name": "LayoutModel",
          "model_module_version": "1.2.0",
          "state": {
            "_model_module": "@jupyter-widgets/base",
            "_model_module_version": "1.2.0",
            "_model_name": "LayoutModel",
            "_view_count": null,
            "_view_module": "@jupyter-widgets/base",
            "_view_module_version": "1.2.0",
            "_view_name": "LayoutView",
            "align_content": null,
            "align_items": null,
            "align_self": null,
            "border": null,
            "bottom": null,
            "display": null,
            "flex": null,
            "flex_flow": null,
            "grid_area": null,
            "grid_auto_columns": null,
            "grid_auto_flow": null,
            "grid_auto_rows": null,
            "grid_column": null,
            "grid_gap": null,
            "grid_row": null,
            "grid_template_areas": null,
            "grid_template_columns": null,
            "grid_template_rows": null,
            "height": null,
            "justify_content": null,
            "justify_items": null,
            "left": null,
            "margin": null,
            "max_height": null,
            "max_width": null,
            "min_height": null,
            "min_width": null,
            "object_fit": null,
            "object_position": null,
            "order": null,
            "overflow": null,
            "overflow_x": null,
            "overflow_y": null,
            "padding": null,
            "right": null,
            "top": null,
            "visibility": null,
            "width": null
          }
        },
        "9c08c301563341d19df68947e1d79302": {
          "model_module": "@jupyter-widgets/controls",
          "model_name": "DescriptionStyleModel",
          "model_module_version": "1.5.0",
          "state": {
            "_model_module": "@jupyter-widgets/controls",
            "_model_module_version": "1.5.0",
            "_model_name": "DescriptionStyleModel",
            "_view_count": null,
            "_view_module": "@jupyter-widgets/base",
            "_view_module_version": "1.2.0",
            "_view_name": "StyleView",
            "description_width": ""
          }
        },
        "2fa52445a6884daa97bb5a441c3adadf": {
          "model_module": "@jupyter-widgets/base",
          "model_name": "LayoutModel",
          "model_module_version": "1.2.0",
          "state": {
            "_model_module": "@jupyter-widgets/base",
            "_model_module_version": "1.2.0",
            "_model_name": "LayoutModel",
            "_view_count": null,
            "_view_module": "@jupyter-widgets/base",
            "_view_module_version": "1.2.0",
            "_view_name": "LayoutView",
            "align_content": null,
            "align_items": null,
            "align_self": null,
            "border": null,
            "bottom": null,
            "display": null,
            "flex": null,
            "flex_flow": null,
            "grid_area": null,
            "grid_auto_columns": null,
            "grid_auto_flow": null,
            "grid_auto_rows": null,
            "grid_column": null,
            "grid_gap": null,
            "grid_row": null,
            "grid_template_areas": null,
            "grid_template_columns": null,
            "grid_template_rows": null,
            "height": null,
            "justify_content": null,
            "justify_items": null,
            "left": null,
            "margin": null,
            "max_height": null,
            "max_width": null,
            "min_height": null,
            "min_width": null,
            "object_fit": null,
            "object_position": null,
            "order": null,
            "overflow": null,
            "overflow_x": null,
            "overflow_y": null,
            "padding": null,
            "right": null,
            "top": null,
            "visibility": null,
            "width": "20px"
          }
        },
        "f483a62715174f14867d878ba1982fcd": {
          "model_module": "@jupyter-widgets/controls",
          "model_name": "ProgressStyleModel",
          "model_module_version": "1.5.0",
          "state": {
            "_model_module": "@jupyter-widgets/controls",
            "_model_module_version": "1.5.0",
            "_model_name": "ProgressStyleModel",
            "_view_count": null,
            "_view_module": "@jupyter-widgets/base",
            "_view_module_version": "1.2.0",
            "_view_name": "StyleView",
            "bar_color": null,
            "description_width": ""
          }
        },
        "3bfc2142a0854f959fea8c23cf3b7640": {
          "model_module": "@jupyter-widgets/base",
          "model_name": "LayoutModel",
          "model_module_version": "1.2.0",
          "state": {
            "_model_module": "@jupyter-widgets/base",
            "_model_module_version": "1.2.0",
            "_model_name": "LayoutModel",
            "_view_count": null,
            "_view_module": "@jupyter-widgets/base",
            "_view_module_version": "1.2.0",
            "_view_name": "LayoutView",
            "align_content": null,
            "align_items": null,
            "align_self": null,
            "border": null,
            "bottom": null,
            "display": null,
            "flex": null,
            "flex_flow": null,
            "grid_area": null,
            "grid_auto_columns": null,
            "grid_auto_flow": null,
            "grid_auto_rows": null,
            "grid_column": null,
            "grid_gap": null,
            "grid_row": null,
            "grid_template_areas": null,
            "grid_template_columns": null,
            "grid_template_rows": null,
            "height": null,
            "justify_content": null,
            "justify_items": null,
            "left": null,
            "margin": null,
            "max_height": null,
            "max_width": null,
            "min_height": null,
            "min_width": null,
            "object_fit": null,
            "object_position": null,
            "order": null,
            "overflow": null,
            "overflow_x": null,
            "overflow_y": null,
            "padding": null,
            "right": null,
            "top": null,
            "visibility": null,
            "width": null
          }
        },
        "fbefdce05564439483cb22ddb6325369": {
          "model_module": "@jupyter-widgets/controls",
          "model_name": "DescriptionStyleModel",
          "model_module_version": "1.5.0",
          "state": {
            "_model_module": "@jupyter-widgets/controls",
            "_model_module_version": "1.5.0",
            "_model_name": "DescriptionStyleModel",
            "_view_count": null,
            "_view_module": "@jupyter-widgets/base",
            "_view_module_version": "1.2.0",
            "_view_name": "StyleView",
            "description_width": ""
          }
        },
        "a1f65681026a4716a32e4b2047cd3cd6": {
          "model_module": "@jupyter-widgets/controls",
          "model_name": "HBoxModel",
          "model_module_version": "1.5.0",
          "state": {
            "_dom_classes": [],
            "_model_module": "@jupyter-widgets/controls",
            "_model_module_version": "1.5.0",
            "_model_name": "HBoxModel",
            "_view_count": null,
            "_view_module": "@jupyter-widgets/controls",
            "_view_module_version": "1.5.0",
            "_view_name": "HBoxView",
            "box_style": "",
            "children": [
              "IPY_MODEL_277b41c1dd734ccebe6c5346883f60ce",
              "IPY_MODEL_037ad14d8d9d4b468601cb7de327f601",
              "IPY_MODEL_da06fb459f0844bf9aec879151c9d1c7"
            ],
            "layout": "IPY_MODEL_fb31ea81383549ffa871fe7c10ac8b5f"
          }
        },
        "277b41c1dd734ccebe6c5346883f60ce": {
          "model_module": "@jupyter-widgets/controls",
          "model_name": "HTMLModel",
          "model_module_version": "1.5.0",
          "state": {
            "_dom_classes": [],
            "_model_module": "@jupyter-widgets/controls",
            "_model_module_version": "1.5.0",
            "_model_name": "HTMLModel",
            "_view_count": null,
            "_view_module": "@jupyter-widgets/controls",
            "_view_module_version": "1.5.0",
            "_view_name": "HTMLView",
            "description": "",
            "description_tooltip": null,
            "layout": "IPY_MODEL_fb820851008f45e28c42f970b6746b21",
            "placeholder": "​",
            "style": "IPY_MODEL_4b6617a47c9b41729e08cc0b59b991d5",
            "value": "model.safetensors: 100%"
          }
        },
        "037ad14d8d9d4b468601cb7de327f601": {
          "model_module": "@jupyter-widgets/controls",
          "model_name": "FloatProgressModel",
          "model_module_version": "1.5.0",
          "state": {
            "_dom_classes": [],
            "_model_module": "@jupyter-widgets/controls",
            "_model_module_version": "1.5.0",
            "_model_name": "FloatProgressModel",
            "_view_count": null,
            "_view_module": "@jupyter-widgets/controls",
            "_view_module_version": "1.5.0",
            "_view_name": "ProgressView",
            "bar_style": "success",
            "description": "",
            "description_tooltip": null,
            "layout": "IPY_MODEL_e7ba89950ace4fd591919fdda289df26",
            "max": 444989788,
            "min": 0,
            "orientation": "horizontal",
            "style": "IPY_MODEL_df36489015d441bc9a0d6e1a8d72b0fe",
            "value": 444989788
          }
        },
        "da06fb459f0844bf9aec879151c9d1c7": {
          "model_module": "@jupyter-widgets/controls",
          "model_name": "HTMLModel",
          "model_module_version": "1.5.0",
          "state": {
            "_dom_classes": [],
            "_model_module": "@jupyter-widgets/controls",
            "_model_module_version": "1.5.0",
            "_model_name": "HTMLModel",
            "_view_count": null,
            "_view_module": "@jupyter-widgets/controls",
            "_view_module_version": "1.5.0",
            "_view_name": "HTMLView",
            "description": "",
            "description_tooltip": null,
            "layout": "IPY_MODEL_dce000b13e794b5a9ee002886440732b",
            "placeholder": "​",
            "style": "IPY_MODEL_a98bf256acfa472697bde907c5567748",
            "value": " 445M/445M [00:15&lt;00:00, 16.9MB/s]"
          }
        },
        "fb31ea81383549ffa871fe7c10ac8b5f": {
          "model_module": "@jupyter-widgets/base",
          "model_name": "LayoutModel",
          "model_module_version": "1.2.0",
          "state": {
            "_model_module": "@jupyter-widgets/base",
            "_model_module_version": "1.2.0",
            "_model_name": "LayoutModel",
            "_view_count": null,
            "_view_module": "@jupyter-widgets/base",
            "_view_module_version": "1.2.0",
            "_view_name": "LayoutView",
            "align_content": null,
            "align_items": null,
            "align_self": null,
            "border": null,
            "bottom": null,
            "display": null,
            "flex": null,
            "flex_flow": null,
            "grid_area": null,
            "grid_auto_columns": null,
            "grid_auto_flow": null,
            "grid_auto_rows": null,
            "grid_column": null,
            "grid_gap": null,
            "grid_row": null,
            "grid_template_areas": null,
            "grid_template_columns": null,
            "grid_template_rows": null,
            "height": null,
            "justify_content": null,
            "justify_items": null,
            "left": null,
            "margin": null,
            "max_height": null,
            "max_width": null,
            "min_height": null,
            "min_width": null,
            "object_fit": null,
            "object_position": null,
            "order": null,
            "overflow": null,
            "overflow_x": null,
            "overflow_y": null,
            "padding": null,
            "right": null,
            "top": null,
            "visibility": null,
            "width": null
          }
        },
        "fb820851008f45e28c42f970b6746b21": {
          "model_module": "@jupyter-widgets/base",
          "model_name": "LayoutModel",
          "model_module_version": "1.2.0",
          "state": {
            "_model_module": "@jupyter-widgets/base",
            "_model_module_version": "1.2.0",
            "_model_name": "LayoutModel",
            "_view_count": null,
            "_view_module": "@jupyter-widgets/base",
            "_view_module_version": "1.2.0",
            "_view_name": "LayoutView",
            "align_content": null,
            "align_items": null,
            "align_self": null,
            "border": null,
            "bottom": null,
            "display": null,
            "flex": null,
            "flex_flow": null,
            "grid_area": null,
            "grid_auto_columns": null,
            "grid_auto_flow": null,
            "grid_auto_rows": null,
            "grid_column": null,
            "grid_gap": null,
            "grid_row": null,
            "grid_template_areas": null,
            "grid_template_columns": null,
            "grid_template_rows": null,
            "height": null,
            "justify_content": null,
            "justify_items": null,
            "left": null,
            "margin": null,
            "max_height": null,
            "max_width": null,
            "min_height": null,
            "min_width": null,
            "object_fit": null,
            "object_position": null,
            "order": null,
            "overflow": null,
            "overflow_x": null,
            "overflow_y": null,
            "padding": null,
            "right": null,
            "top": null,
            "visibility": null,
            "width": null
          }
        },
        "4b6617a47c9b41729e08cc0b59b991d5": {
          "model_module": "@jupyter-widgets/controls",
          "model_name": "DescriptionStyleModel",
          "model_module_version": "1.5.0",
          "state": {
            "_model_module": "@jupyter-widgets/controls",
            "_model_module_version": "1.5.0",
            "_model_name": "DescriptionStyleModel",
            "_view_count": null,
            "_view_module": "@jupyter-widgets/base",
            "_view_module_version": "1.2.0",
            "_view_name": "StyleView",
            "description_width": ""
          }
        },
        "e7ba89950ace4fd591919fdda289df26": {
          "model_module": "@jupyter-widgets/base",
          "model_name": "LayoutModel",
          "model_module_version": "1.2.0",
          "state": {
            "_model_module": "@jupyter-widgets/base",
            "_model_module_version": "1.2.0",
            "_model_name": "LayoutModel",
            "_view_count": null,
            "_view_module": "@jupyter-widgets/base",
            "_view_module_version": "1.2.0",
            "_view_name": "LayoutView",
            "align_content": null,
            "align_items": null,
            "align_self": null,
            "border": null,
            "bottom": null,
            "display": null,
            "flex": null,
            "flex_flow": null,
            "grid_area": null,
            "grid_auto_columns": null,
            "grid_auto_flow": null,
            "grid_auto_rows": null,
            "grid_column": null,
            "grid_gap": null,
            "grid_row": null,
            "grid_template_areas": null,
            "grid_template_columns": null,
            "grid_template_rows": null,
            "height": null,
            "justify_content": null,
            "justify_items": null,
            "left": null,
            "margin": null,
            "max_height": null,
            "max_width": null,
            "min_height": null,
            "min_width": null,
            "object_fit": null,
            "object_position": null,
            "order": null,
            "overflow": null,
            "overflow_x": null,
            "overflow_y": null,
            "padding": null,
            "right": null,
            "top": null,
            "visibility": null,
            "width": null
          }
        },
        "df36489015d441bc9a0d6e1a8d72b0fe": {
          "model_module": "@jupyter-widgets/controls",
          "model_name": "ProgressStyleModel",
          "model_module_version": "1.5.0",
          "state": {
            "_model_module": "@jupyter-widgets/controls",
            "_model_module_version": "1.5.0",
            "_model_name": "ProgressStyleModel",
            "_view_count": null,
            "_view_module": "@jupyter-widgets/base",
            "_view_module_version": "1.2.0",
            "_view_name": "StyleView",
            "bar_color": null,
            "description_width": ""
          }
        },
        "dce000b13e794b5a9ee002886440732b": {
          "model_module": "@jupyter-widgets/base",
          "model_name": "LayoutModel",
          "model_module_version": "1.2.0",
          "state": {
            "_model_module": "@jupyter-widgets/base",
            "_model_module_version": "1.2.0",
            "_model_name": "LayoutModel",
            "_view_count": null,
            "_view_module": "@jupyter-widgets/base",
            "_view_module_version": "1.2.0",
            "_view_name": "LayoutView",
            "align_content": null,
            "align_items": null,
            "align_self": null,
            "border": null,
            "bottom": null,
            "display": null,
            "flex": null,
            "flex_flow": null,
            "grid_area": null,
            "grid_auto_columns": null,
            "grid_auto_flow": null,
            "grid_auto_rows": null,
            "grid_column": null,
            "grid_gap": null,
            "grid_row": null,
            "grid_template_areas": null,
            "grid_template_columns": null,
            "grid_template_rows": null,
            "height": null,
            "justify_content": null,
            "justify_items": null,
            "left": null,
            "margin": null,
            "max_height": null,
            "max_width": null,
            "min_height": null,
            "min_width": null,
            "object_fit": null,
            "object_position": null,
            "order": null,
            "overflow": null,
            "overflow_x": null,
            "overflow_y": null,
            "padding": null,
            "right": null,
            "top": null,
            "visibility": null,
            "width": null
          }
        },
        "a98bf256acfa472697bde907c5567748": {
          "model_module": "@jupyter-widgets/controls",
          "model_name": "DescriptionStyleModel",
          "model_module_version": "1.5.0",
          "state": {
            "_model_module": "@jupyter-widgets/controls",
            "_model_module_version": "1.5.0",
            "_model_name": "DescriptionStyleModel",
            "_view_count": null,
            "_view_module": "@jupyter-widgets/base",
            "_view_module_version": "1.2.0",
            "_view_name": "StyleView",
            "description_width": ""
          }
        }
      }
    }
  },
  "cells": [
    {
      "cell_type": "code",
      "execution_count": null,
      "metadata": {
        "colab": {
          "base_uri": "https://localhost:8080/",
          "height": 1000
        },
        "id": "rcDDawdcPMGa",
        "outputId": "5f198d97-9f8c-4964-89f6-e2cb58ba3c87"
      },
      "outputs": [
        {
          "output_type": "stream",
          "name": "stdout",
          "text": [
            "Collecting numpy\n",
            "  Downloading numpy-2.3.2-cp311-cp311-manylinux_2_27_x86_64.manylinux_2_28_x86_64.whl.metadata (62 kB)\n",
            "\u001b[?25l     \u001b[90m━━━━━━━━━━━━━━━━━━━━━━━━━━━━━━━━━━━━━━━━\u001b[0m \u001b[32m0.0/62.1 kB\u001b[0m \u001b[31m?\u001b[0m eta \u001b[36m-:--:--\u001b[0m\r\u001b[2K     \u001b[90m━━━━━━━━━━━━━━━━━━━━━━━━━━━━━━━━━━━━━━━━\u001b[0m \u001b[32m62.1/62.1 kB\u001b[0m \u001b[31m3.0 MB/s\u001b[0m eta \u001b[36m0:00:00\u001b[0m\n",
            "\u001b[?25hCollecting pandas==1.5.3\n",
            "  Downloading pandas-1.5.3-cp311-cp311-manylinux_2_17_x86_64.manylinux2014_x86_64.whl.metadata (11 kB)\n",
            "Collecting requests==2.28.2\n",
            "  Downloading requests-2.28.2-py3-none-any.whl.metadata (4.6 kB)\n",
            "Collecting pyarrow==10.0.1\n",
            "  Downloading pyarrow-10.0.1-cp311-cp311-manylinux_2_17_x86_64.manylinux2014_x86_64.whl.metadata (3.0 kB)\n",
            "Collecting scipy==1.10.1\n",
            "  Downloading scipy-1.10.1-cp311-cp311-manylinux_2_17_x86_64.manylinux2014_x86_64.whl.metadata (58 kB)\n",
            "\u001b[2K     \u001b[90m━━━━━━━━━━━━━━━━━━━━━━━━━━━━━━━━━━━━━━━━\u001b[0m \u001b[32m58.9/58.9 kB\u001b[0m \u001b[31m5.0 MB/s\u001b[0m eta \u001b[36m0:00:00\u001b[0m\n",
            "\u001b[?25hCollecting opencv-python-headless==4.8.0.76\n",
            "  Downloading opencv_python_headless-4.8.0.76-cp37-abi3-manylinux_2_17_x86_64.manylinux2014_x86_64.whl.metadata (19 kB)\n",
            "Requirement already satisfied: transformers in /usr/local/lib/python3.11/dist-packages (4.55.0)\n",
            "Collecting transformers\n",
            "  Downloading transformers-4.55.2-py3-none-any.whl.metadata (41 kB)\n",
            "\u001b[2K     \u001b[90m━━━━━━━━━━━━━━━━━━━━━━━━━━━━━━━━━━━━━━━━\u001b[0m \u001b[32m42.0/42.0 kB\u001b[0m \u001b[31m3.8 MB/s\u001b[0m eta \u001b[36m0:00:00\u001b[0m\n",
            "\u001b[?25hRequirement already satisfied: datasets in /usr/local/lib/python3.11/dist-packages (4.0.0)\n",
            "Collecting evaluate\n",
            "  Downloading evaluate-0.4.5-py3-none-any.whl.metadata (9.5 kB)\n",
            "Collecting nltk==3.8.1\n",
            "  Downloading nltk-3.8.1-py3-none-any.whl.metadata (2.8 kB)\n",
            "Collecting textattack\n",
            "  Downloading textattack-0.3.10-py3-none-any.whl.metadata (38 kB)\n",
            "Collecting gensim==4.3.2\n",
            "  Downloading gensim-4.3.2-cp311-cp311-manylinux_2_17_x86_64.manylinux2014_x86_64.whl.metadata (8.3 kB)\n",
            "Collecting farasapy==0.0.11\n",
            "  Downloading farasapy-0.0.11-py3-none-any.whl.metadata (8.9 kB)\n",
            "Requirement already satisfied: python-dateutil>=2.8.1 in /usr/local/lib/python3.11/dist-packages (from pandas==1.5.3) (2.9.0.post0)\n",
            "Requirement already satisfied: pytz>=2020.1 in /usr/local/lib/python3.11/dist-packages (from pandas==1.5.3) (2025.2)\n",
            "Requirement already satisfied: charset-normalizer<4,>=2 in /usr/local/lib/python3.11/dist-packages (from requests==2.28.2) (3.4.3)\n",
            "Requirement already satisfied: idna<4,>=2.5 in /usr/local/lib/python3.11/dist-packages (from requests==2.28.2) (3.10)\n",
            "Collecting urllib3<1.27,>=1.21.1 (from requests==2.28.2)\n",
            "  Downloading urllib3-1.26.20-py2.py3-none-any.whl.metadata (50 kB)\n",
            "\u001b[2K     \u001b[90m━━━━━━━━━━━━━━━━━━━━━━━━━━━━━━━━━━━━━━━━\u001b[0m \u001b[32m50.1/50.1 kB\u001b[0m \u001b[31m4.4 MB/s\u001b[0m eta \u001b[36m0:00:00\u001b[0m\n",
            "\u001b[?25hRequirement already satisfied: certifi>=2017.4.17 in /usr/local/lib/python3.11/dist-packages (from requests==2.28.2) (2025.8.3)\n",
            "Collecting numpy\n",
            "  Downloading numpy-1.26.4-cp311-cp311-manylinux_2_17_x86_64.manylinux2014_x86_64.whl.metadata (61 kB)\n",
            "\u001b[2K     \u001b[90m━━━━━━━━━━━━━━━━━━━━━━━━━━━━━━━━━━━━━━━━\u001b[0m \u001b[32m61.0/61.0 kB\u001b[0m \u001b[31m5.8 MB/s\u001b[0m eta \u001b[36m0:00:00\u001b[0m\n",
            "\u001b[?25hRequirement already satisfied: click in /usr/local/lib/python3.11/dist-packages (from nltk==3.8.1) (8.2.1)\n",
            "Requirement already satisfied: joblib in /usr/local/lib/python3.11/dist-packages (from nltk==3.8.1) (1.5.1)\n",
            "Requirement already satisfied: regex>=2021.8.3 in /usr/local/lib/python3.11/dist-packages (from nltk==3.8.1) (2024.11.6)\n",
            "Requirement already satisfied: tqdm in /usr/local/lib/python3.11/dist-packages (from nltk==3.8.1) (4.67.1)\n",
            "Requirement already satisfied: smart-open>=1.8.1 in /usr/local/lib/python3.11/dist-packages (from gensim==4.3.2) (7.3.0.post1)\n",
            "Requirement already satisfied: filelock in /usr/local/lib/python3.11/dist-packages (from transformers) (3.18.0)\n",
            "Requirement already satisfied: huggingface-hub<1.0,>=0.34.0 in /usr/local/lib/python3.11/dist-packages (from transformers) (0.34.4)\n",
            "Requirement already satisfied: packaging>=20.0 in /usr/local/lib/python3.11/dist-packages (from transformers) (25.0)\n",
            "Requirement already satisfied: pyyaml>=5.1 in /usr/local/lib/python3.11/dist-packages (from transformers) (6.0.2)\n",
            "Requirement already satisfied: tokenizers<0.22,>=0.21 in /usr/local/lib/python3.11/dist-packages (from transformers) (0.21.4)\n",
            "Requirement already satisfied: safetensors>=0.4.3 in /usr/local/lib/python3.11/dist-packages (from transformers) (0.6.2)\n",
            "INFO: pip is looking at multiple versions of datasets to determine which version is compatible with other requirements. This could take a while.\n",
            "Collecting datasets\n",
            "  Downloading datasets-4.0.0-py3-none-any.whl.metadata (19 kB)\n",
            "  Downloading datasets-3.6.0-py3-none-any.whl.metadata (19 kB)\n",
            "  Downloading datasets-3.5.1-py3-none-any.whl.metadata (19 kB)\n",
            "  Downloading datasets-3.5.0-py3-none-any.whl.metadata (19 kB)\n",
            "INFO: pip is still looking at multiple versions of datasets to determine which version is compatible with other requirements. This could take a while.\n",
            "  Downloading datasets-3.4.1-py3-none-any.whl.metadata (19 kB)\n",
            "  Downloading datasets-3.4.0-py3-none-any.whl.metadata (19 kB)\n",
            "INFO: This is taking longer than usual. You might need to provide the dependency resolver with stricter constraints to reduce runtime. See https://pip.pypa.io/warnings/backtracking for guidance. If you want to abort this run, press Ctrl + C.\n",
            "  Downloading datasets-3.3.2-py3-none-any.whl.metadata (19 kB)\n",
            "  Downloading datasets-3.3.1-py3-none-any.whl.metadata (19 kB)\n",
            "  Downloading datasets-3.3.0-py3-none-any.whl.metadata (19 kB)\n",
            "  Downloading datasets-3.2.0-py3-none-any.whl.metadata (20 kB)\n",
            "  Downloading datasets-3.1.0-py3-none-any.whl.metadata (20 kB)\n",
            "  Downloading datasets-3.0.2-py3-none-any.whl.metadata (20 kB)\n",
            "  Downloading datasets-3.0.1-py3-none-any.whl.metadata (20 kB)\n",
            "  Downloading datasets-3.0.0-py3-none-any.whl.metadata (19 kB)\n",
            "  Downloading datasets-2.21.0-py3-none-any.whl.metadata (21 kB)\n",
            "  Downloading datasets-2.20.0-py3-none-any.whl.metadata (19 kB)\n",
            "  Downloading datasets-2.19.2-py3-none-any.whl.metadata (19 kB)\n",
            "  Downloading datasets-2.19.1-py3-none-any.whl.metadata (19 kB)\n",
            "  Downloading datasets-2.19.0-py3-none-any.whl.metadata (19 kB)\n",
            "  Downloading datasets-2.18.0-py3-none-any.whl.metadata (20 kB)\n",
            "  Downloading datasets-2.17.1-py3-none-any.whl.metadata (20 kB)\n",
            "  Downloading datasets-2.17.0-py3-none-any.whl.metadata (20 kB)\n",
            "  Downloading datasets-2.16.1-py3-none-any.whl.metadata (20 kB)\n",
            "Collecting pyarrow-hotfix (from datasets)\n",
            "  Downloading pyarrow_hotfix-0.7-py3-none-any.whl.metadata (3.6 kB)\n",
            "Collecting dill<0.3.8,>=0.3.0 (from datasets)\n",
            "  Downloading dill-0.3.7-py3-none-any.whl.metadata (9.9 kB)\n",
            "Requirement already satisfied: xxhash in /usr/local/lib/python3.11/dist-packages (from datasets) (3.5.0)\n",
            "Requirement already satisfied: multiprocess in /usr/local/lib/python3.11/dist-packages (from datasets) (0.70.16)\n",
            "Collecting fsspec<=2023.10.0,>=2023.1.0 (from fsspec[http]<=2023.10.0,>=2023.1.0->datasets)\n",
            "  Downloading fsspec-2023.10.0-py3-none-any.whl.metadata (6.8 kB)\n",
            "Requirement already satisfied: aiohttp in /usr/local/lib/python3.11/dist-packages (from datasets) (3.12.15)\n",
            "Collecting bert-score>=0.3.5 (from textattack)\n",
            "  Downloading bert_score-0.3.13-py3-none-any.whl.metadata (15 kB)\n",
            "Requirement already satisfied: editdistance in /usr/local/lib/python3.11/dist-packages (from textattack) (0.8.1)\n",
            "Collecting flair (from textattack)\n",
            "  Downloading flair-0.15.1-py3-none-any.whl.metadata (12 kB)\n",
            "Collecting language-tool-python (from textattack)\n",
            "  Downloading language_tool_python-2.9.4-py3-none-any.whl.metadata (55 kB)\n",
            "\u001b[2K     \u001b[90m━━━━━━━━━━━━━━━━━━━━━━━━━━━━━━━━━━━━━━━━\u001b[0m \u001b[32m55.5/55.5 kB\u001b[0m \u001b[31m5.5 MB/s\u001b[0m eta \u001b[36m0:00:00\u001b[0m\n",
            "\u001b[?25hCollecting lemminflect (from textattack)\n",
            "  Downloading lemminflect-0.2.3-py3-none-any.whl.metadata (7.0 kB)\n",
            "Collecting lru-dict (from textattack)\n",
            "  Downloading lru_dict-1.3.0-cp311-cp311-manylinux_2_5_x86_64.manylinux1_x86_64.manylinux_2_17_x86_64.manylinux2014_x86_64.whl.metadata (4.5 kB)\n",
            "Requirement already satisfied: torch!=1.8,>=1.7.0 in /usr/local/lib/python3.11/dist-packages (from textattack) (2.6.0+cu124)\n",
            "Collecting terminaltables (from textattack)\n",
            "  Downloading terminaltables-3.1.10-py2.py3-none-any.whl.metadata (3.5 kB)\n",
            "Collecting word2number (from textattack)\n",
            "  Downloading word2number-1.1.zip (9.7 kB)\n",
            "  Preparing metadata (setup.py) ... \u001b[?25l\u001b[?25hdone\n",
            "Collecting num2words (from textattack)\n",
            "  Downloading num2words-0.5.14-py3-none-any.whl.metadata (13 kB)\n",
            "Requirement already satisfied: more-itertools in /usr/local/lib/python3.11/dist-packages (from textattack) (10.7.0)\n",
            "Collecting pinyin>=0.4.0 (from textattack)\n",
            "  Downloading pinyin-0.4.0.tar.gz (3.6 MB)\n",
            "\u001b[2K     \u001b[90m━━━━━━━━━━━━━━━━━━━━━━━━━━━━━━━━━━━━━━━━\u001b[0m \u001b[32m3.6/3.6 MB\u001b[0m \u001b[31m60.1 MB/s\u001b[0m eta \u001b[36m0:00:00\u001b[0m\n",
            "\u001b[?25h  Preparing metadata (setup.py) ... \u001b[?25l\u001b[?25hdone\n",
            "Requirement already satisfied: jieba in /usr/local/lib/python3.11/dist-packages (from textattack) (0.42.1)\n",
            "Collecting OpenHowNet (from textattack)\n",
            "  Downloading OpenHowNet-2.0-py3-none-any.whl.metadata (821 bytes)\n",
            "Requirement already satisfied: matplotlib in /usr/local/lib/python3.11/dist-packages (from bert-score>=0.3.5->textattack) (3.10.0)\n",
            "Requirement already satisfied: aiohappyeyeballs>=2.5.0 in /usr/local/lib/python3.11/dist-packages (from aiohttp->datasets) (2.6.1)\n",
            "Requirement already satisfied: aiosignal>=1.4.0 in /usr/local/lib/python3.11/dist-packages (from aiohttp->datasets) (1.4.0)\n",
            "Requirement already satisfied: attrs>=17.3.0 in /usr/local/lib/python3.11/dist-packages (from aiohttp->datasets) (25.3.0)\n",
            "Requirement already satisfied: frozenlist>=1.1.1 in /usr/local/lib/python3.11/dist-packages (from aiohttp->datasets) (1.7.0)\n",
            "Requirement already satisfied: multidict<7.0,>=4.5 in /usr/local/lib/python3.11/dist-packages (from aiohttp->datasets) (6.6.4)\n",
            "Requirement already satisfied: propcache>=0.2.0 in /usr/local/lib/python3.11/dist-packages (from aiohttp->datasets) (0.3.2)\n",
            "Requirement already satisfied: yarl<2.0,>=1.17.0 in /usr/local/lib/python3.11/dist-packages (from aiohttp->datasets) (1.20.1)\n",
            "Requirement already satisfied: typing-extensions>=3.7.4.3 in /usr/local/lib/python3.11/dist-packages (from huggingface-hub<1.0,>=0.34.0->transformers) (4.14.1)\n",
            "Requirement already satisfied: hf-xet<2.0.0,>=1.1.3 in /usr/local/lib/python3.11/dist-packages (from huggingface-hub<1.0,>=0.34.0->transformers) (1.1.7)\n",
            "Requirement already satisfied: six>=1.5 in /usr/local/lib/python3.11/dist-packages (from python-dateutil>=2.8.1->pandas==1.5.3) (1.17.0)\n",
            "Requirement already satisfied: wrapt in /usr/local/lib/python3.11/dist-packages (from smart-open>=1.8.1->gensim==4.3.2) (1.17.2)\n",
            "Requirement already satisfied: networkx in /usr/local/lib/python3.11/dist-packages (from torch!=1.8,>=1.7.0->textattack) (3.5)\n",
            "Requirement already satisfied: jinja2 in /usr/local/lib/python3.11/dist-packages (from torch!=1.8,>=1.7.0->textattack) (3.1.6)\n",
            "Collecting nvidia-cuda-nvrtc-cu12==12.4.127 (from torch!=1.8,>=1.7.0->textattack)\n",
            "  Downloading nvidia_cuda_nvrtc_cu12-12.4.127-py3-none-manylinux2014_x86_64.whl.metadata (1.5 kB)\n",
            "Collecting nvidia-cuda-runtime-cu12==12.4.127 (from torch!=1.8,>=1.7.0->textattack)\n",
            "  Downloading nvidia_cuda_runtime_cu12-12.4.127-py3-none-manylinux2014_x86_64.whl.metadata (1.5 kB)\n",
            "Collecting nvidia-cuda-cupti-cu12==12.4.127 (from torch!=1.8,>=1.7.0->textattack)\n",
            "  Downloading nvidia_cuda_cupti_cu12-12.4.127-py3-none-manylinux2014_x86_64.whl.metadata (1.6 kB)\n",
            "Collecting nvidia-cudnn-cu12==9.1.0.70 (from torch!=1.8,>=1.7.0->textattack)\n",
            "  Downloading nvidia_cudnn_cu12-9.1.0.70-py3-none-manylinux2014_x86_64.whl.metadata (1.6 kB)\n",
            "Collecting nvidia-cublas-cu12==12.4.5.8 (from torch!=1.8,>=1.7.0->textattack)\n",
            "  Downloading nvidia_cublas_cu12-12.4.5.8-py3-none-manylinux2014_x86_64.whl.metadata (1.5 kB)\n",
            "Collecting nvidia-cufft-cu12==11.2.1.3 (from torch!=1.8,>=1.7.0->textattack)\n",
            "  Downloading nvidia_cufft_cu12-11.2.1.3-py3-none-manylinux2014_x86_64.whl.metadata (1.5 kB)\n",
            "Collecting nvidia-curand-cu12==10.3.5.147 (from torch!=1.8,>=1.7.0->textattack)\n",
            "  Downloading nvidia_curand_cu12-10.3.5.147-py3-none-manylinux2014_x86_64.whl.metadata (1.5 kB)\n",
            "Collecting nvidia-cusolver-cu12==11.6.1.9 (from torch!=1.8,>=1.7.0->textattack)\n",
            "  Downloading nvidia_cusolver_cu12-11.6.1.9-py3-none-manylinux2014_x86_64.whl.metadata (1.6 kB)\n",
            "Collecting nvidia-cusparse-cu12==12.3.1.170 (from torch!=1.8,>=1.7.0->textattack)\n",
            "  Downloading nvidia_cusparse_cu12-12.3.1.170-py3-none-manylinux2014_x86_64.whl.metadata (1.6 kB)\n",
            "Requirement already satisfied: nvidia-cusparselt-cu12==0.6.2 in /usr/local/lib/python3.11/dist-packages (from torch!=1.8,>=1.7.0->textattack) (0.6.2)\n",
            "Collecting nvidia-nccl-cu12==2.21.5 (from torch!=1.8,>=1.7.0->textattack)\n",
            "  Downloading nvidia_nccl_cu12-2.21.5-py3-none-manylinux2014_x86_64.whl.metadata (1.8 kB)\n",
            "Requirement already satisfied: nvidia-nvtx-cu12==12.4.127 in /usr/local/lib/python3.11/dist-packages (from torch!=1.8,>=1.7.0->textattack) (12.4.127)\n",
            "Collecting nvidia-nvjitlink-cu12==12.4.127 (from torch!=1.8,>=1.7.0->textattack)\n",
            "  Downloading nvidia_nvjitlink_cu12-12.4.127-py3-none-manylinux2014_x86_64.whl.metadata (1.5 kB)\n",
            "Requirement already satisfied: triton==3.2.0 in /usr/local/lib/python3.11/dist-packages (from torch!=1.8,>=1.7.0->textattack) (3.2.0)\n",
            "Requirement already satisfied: sympy==1.13.1 in /usr/local/lib/python3.11/dist-packages (from torch!=1.8,>=1.7.0->textattack) (1.13.1)\n",
            "Requirement already satisfied: mpmath<1.4,>=1.1.0 in /usr/local/lib/python3.11/dist-packages (from sympy==1.13.1->torch!=1.8,>=1.7.0->textattack) (1.3.0)\n",
            "Collecting boto3>=1.20.27 (from flair->textattack)\n",
            "  Downloading boto3-1.40.9-py3-none-any.whl.metadata (6.7 kB)\n",
            "Collecting conllu<5.0.0,>=4.0 (from flair->textattack)\n",
            "  Downloading conllu-4.5.3-py2.py3-none-any.whl.metadata (19 kB)\n",
            "Collecting deprecated>=1.2.13 (from flair->textattack)\n",
            "  Downloading Deprecated-1.2.18-py2.py3-none-any.whl.metadata (5.7 kB)\n",
            "Collecting ftfy>=6.1.0 (from flair->textattack)\n",
            "  Downloading ftfy-6.3.1-py3-none-any.whl.metadata (7.3 kB)\n",
            "Requirement already satisfied: gdown>=4.4.0 in /usr/local/lib/python3.11/dist-packages (from flair->textattack) (5.2.0)\n",
            "Collecting langdetect>=1.0.9 (from flair->textattack)\n",
            "  Downloading langdetect-1.0.9.tar.gz (981 kB)\n",
            "\u001b[2K     \u001b[90m━━━━━━━━━━━━━━━━━━━━━━━━━━━━━━━━━━━━━━\u001b[0m \u001b[32m981.5/981.5 kB\u001b[0m \u001b[31m56.9 MB/s\u001b[0m eta \u001b[36m0:00:00\u001b[0m\n",
            "\u001b[?25h  Preparing metadata (setup.py) ... \u001b[?25l\u001b[?25hdone\n",
            "Requirement already satisfied: lxml>=4.8.0 in /usr/local/lib/python3.11/dist-packages (from flair->textattack) (5.4.0)\n",
            "Collecting mpld3>=0.3 (from flair->textattack)\n",
            "  Downloading mpld3-0.5.11-py3-none-any.whl.metadata (5.3 kB)\n",
            "Collecting pptree>=3.1 (from flair->textattack)\n",
            "  Downloading pptree-3.1.tar.gz (3.0 kB)\n",
            "  Preparing metadata (setup.py) ... \u001b[?25l\u001b[?25hdone\n",
            "Collecting pytorch-revgrad>=0.2.0 (from flair->textattack)\n",
            "  Downloading pytorch_revgrad-0.2.0-py3-none-any.whl.metadata (1.7 kB)\n",
            "Requirement already satisfied: scikit-learn>=1.0.2 in /usr/local/lib/python3.11/dist-packages (from flair->textattack) (1.6.1)\n",
            "Collecting segtok>=1.5.11 (from flair->textattack)\n",
            "  Downloading segtok-1.5.11-py3-none-any.whl.metadata (9.0 kB)\n",
            "Collecting sqlitedict>=2.0.0 (from flair->textattack)\n",
            "  Downloading sqlitedict-2.1.0.tar.gz (21 kB)\n",
            "  Preparing metadata (setup.py) ... \u001b[?25l\u001b[?25hdone\n",
            "Requirement already satisfied: tabulate>=0.8.10 in /usr/local/lib/python3.11/dist-packages (from flair->textattack) (0.9.0)\n",
            "Collecting transformer-smaller-training-vocab>=0.2.3 (from flair->textattack)\n",
            "  Downloading transformer_smaller_training_vocab-0.4.2-py3-none-any.whl.metadata (7.9 kB)\n",
            "Collecting wikipedia-api>=0.5.7 (from flair->textattack)\n",
            "  Downloading wikipedia_api-0.8.1.tar.gz (19 kB)\n",
            "  Preparing metadata (setup.py) ... \u001b[?25l\u001b[?25hdone\n",
            "Collecting bioc<3.0.0,>=2.0.0 (from flair->textattack)\n",
            "  Downloading bioc-2.1-py3-none-any.whl.metadata (4.6 kB)\n",
            "Requirement already satisfied: psutil in /usr/local/lib/python3.11/dist-packages (from language-tool-python->textattack) (5.9.5)\n",
            "Requirement already satisfied: toml in /usr/local/lib/python3.11/dist-packages (from language-tool-python->textattack) (0.10.2)\n",
            "INFO: pip is looking at multiple versions of multiprocess to determine which version is compatible with other requirements. This could take a while.\n",
            "Collecting multiprocess (from datasets)\n",
            "  Downloading multiprocess-0.70.18-py311-none-any.whl.metadata (7.5 kB)\n",
            "  Downloading multiprocess-0.70.17-py311-none-any.whl.metadata (7.2 kB)\n",
            "  Downloading multiprocess-0.70.15-py311-none-any.whl.metadata (7.2 kB)\n",
            "Collecting docopt>=0.6.2 (from num2words->textattack)\n",
            "  Downloading docopt-0.6.2.tar.gz (25 kB)\n",
            "  Preparing metadata (setup.py) ... \u001b[?25l\u001b[?25hdone\n",
            "Collecting anytree (from OpenHowNet->textattack)\n",
            "  Downloading anytree-2.13.0-py3-none-any.whl.metadata (8.0 kB)\n",
            "Requirement already satisfied: setuptools in /usr/local/lib/python3.11/dist-packages (from OpenHowNet->textattack) (75.2.0)\n",
            "Collecting jsonlines>=1.2.0 (from bioc<3.0.0,>=2.0.0->flair->textattack)\n",
            "  Downloading jsonlines-4.0.0-py3-none-any.whl.metadata (1.6 kB)\n",
            "Collecting intervaltree (from bioc<3.0.0,>=2.0.0->flair->textattack)\n",
            "  Downloading intervaltree-3.1.0.tar.gz (32 kB)\n",
            "  Preparing metadata (setup.py) ... \u001b[?25l\u001b[?25hdone\n",
            "Collecting botocore<1.41.0,>=1.40.9 (from boto3>=1.20.27->flair->textattack)\n",
            "  Downloading botocore-1.40.9-py3-none-any.whl.metadata (5.7 kB)\n",
            "Collecting jmespath<2.0.0,>=0.7.1 (from boto3>=1.20.27->flair->textattack)\n",
            "  Downloading jmespath-1.0.1-py3-none-any.whl.metadata (7.6 kB)\n",
            "Collecting s3transfer<0.14.0,>=0.13.0 (from boto3>=1.20.27->flair->textattack)\n",
            "  Downloading s3transfer-0.13.1-py3-none-any.whl.metadata (1.7 kB)\n",
            "Requirement already satisfied: wcwidth in /usr/local/lib/python3.11/dist-packages (from ftfy>=6.1.0->flair->textattack) (0.2.13)\n",
            "Requirement already satisfied: beautifulsoup4 in /usr/local/lib/python3.11/dist-packages (from gdown>=4.4.0->flair->textattack) (4.13.4)\n",
            "Requirement already satisfied: contourpy>=1.0.1 in /usr/local/lib/python3.11/dist-packages (from matplotlib->bert-score>=0.3.5->textattack) (1.3.3)\n",
            "Requirement already satisfied: cycler>=0.10 in /usr/local/lib/python3.11/dist-packages (from matplotlib->bert-score>=0.3.5->textattack) (0.12.1)\n",
            "Requirement already satisfied: fonttools>=4.22.0 in /usr/local/lib/python3.11/dist-packages (from matplotlib->bert-score>=0.3.5->textattack) (4.59.0)\n",
            "Requirement already satisfied: kiwisolver>=1.3.1 in /usr/local/lib/python3.11/dist-packages (from matplotlib->bert-score>=0.3.5->textattack) (1.4.9)\n",
            "Requirement already satisfied: pillow>=8 in /usr/local/lib/python3.11/dist-packages (from matplotlib->bert-score>=0.3.5->textattack) (11.3.0)\n",
            "Requirement already satisfied: pyparsing>=2.3.1 in /usr/local/lib/python3.11/dist-packages (from matplotlib->bert-score>=0.3.5->textattack) (3.2.3)\n",
            "Requirement already satisfied: threadpoolctl>=3.1.0 in /usr/local/lib/python3.11/dist-packages (from scikit-learn>=1.0.2->flair->textattack) (3.6.0)\n",
            "Requirement already satisfied: sentencepiece!=0.1.92,>=0.1.91 in /usr/local/lib/python3.11/dist-packages (from transformers[sentencepiece]<5.0.0,>=4.25.0->flair->textattack) (0.2.0)\n",
            "Requirement already satisfied: protobuf in /usr/local/lib/python3.11/dist-packages (from transformers[sentencepiece]<5.0.0,>=4.25.0->flair->textattack) (5.29.5)\n",
            "Requirement already satisfied: MarkupSafe>=2.0 in /usr/local/lib/python3.11/dist-packages (from jinja2->torch!=1.8,>=1.7.0->textattack) (3.0.2)\n",
            "Requirement already satisfied: accelerate>=0.26.0 in /usr/local/lib/python3.11/dist-packages (from transformers[sentencepiece,torch]<5.0,>=4.1->transformer-smaller-training-vocab>=0.2.3->flair->textattack) (1.10.0)\n",
            "Requirement already satisfied: soupsieve>1.2 in /usr/local/lib/python3.11/dist-packages (from beautifulsoup4->gdown>=4.4.0->flair->textattack) (2.7)\n",
            "Requirement already satisfied: sortedcontainers<3.0,>=2.0 in /usr/local/lib/python3.11/dist-packages (from intervaltree->bioc<3.0.0,>=2.0.0->flair->textattack) (2.4.0)\n",
            "Requirement already satisfied: PySocks!=1.5.7,>=1.5.6 in /usr/local/lib/python3.11/dist-packages (from requests[socks]->gdown>=4.4.0->flair->textattack) (1.7.1)\n",
            "Downloading pandas-1.5.3-cp311-cp311-manylinux_2_17_x86_64.manylinux2014_x86_64.whl (12.0 MB)\n",
            "\u001b[2K   \u001b[90m━━━━━━━━━━━━━━━━━━━━━━━━━━━━━━━━━━━━━━━━\u001b[0m \u001b[32m12.0/12.0 MB\u001b[0m \u001b[31m133.1 MB/s\u001b[0m eta \u001b[36m0:00:00\u001b[0m\n",
            "\u001b[?25hDownloading requests-2.28.2-py3-none-any.whl (62 kB)\n",
            "\u001b[2K   \u001b[90m━━━━━━━━━━━━━━━━━━━━━━━━━━━━━━━━━━━━━━━━\u001b[0m \u001b[32m62.8/62.8 kB\u001b[0m \u001b[31m6.2 MB/s\u001b[0m eta \u001b[36m0:00:00\u001b[0m\n",
            "\u001b[?25hDownloading pyarrow-10.0.1-cp311-cp311-manylinux_2_17_x86_64.manylinux2014_x86_64.whl (35.8 MB)\n",
            "\u001b[2K   \u001b[90m━━━━━━━━━━━━━━━━━━━━━━━━━━━━━━━━━━━━━━━━\u001b[0m \u001b[32m35.8/35.8 MB\u001b[0m \u001b[31m32.8 MB/s\u001b[0m eta \u001b[36m0:00:00\u001b[0m\n",
            "\u001b[?25hDownloading scipy-1.10.1-cp311-cp311-manylinux_2_17_x86_64.manylinux2014_x86_64.whl (34.1 MB)\n",
            "\u001b[2K   \u001b[90m━━━━━━━━━━━━━━━━━━━━━━━━━━━━━━━━━━━━━━━━\u001b[0m \u001b[32m34.1/34.1 MB\u001b[0m \u001b[31m21.7 MB/s\u001b[0m eta \u001b[36m0:00:00\u001b[0m\n",
            "\u001b[?25hDownloading opencv_python_headless-4.8.0.76-cp37-abi3-manylinux_2_17_x86_64.manylinux2014_x86_64.whl (49.1 MB)\n",
            "\u001b[2K   \u001b[90m━━━━━━━━━━━━━━━━━━━━━━━━━━━━━━━━━━━━━━━━\u001b[0m \u001b[32m49.1/49.1 MB\u001b[0m \u001b[31m20.9 MB/s\u001b[0m eta \u001b[36m0:00:00\u001b[0m\n",
            "\u001b[?25hDownloading nltk-3.8.1-py3-none-any.whl (1.5 MB)\n",
            "\u001b[2K   \u001b[90m━━━━━━━━━━━━━━━━━━━━━━━━━━━━━━━━━━━━━━━━\u001b[0m \u001b[32m1.5/1.5 MB\u001b[0m \u001b[31m69.1 MB/s\u001b[0m eta \u001b[36m0:00:00\u001b[0m\n",
            "\u001b[?25hDownloading gensim-4.3.2-cp311-cp311-manylinux_2_17_x86_64.manylinux2014_x86_64.whl (26.7 MB)\n",
            "\u001b[2K   \u001b[90m━━━━━━━━━━━━━━━━━━━━━━━━━━━━━━━━━━━━━━━━\u001b[0m \u001b[32m26.7/26.7 MB\u001b[0m \u001b[31m34.1 MB/s\u001b[0m eta \u001b[36m0:00:00\u001b[0m\n",
            "\u001b[?25hDownloading farasapy-0.0.11-py3-none-any.whl (12 kB)\n",
            "Downloading numpy-1.26.4-cp311-cp311-manylinux_2_17_x86_64.manylinux2014_x86_64.whl (18.3 MB)\n",
            "\u001b[2K   \u001b[90m━━━━━━━━━━━━━━━━━━━━━━━━━━━━━━━━━━━━━━━━\u001b[0m \u001b[32m18.3/18.3 MB\u001b[0m \u001b[31m119.7 MB/s\u001b[0m eta \u001b[36m0:00:00\u001b[0m\n",
            "\u001b[?25hDownloading transformers-4.55.2-py3-none-any.whl (11.3 MB)\n",
            "\u001b[2K   \u001b[90m━━━━━━━━━━━━━━━━━━━━━━━━━━━━━━━━━━━━━━━━\u001b[0m \u001b[32m11.3/11.3 MB\u001b[0m \u001b[31m119.8 MB/s\u001b[0m eta \u001b[36m0:00:00\u001b[0m\n",
            "\u001b[?25hDownloading datasets-2.16.1-py3-none-any.whl (507 kB)\n",
            "\u001b[2K   \u001b[90m━━━━━━━━━━━━━━━━━━━━━━━━━━━━━━━━━━━━━━━━\u001b[0m \u001b[32m507.1/507.1 kB\u001b[0m \u001b[31m40.7 MB/s\u001b[0m eta \u001b[36m0:00:00\u001b[0m\n",
            "\u001b[?25hDownloading evaluate-0.4.5-py3-none-any.whl (84 kB)\n",
            "\u001b[2K   \u001b[90m━━━━━━━━━━━━━━━━━━━━━━━━━━━━━━━━━━━━━━━━\u001b[0m \u001b[32m84.1/84.1 kB\u001b[0m \u001b[31m8.5 MB/s\u001b[0m eta \u001b[36m0:00:00\u001b[0m\n",
            "\u001b[?25hDownloading textattack-0.3.10-py3-none-any.whl (445 kB)\n",
            "\u001b[2K   \u001b[90m━━━━━━━━━━━━━━━━━━━━━━━━━━━━━━━━━━━━━━━━\u001b[0m \u001b[32m445.7/445.7 kB\u001b[0m \u001b[31m39.3 MB/s\u001b[0m eta \u001b[36m0:00:00\u001b[0m\n",
            "\u001b[?25hDownloading bert_score-0.3.13-py3-none-any.whl (61 kB)\n",
            "\u001b[2K   \u001b[90m━━━━━━━━━━━━━━━━━━━━━━━━━━━━━━━━━━━━━━━━\u001b[0m \u001b[32m61.1/61.1 kB\u001b[0m \u001b[31m5.8 MB/s\u001b[0m eta \u001b[36m0:00:00\u001b[0m\n",
            "\u001b[?25hDownloading dill-0.3.7-py3-none-any.whl (115 kB)\n",
            "\u001b[2K   \u001b[90m━━━━━━━━━━━━━━━━━━━━━━━━━━━━━━━━━━━━━━━━\u001b[0m \u001b[32m115.3/115.3 kB\u001b[0m \u001b[31m11.6 MB/s\u001b[0m eta \u001b[36m0:00:00\u001b[0m\n",
            "\u001b[?25hDownloading fsspec-2023.10.0-py3-none-any.whl (166 kB)\n",
            "\u001b[2K   \u001b[90m━━━━━━━━━━━━━━━━━━━━━━━━━━━━━━━━━━━━━━━━\u001b[0m \u001b[32m166.4/166.4 kB\u001b[0m \u001b[31m16.9 MB/s\u001b[0m eta \u001b[36m0:00:00\u001b[0m\n",
            "\u001b[?25hDownloading nvidia_cublas_cu12-12.4.5.8-py3-none-manylinux2014_x86_64.whl (363.4 MB)\n",
            "\u001b[2K   \u001b[90m━━━━━━━━━━━━━━━━━━━━━━━━━━━━━━━━━━━━━━━━\u001b[0m \u001b[32m363.4/363.4 MB\u001b[0m \u001b[31m1.5 MB/s\u001b[0m eta \u001b[36m0:00:00\u001b[0m\n",
            "\u001b[?25hDownloading nvidia_cuda_cupti_cu12-12.4.127-py3-none-manylinux2014_x86_64.whl (13.8 MB)\n",
            "\u001b[2K   \u001b[90m━━━━━━━━━━━━━━━━━━━━━━━━━━━━━━━━━━━━━━━━\u001b[0m \u001b[32m13.8/13.8 MB\u001b[0m \u001b[31m118.4 MB/s\u001b[0m eta \u001b[36m0:00:00\u001b[0m\n",
            "\u001b[?25hDownloading nvidia_cuda_nvrtc_cu12-12.4.127-py3-none-manylinux2014_x86_64.whl (24.6 MB)\n",
            "\u001b[2K   \u001b[90m━━━━━━━━━━━━━━━━━━━━━━━━━━━━━━━━━━━━━━━━\u001b[0m \u001b[32m24.6/24.6 MB\u001b[0m \u001b[31m91.7 MB/s\u001b[0m eta \u001b[36m0:00:00\u001b[0m\n",
            "\u001b[?25hDownloading nvidia_cuda_runtime_cu12-12.4.127-py3-none-manylinux2014_x86_64.whl (883 kB)\n",
            "\u001b[2K   \u001b[90m━━━━━━━━━━━━━━━━━━━━━━━━━━━━━━━━━━━━━━━━\u001b[0m \u001b[32m883.7/883.7 kB\u001b[0m \u001b[31m57.4 MB/s\u001b[0m eta \u001b[36m0:00:00\u001b[0m\n",
            "\u001b[?25hDownloading nvidia_cudnn_cu12-9.1.0.70-py3-none-manylinux2014_x86_64.whl (664.8 MB)\n",
            "\u001b[2K   \u001b[90m━━━━━━━━━━━━━━━━━━━━━━━━━━━━━━━━━━━━━━━━\u001b[0m \u001b[32m664.8/664.8 MB\u001b[0m \u001b[31m2.9 MB/s\u001b[0m eta \u001b[36m0:00:00\u001b[0m\n",
            "\u001b[?25hDownloading nvidia_cufft_cu12-11.2.1.3-py3-none-manylinux2014_x86_64.whl (211.5 MB)\n",
            "\u001b[2K   \u001b[90m━━━━━━━━━━━━━━━━━━━━━━━━━━━━━━━━━━━━━━━━\u001b[0m \u001b[32m211.5/211.5 MB\u001b[0m \u001b[31m5.5 MB/s\u001b[0m eta \u001b[36m0:00:00\u001b[0m\n",
            "\u001b[?25hDownloading nvidia_curand_cu12-10.3.5.147-py3-none-manylinux2014_x86_64.whl (56.3 MB)\n",
            "\u001b[2K   \u001b[90m━━━━━━━━━━━━━━━━━━━━━━━━━━━━━━━━━━━━━━━━\u001b[0m \u001b[32m56.3/56.3 MB\u001b[0m \u001b[31m14.1 MB/s\u001b[0m eta \u001b[36m0:00:00\u001b[0m\n",
            "\u001b[?25hDownloading nvidia_cusolver_cu12-11.6.1.9-py3-none-manylinux2014_x86_64.whl (127.9 MB)\n",
            "\u001b[2K   \u001b[90m━━━━━━━━━━━━━━━━━━━━━━━━━━━━━━━━━━━━━━━━\u001b[0m \u001b[32m127.9/127.9 MB\u001b[0m \u001b[31m9.4 MB/s\u001b[0m eta \u001b[36m0:00:00\u001b[0m\n",
            "\u001b[?25hDownloading nvidia_cusparse_cu12-12.3.1.170-py3-none-manylinux2014_x86_64.whl (207.5 MB)\n",
            "\u001b[2K   \u001b[90m━━━━━━━━━━━━━━━━━━━━━━━━━━━━━━━━━━━━━━━━\u001b[0m \u001b[32m207.5/207.5 MB\u001b[0m \u001b[31m1.7 MB/s\u001b[0m eta \u001b[36m0:00:00\u001b[0m\n",
            "\u001b[?25hDownloading nvidia_nccl_cu12-2.21.5-py3-none-manylinux2014_x86_64.whl (188.7 MB)\n",
            "\u001b[2K   \u001b[90m━━━━━━━━━━━━━━━━━━━━━━━━━━━━━━━━━━━━━━━━\u001b[0m \u001b[32m188.7/188.7 MB\u001b[0m \u001b[31m7.5 MB/s\u001b[0m eta \u001b[36m0:00:00\u001b[0m\n",
            "\u001b[?25hDownloading nvidia_nvjitlink_cu12-12.4.127-py3-none-manylinux2014_x86_64.whl (21.1 MB)\n",
            "\u001b[2K   \u001b[90m━━━━━━━━━━━━━━━━━━━━━━━━━━━━━━━━━━━━━━━━\u001b[0m \u001b[32m21.1/21.1 MB\u001b[0m \u001b[31m78.7 MB/s\u001b[0m eta \u001b[36m0:00:00\u001b[0m\n",
            "\u001b[?25hDownloading urllib3-1.26.20-py2.py3-none-any.whl (144 kB)\n",
            "\u001b[2K   \u001b[90m━━━━━━━━━━━━━━━━━━━━━━━━━━━━━━━━━━━━━━━━\u001b[0m \u001b[32m144.2/144.2 kB\u001b[0m \u001b[31m14.0 MB/s\u001b[0m eta \u001b[36m0:00:00\u001b[0m\n",
            "\u001b[?25hDownloading flair-0.15.1-py3-none-any.whl (1.2 MB)\n",
            "\u001b[2K   \u001b[90m━━━━━━━━━━━━━━━━━━━━━━━━━━━━━━━━━━━━━━━━\u001b[0m \u001b[32m1.2/1.2 MB\u001b[0m \u001b[31m50.5 MB/s\u001b[0m eta \u001b[36m0:00:00\u001b[0m\n",
            "\u001b[?25hDownloading language_tool_python-2.9.4-py3-none-any.whl (55 kB)\n",
            "\u001b[2K   \u001b[90m━━━━━━━━━━━━━━━━━━━━━━━━━━━━━━━━━━━━━━━━\u001b[0m \u001b[32m55.6/55.6 kB\u001b[0m \u001b[31m4.6 MB/s\u001b[0m eta \u001b[36m0:00:00\u001b[0m\n",
            "\u001b[?25hDownloading lemminflect-0.2.3-py3-none-any.whl (769 kB)\n",
            "\u001b[2K   \u001b[90m━━━━━━━━━━━━━━━━━━━━━━━━━━━━━━━━━━━━━━━━\u001b[0m \u001b[32m769.7/769.7 kB\u001b[0m \u001b[31m53.8 MB/s\u001b[0m eta \u001b[36m0:00:00\u001b[0m\n",
            "\u001b[?25hDownloading lru_dict-1.3.0-cp311-cp311-manylinux_2_5_x86_64.manylinux1_x86_64.manylinux_2_17_x86_64.manylinux2014_x86_64.whl (31 kB)\n",
            "Downloading multiprocess-0.70.15-py311-none-any.whl (135 kB)\n",
            "\u001b[2K   \u001b[90m━━━━━━━━━━━━━━━━━━━━━━━━━━━━━━━━━━━━━━━━\u001b[0m \u001b[32m135.4/135.4 kB\u001b[0m \u001b[31m14.9 MB/s\u001b[0m eta \u001b[36m0:00:00\u001b[0m\n",
            "\u001b[?25hDownloading num2words-0.5.14-py3-none-any.whl (163 kB)\n",
            "\u001b[2K   \u001b[90m━━━━━━━━━━━━━━━━━━━━━━━━━━━━━━━━━━━━━━━━\u001b[0m \u001b[32m163.5/163.5 kB\u001b[0m \u001b[31m16.8 MB/s\u001b[0m eta \u001b[36m0:00:00\u001b[0m\n",
            "\u001b[?25hDownloading OpenHowNet-2.0-py3-none-any.whl (18 kB)\n",
            "Downloading pyarrow_hotfix-0.7-py3-none-any.whl (7.9 kB)\n",
            "Downloading terminaltables-3.1.10-py2.py3-none-any.whl (15 kB)\n",
            "Downloading bioc-2.1-py3-none-any.whl (33 kB)\n",
            "Downloading boto3-1.40.9-py3-none-any.whl (140 kB)\n",
            "\u001b[2K   \u001b[90m━━━━━━━━━━━━━━━━━━━━━━━━━━━━━━━━━━━━━━━━\u001b[0m \u001b[32m140.1/140.1 kB\u001b[0m \u001b[31m15.0 MB/s\u001b[0m eta \u001b[36m0:00:00\u001b[0m\n",
            "\u001b[?25hDownloading conllu-4.5.3-py2.py3-none-any.whl (16 kB)\n",
            "Downloading Deprecated-1.2.18-py2.py3-none-any.whl (10.0 kB)\n",
            "Downloading ftfy-6.3.1-py3-none-any.whl (44 kB)\n",
            "\u001b[2K   \u001b[90m━━━━━━━━━━━━━━━━━━━━━━━━━━━━━━━━━━━━━━━━\u001b[0m \u001b[32m44.8/44.8 kB\u001b[0m \u001b[31m4.3 MB/s\u001b[0m eta \u001b[36m0:00:00\u001b[0m\n",
            "\u001b[?25hDownloading mpld3-0.5.11-py3-none-any.whl (202 kB)\n",
            "\u001b[2K   \u001b[90m━━━━━━━━━━━━━━━━━━━━━━━━━━━━━━━━━━━━━━━━\u001b[0m \u001b[32m202.9/202.9 kB\u001b[0m \u001b[31m21.2 MB/s\u001b[0m eta \u001b[36m0:00:00\u001b[0m\n",
            "\u001b[?25hDownloading pytorch_revgrad-0.2.0-py3-none-any.whl (4.6 kB)\n",
            "Downloading segtok-1.5.11-py3-none-any.whl (24 kB)\n",
            "Downloading transformer_smaller_training_vocab-0.4.2-py3-none-any.whl (14 kB)\n",
            "Downloading anytree-2.13.0-py3-none-any.whl (45 kB)\n",
            "\u001b[2K   \u001b[90m━━━━━━━━━━━━━━━━━━━━━━━━━━━━━━━━━━━━━━━━\u001b[0m \u001b[32m45.1/45.1 kB\u001b[0m \u001b[31m4.5 MB/s\u001b[0m eta \u001b[36m0:00:00\u001b[0m\n",
            "\u001b[?25hDownloading botocore-1.40.9-py3-none-any.whl (14.0 MB)\n",
            "\u001b[2K   \u001b[90m━━━━━━━━━━━━━━━━━━━━━━━━━━━━━━━━━━━━━━━━\u001b[0m \u001b[32m14.0/14.0 MB\u001b[0m \u001b[31m85.5 MB/s\u001b[0m eta \u001b[36m0:00:00\u001b[0m\n",
            "\u001b[?25hDownloading jmespath-1.0.1-py3-none-any.whl (20 kB)\n",
            "Downloading jsonlines-4.0.0-py3-none-any.whl (8.7 kB)\n",
            "Downloading s3transfer-0.13.1-py3-none-any.whl (85 kB)\n",
            "\u001b[2K   \u001b[90m━━━━━━━━━━━━━━━━━━━━━━━━━━━━━━━━━━━━━━━━\u001b[0m \u001b[32m85.3/85.3 kB\u001b[0m \u001b[31m9.0 MB/s\u001b[0m eta \u001b[36m0:00:00\u001b[0m\n",
            "\u001b[?25hBuilding wheels for collected packages: pinyin, word2number, docopt, langdetect, pptree, sqlitedict, wikipedia-api, intervaltree\n",
            "  Building wheel for pinyin (setup.py) ... \u001b[?25l\u001b[?25hdone\n",
            "  Created wheel for pinyin: filename=pinyin-0.4.0-py3-none-any.whl size=3630476 sha256=ccdc0ca8ac3eb7e64190209a088a5239a74203cf4e1fc1837dd9ed47fa7f1fee\n",
            "  Stored in directory: /root/.cache/pip/wheels/1c/f5/31/ac8c91eccb570a59fe5f1471ad9f11bece8f4fd4be1ab1be25\n",
            "  Building wheel for word2number (setup.py) ... \u001b[?25l\u001b[?25hdone\n",
            "  Created wheel for word2number: filename=word2number-1.1-py3-none-any.whl size=5568 sha256=ac202a6da9cef46ba59fe09ceb77fa4fbfca793199981514b380199df198b6bf\n",
            "  Stored in directory: /root/.cache/pip/wheels/cd/ef/ae/073b491b14d25e2efafcffca9e16b2ee6d114ec5c643ba4f06\n",
            "  Building wheel for docopt (setup.py) ... \u001b[?25l\u001b[?25hdone\n",
            "  Created wheel for docopt: filename=docopt-0.6.2-py2.py3-none-any.whl size=13706 sha256=f633c5462483cf43d957ce46fe75794d977cad91455938e0fcc9eaf5601b1955\n",
            "  Stored in directory: /root/.cache/pip/wheels/1a/b0/8c/4b75c4116c31f83c8f9f047231251e13cc74481cca4a78a9ce\n",
            "  Building wheel for langdetect (setup.py) ... \u001b[?25l\u001b[?25hdone\n",
            "  Created wheel for langdetect: filename=langdetect-1.0.9-py3-none-any.whl size=993223 sha256=f46259779bc19189808db43ebad9e7a7d6620cce1778c822e432f802bd14d97d\n",
            "  Stored in directory: /root/.cache/pip/wheels/0a/f2/b2/e5ca405801e05eb7c8ed5b3b4bcf1fcabcd6272c167640072e\n",
            "  Building wheel for pptree (setup.py) ... \u001b[?25l\u001b[?25hdone\n",
            "  Created wheel for pptree: filename=pptree-3.1-py3-none-any.whl size=4609 sha256=384dbac8df946b788e748eedee2c52b89069234b33714032975c30ed609823ca\n",
            "  Stored in directory: /root/.cache/pip/wheels/68/8a/eb/d683aa6d09dc68ebfde2f37566ddc8807837c4415b4fd2b04c\n",
            "  Building wheel for sqlitedict (setup.py) ... \u001b[?25l\u001b[?25hdone\n",
            "  Created wheel for sqlitedict: filename=sqlitedict-2.1.0-py3-none-any.whl size=16862 sha256=7b42846e5ee783640d8bfe26deb4c0c4c043758165b3b007104ee82629179928\n",
            "  Stored in directory: /root/.cache/pip/wheels/73/63/89/7210274f9b7fb033b8f22671f64c0e0b55083d30c3c046a3ff\n",
            "  Building wheel for wikipedia-api (setup.py) ... \u001b[?25l\u001b[?25hdone\n",
            "  Created wheel for wikipedia-api: filename=Wikipedia_API-0.8.1-py3-none-any.whl size=15383 sha256=573866ba617ccb8cb1f10d652f8782b010a0492d22026cdf9a141f2d6268c91b\n",
            "  Stored in directory: /root/.cache/pip/wheels/0b/0f/39/e8214ec038ccd5aeb8c82b957289f2f3ab2251febeae5c2860\n",
            "  Building wheel for intervaltree (setup.py) ... \u001b[?25l\u001b[?25hdone\n",
            "  Created wheel for intervaltree: filename=intervaltree-3.1.0-py2.py3-none-any.whl size=26098 sha256=4121bfbd1d0b97018bc78452e0a9c1ef77337aa73da2ccb907c7e2ee7004c4de\n",
            "  Stored in directory: /root/.cache/pip/wheels/31/d7/d9/eec6891f78cac19a693bd40ecb8365d2f4613318c145ec9816\n",
            "Successfully built pinyin word2number docopt langdetect pptree sqlitedict wikipedia-api intervaltree\n",
            "Installing collected packages: word2number, sqlitedict, pptree, pinyin, docopt, urllib3, terminaltables, segtok, pyarrow-hotfix, nvidia-nvjitlink-cu12, nvidia-nccl-cu12, nvidia-curand-cu12, nvidia-cufft-cu12, nvidia-cuda-runtime-cu12, nvidia-cuda-nvrtc-cu12, nvidia-cuda-cupti-cu12, nvidia-cublas-cu12, numpy, num2words, nltk, lru-dict, langdetect, jsonlines, jmespath, intervaltree, ftfy, fsspec, dill, deprecated, conllu, anytree, scipy, requests, pyarrow, pandas, opencv-python-headless, nvidia-cusparse-cu12, nvidia-cudnn-cu12, multiprocess, lemminflect, botocore, bioc, wikipedia-api, s3transfer, OpenHowNet, nvidia-cusolver-cu12, language-tool-python, gensim, farasapy, mpld3, datasets, boto3, transformers, pytorch-revgrad, evaluate, bert-score, transformer-smaller-training-vocab, flair, textattack\n",
            "  Attempting uninstall: urllib3\n",
            "    Found existing installation: urllib3 2.5.0\n",
            "    Uninstalling urllib3-2.5.0:\n",
            "      Successfully uninstalled urllib3-2.5.0\n",
            "  Attempting uninstall: nvidia-nvjitlink-cu12\n",
            "    Found existing installation: nvidia-nvjitlink-cu12 12.5.82\n",
            "    Uninstalling nvidia-nvjitlink-cu12-12.5.82:\n",
            "      Successfully uninstalled nvidia-nvjitlink-cu12-12.5.82\n",
            "  Attempting uninstall: nvidia-nccl-cu12\n",
            "    Found existing installation: nvidia-nccl-cu12 2.23.4\n",
            "    Uninstalling nvidia-nccl-cu12-2.23.4:\n",
            "      Successfully uninstalled nvidia-nccl-cu12-2.23.4\n",
            "  Attempting uninstall: nvidia-curand-cu12\n",
            "    Found existing installation: nvidia-curand-cu12 10.3.6.82\n",
            "    Uninstalling nvidia-curand-cu12-10.3.6.82:\n",
            "      Successfully uninstalled nvidia-curand-cu12-10.3.6.82\n",
            "  Attempting uninstall: nvidia-cufft-cu12\n",
            "    Found existing installation: nvidia-cufft-cu12 11.2.3.61\n",
            "    Uninstalling nvidia-cufft-cu12-11.2.3.61:\n",
            "      Successfully uninstalled nvidia-cufft-cu12-11.2.3.61\n",
            "  Attempting uninstall: nvidia-cuda-runtime-cu12\n",
            "    Found existing installation: nvidia-cuda-runtime-cu12 12.5.82\n",
            "    Uninstalling nvidia-cuda-runtime-cu12-12.5.82:\n",
            "      Successfully uninstalled nvidia-cuda-runtime-cu12-12.5.82\n",
            "  Attempting uninstall: nvidia-cuda-nvrtc-cu12\n",
            "    Found existing installation: nvidia-cuda-nvrtc-cu12 12.5.82\n",
            "    Uninstalling nvidia-cuda-nvrtc-cu12-12.5.82:\n",
            "      Successfully uninstalled nvidia-cuda-nvrtc-cu12-12.5.82\n",
            "  Attempting uninstall: nvidia-cuda-cupti-cu12\n",
            "    Found existing installation: nvidia-cuda-cupti-cu12 12.5.82\n",
            "    Uninstalling nvidia-cuda-cupti-cu12-12.5.82:\n",
            "      Successfully uninstalled nvidia-cuda-cupti-cu12-12.5.82\n",
            "  Attempting uninstall: nvidia-cublas-cu12\n",
            "    Found existing installation: nvidia-cublas-cu12 12.5.3.2\n",
            "    Uninstalling nvidia-cublas-cu12-12.5.3.2:\n",
            "      Successfully uninstalled nvidia-cublas-cu12-12.5.3.2\n",
            "  Attempting uninstall: nltk\n",
            "    Found existing installation: nltk 3.9.1\n",
            "    Uninstalling nltk-3.9.1:\n",
            "      Successfully uninstalled nltk-3.9.1\n",
            "  Attempting uninstall: fsspec\n",
            "    Found existing installation: fsspec 2025.3.0\n",
            "    Uninstalling fsspec-2025.3.0:\n",
            "      Successfully uninstalled fsspec-2025.3.0\n",
            "  Attempting uninstall: dill\n",
            "    Found existing installation: dill 0.3.8\n",
            "    Uninstalling dill-0.3.8:\n",
            "      Successfully uninstalled dill-0.3.8\n",
            "  Attempting uninstall: scipy\n",
            "    Found existing installation: scipy 1.16.1\n",
            "    Uninstalling scipy-1.16.1:\n",
            "      Successfully uninstalled scipy-1.16.1\n",
            "  Attempting uninstall: nvidia-cusparse-cu12\n",
            "    Found existing installation: nvidia-cusparse-cu12 12.5.1.3\n",
            "    Uninstalling nvidia-cusparse-cu12-12.5.1.3:\n",
            "      Successfully uninstalled nvidia-cusparse-cu12-12.5.1.3\n",
            "  Attempting uninstall: nvidia-cudnn-cu12\n",
            "    Found existing installation: nvidia-cudnn-cu12 9.3.0.75\n",
            "    Uninstalling nvidia-cudnn-cu12-9.3.0.75:\n",
            "      Successfully uninstalled nvidia-cudnn-cu12-9.3.0.75\n",
            "  Attempting uninstall: multiprocess\n",
            "    Found existing installation: multiprocess 0.70.16\n",
            "    Uninstalling multiprocess-0.70.16:\n",
            "      Successfully uninstalled multiprocess-0.70.16\n",
            "  Attempting uninstall: nvidia-cusolver-cu12\n",
            "    Found existing installation: nvidia-cusolver-cu12 11.6.3.83\n",
            "    Uninstalling nvidia-cusolver-cu12-11.6.3.83:\n",
            "      Successfully uninstalled nvidia-cusolver-cu12-11.6.3.83\n",
            "  Attempting uninstall: datasets\n",
            "    Found existing installation: datasets 4.0.0\n",
            "    Uninstalling datasets-4.0.0:\n",
            "      Successfully uninstalled datasets-4.0.0\n",
            "  Attempting uninstall: transformers\n",
            "    Found existing installation: transformers 4.55.0\n",
            "    Uninstalling transformers-4.55.0:\n",
            "      Successfully uninstalled transformers-4.55.0\n",
            "\u001b[31mERROR: pip's dependency resolver does not currently take into account all the packages that are installed. This behaviour is the source of the following dependency conflicts.\n",
            "google-colab 1.0.0 requires pandas==2.2.2, but you have pandas 1.5.3 which is incompatible.\n",
            "google-colab 1.0.0 requires requests==2.32.3, but you have requests 2.28.2 which is incompatible.\n",
            "yfinance 0.2.65 requires requests>=2.31, but you have requests 2.28.2 which is incompatible.\n",
            "albumentations 2.0.8 requires opencv-python-headless>=4.9.0.80, but you have opencv-python-headless 4.8.0.76 which is incompatible.\n",
            "bigframes 2.14.0 requires pyarrow>=15.0.2, but you have pyarrow 10.0.1 which is incompatible.\n",
            "cudf-cu12 25.6.0 requires pandas<2.2.4dev0,>=2.0, but you have pandas 1.5.3 which is incompatible.\n",
            "cudf-cu12 25.6.0 requires pyarrow<20.0.0a0,>=14.0.0; platform_machine == \"x86_64\", but you have pyarrow 10.0.1 which is incompatible.\n",
            "albucore 0.0.24 requires opencv-python-headless>=4.9.0.80, but you have opencv-python-headless 4.8.0.76 which is incompatible.\n",
            "plotnine 0.14.5 requires pandas>=2.2.0, but you have pandas 1.5.3 which is incompatible.\n",
            "tsfresh 0.21.0 requires scipy>=1.14.0; python_version >= \"3.10\", but you have scipy 1.10.1 which is incompatible.\n",
            "jaxlib 0.5.3 requires scipy>=1.11.1, but you have scipy 1.10.1 which is incompatible.\n",
            "cvxpy 1.6.7 requires scipy>=1.11.0, but you have scipy 1.10.1 which is incompatible.\n",
            "opencv-python 4.12.0.88 requires numpy<2.3.0,>=2; python_version >= \"3.9\", but you have numpy 1.26.4 which is incompatible.\n",
            "geopandas 1.1.1 requires pandas>=2.0.0, but you have pandas 1.5.3 which is incompatible.\n",
            "dask-cudf-cu12 25.6.0 requires pandas<2.2.4dev0,>=2.0, but you have pandas 1.5.3 which is incompatible.\n",
            "textblob 0.19.0 requires nltk>=3.9, but you have nltk 3.8.1 which is incompatible.\n",
            "xarray-einstats 0.9.1 requires scipy>=1.11, but you have scipy 1.10.1 which is incompatible.\n",
            "xarray 2025.7.1 requires pandas>=2.2, but you have pandas 1.5.3 which is incompatible.\n",
            "thinc 8.3.6 requires numpy<3.0.0,>=2.0.0, but you have numpy 1.26.4 which is incompatible.\n",
            "opencv-contrib-python 4.12.0.88 requires numpy<2.3.0,>=2; python_version >= \"3.9\", but you have numpy 1.26.4 which is incompatible.\n",
            "gcsfs 2025.3.0 requires fsspec==2025.3.0, but you have fsspec 2023.10.0 which is incompatible.\n",
            "sphinx 8.2.3 requires requests>=2.30.0, but you have requests 2.28.2 which is incompatible.\n",
            "mizani 0.13.5 requires pandas>=2.2.0, but you have pandas 1.5.3 which is incompatible.\n",
            "db-dtypes 1.4.3 requires pyarrow>=13.0.0, but you have pyarrow 10.0.1 which is incompatible.\n",
            "arviz 0.22.0 requires pandas>=2.1.0, but you have pandas 1.5.3 which is incompatible.\n",
            "arviz 0.22.0 requires scipy>=1.11.0, but you have scipy 1.10.1 which is incompatible.\n",
            "pylibcudf-cu12 25.6.0 requires pyarrow<20.0.0a0,>=14.0.0; platform_machine == \"x86_64\", but you have pyarrow 10.0.1 which is incompatible.\n",
            "scikit-image 0.25.2 requires scipy>=1.11.4, but you have scipy 1.10.1 which is incompatible.\n",
            "jax 0.5.3 requires scipy>=1.11.1, but you have scipy 1.10.1 which is incompatible.\u001b[0m\u001b[31m\n",
            "\u001b[0mSuccessfully installed OpenHowNet-2.0 anytree-2.13.0 bert-score-0.3.13 bioc-2.1 boto3-1.40.9 botocore-1.40.9 conllu-4.5.3 datasets-2.16.1 deprecated-1.2.18 dill-0.3.7 docopt-0.6.2 evaluate-0.4.5 farasapy-0.0.11 flair-0.15.1 fsspec-2023.10.0 ftfy-6.3.1 gensim-4.3.2 intervaltree-3.1.0 jmespath-1.0.1 jsonlines-4.0.0 langdetect-1.0.9 language-tool-python-2.9.4 lemminflect-0.2.3 lru-dict-1.3.0 mpld3-0.5.11 multiprocess-0.70.15 nltk-3.8.1 num2words-0.5.14 numpy-1.26.4 nvidia-cublas-cu12-12.4.5.8 nvidia-cuda-cupti-cu12-12.4.127 nvidia-cuda-nvrtc-cu12-12.4.127 nvidia-cuda-runtime-cu12-12.4.127 nvidia-cudnn-cu12-9.1.0.70 nvidia-cufft-cu12-11.2.1.3 nvidia-curand-cu12-10.3.5.147 nvidia-cusolver-cu12-11.6.1.9 nvidia-cusparse-cu12-12.3.1.170 nvidia-nccl-cu12-2.21.5 nvidia-nvjitlink-cu12-12.4.127 opencv-python-headless-4.8.0.76 pandas-1.5.3 pinyin-0.4.0 pptree-3.1 pyarrow-10.0.1 pyarrow-hotfix-0.7 pytorch-revgrad-0.2.0 requests-2.28.2 s3transfer-0.13.1 scipy-1.10.1 segtok-1.5.11 sqlitedict-2.1.0 terminaltables-3.1.10 textattack-0.3.10 transformer-smaller-training-vocab-0.4.2 transformers-4.55.2 urllib3-1.26.20 wikipedia-api-0.8.1 word2number-1.1\n"
          ]
        },
        {
          "output_type": "display_data",
          "data": {
            "application/vnd.colab-display-data+json": {
              "pip_warning": {
                "packages": [
                  "numpy"
                ]
              },
              "id": "82eb5232c0e54685b7ac87f52b704770"
            }
          },
          "metadata": {}
        }
      ],
      "source": [
        "!pip uninstall -y numpy pandas requests pyarrow opencv-python-headless -q\n",
        "!pip install -U \\\n",
        "  \"numpy\" \\\n",
        "  \"pandas==1.5.3\" \\\n",
        "  \"requests==2.28.2\" \\\n",
        "  \"pyarrow==10.0.1\" \\\n",
        "  \"scipy==1.10.1\" \\\n",
        "  \"opencv-python-headless==4.8.0.76\" \\\n",
        "  \"transformers\" \\\n",
        "  \"datasets\" \\\n",
        "  \"evaluate\" \\\n",
        "  \"nltk==3.8.1\" \\\n",
        "  \"textattack\" \\\n",
        "  \"gensim==4.3.2\" \\\n",
        "  \"farasapy==0.0.11\""
      ]
    },
    {
      "cell_type": "code",
      "source": [
        "\n",
        "\n",
        "\n",
        "import os\n",
        "os.environ[\"WANDB_DISABLED\"] = \"true\"\n",
        "\n",
        "import nltk\n",
        "nltk.download(\"punkt\")\n",
        "nltk.download(\"wordnet\")\n",
        "nltk.download(\"omw-1.4\")\n",
        "\n",
        "# ============================================\n",
        "# ✅ Imports\n",
        "# ============================================\n",
        "import importlib.util\n",
        "import requests\n",
        "import evaluate\n",
        "from farasa.pos import FarasaPOSTagger\n",
        "from datasets import Dataset as HFDataset\n",
        "from nltk.corpus import wordnet as wn\n",
        "\n",
        "import torch\n",
        "from transformers import AutoTokenizer, AutoModelForSequenceClassification, Trainer, TrainingArguments\n",
        "\n",
        "from textattack.models.wrappers import HuggingFaceModelWrapper\n",
        "from textattack.attack import Attack\n",
        "from textattack.attacker import Attacker\n",
        "from textattack.attack_args import AttackArgs\n",
        "from textattack.search_methods import GreedyWordSwapWIR\n",
        "from textattack.goal_functions.classification import UntargetedClassification\n",
        "from textattack.constraints.pre_transformation import RepeatModification, StopwordModification\n",
        "from textattack.constraints.grammaticality import PartOfSpeech\n",
        "from textattack.constraints.semantics import WordEmbeddingDistance\n",
        "from textattack.constraints.semantics.sentence_encoders import UniversalSentenceEncoder\n",
        "from textattack.constraints.pre_transformation.input_column_modification import InputColumnModification\n",
        "from textattack.datasets import Dataset\n",
        "from textattack.transformations.word_swaps.word_swap import WordSwap\n",
        "\n",
        "# ============================================\n",
        "# ✅ Load FastText Arabic Embeddings\n",
        "# ============================================\n",
        "!wget -q https://dl.fbaipublicfiles.com/fasttext/vectors-crawl/cc.ar.300.vec.gz\n",
        "from gensim.models import KeyedVectors\n",
        "embedding_model = KeyedVectors.load_word2vec_format(\"cc.ar.300.vec.gz\", binary=False)\n",
        "\n",
        "# ============================================\n",
        "# ✅ Farasa POS Initialization\n",
        "# ============================================\n",
        "farasa_pos = FarasaPOSTagger(interactive=True)\n",
        "\n",
        "# ============================================\n",
        "# ✅ Arabic Hybrid Synonym Swap (FastText + WordNet + Sina)\n",
        "# ============================================\n",
        "class ArabicTextFoolerWordSwap(WordSwap):\n",
        "    def __init__(self, max_candidates=50):\n",
        "        super().__init__()\n",
        "        self.max_candidates = max_candidates\n",
        "\n",
        "    def fetch_sina_synonyms(self, word):\n",
        "        try:\n",
        "            response = requests.get(f\"https://sina.birzeit.edu/synonyms/api/{word}\", timeout=2)\n",
        "            if response.status_code == 200:\n",
        "                data = response.json()\n",
        "                return [item[\"synonym\"] for item in data if item.get(\"synonym\")]\n",
        "        except Exception:\n",
        "            pass\n",
        "        return []\n",
        "\n",
        "    def get_replacement_words(self, word):\n",
        "        \"\"\"Generate synonym candidates from FastText, WordNet, and Sina.\"\"\"\n",
        "        candidates = set()\n",
        "\n",
        "        # FastText\n",
        "        try:\n",
        "            neighbors = embedding_model.most_similar(word, topn=self.max_candidates)\n",
        "            candidates.update([w for w, _ in neighbors])\n",
        "        except KeyError:\n",
        "            pass\n",
        "\n",
        "        # Arabic WordNet\n",
        "        for syn in wn.synsets(word, lang='arb'):\n",
        "            for lemma in syn.lemma_names('arb'):\n",
        "                if lemma != word:\n",
        "                    candidates.add(lemma)\n",
        "\n",
        "        # Sina API\n",
        "        sina_syns = self.fetch_sina_synonyms(word)\n",
        "        candidates.update(sina_syns)\n",
        "\n",
        "        return list(candidates)\n",
        "\n",
        "    def _get_transformations(self, current_text, indices_to_modify=None):\n",
        "        \"\"\"Returns transformed texts with modified index tracking.\"\"\"\n",
        "        transformed_texts = []\n",
        "        indices_to_modify = indices_to_modify or range(len(current_text.words))\n",
        "\n",
        "        for idx in indices_to_modify:\n",
        "            word = current_text.words[idx]\n",
        "            replacements = self.get_replacement_words(word)\n",
        "\n",
        "            for replacement in replacements:\n",
        "                if replacement == word or not replacement.strip():\n",
        "                    continue\n",
        "\n",
        "                new_text = current_text.replace_word_at_index(idx, replacement)\n",
        "                new_text.attack_attrs[\"newly_modified_indices\"] = {idx}\n",
        "                transformed_texts.append(new_text)\n",
        "\n",
        "        return transformed_texts\n",
        "\n",
        "    def extra_repr(self):\n",
        "        return f\"(max_candidates={self.max_candidates})\"\n",
        "\n",
        "# ============================================\n",
        "# ✅ Load Arabic Dataset\n",
        "# ============================================\n",
        "dataset_path = \"/content/arbml_arabic_100_reviews.py\"\n",
        "spec = importlib.util.spec_from_file_location(\"arbml_dataset\", dataset_path)\n",
        "arbml_dataset = importlib.util.module_from_spec(spec)\n",
        "spec.loader.exec_module(arbml_dataset)\n",
        "data = arbml_dataset.data\n",
        "\n",
        "texts, labels = zip(*data)\n",
        "full_dataset = HFDataset.from_dict({\"text\": texts, \"label\": labels})\n",
        "\n",
        "# ============================================\n",
        "# ✅ Tokenizer and Preprocessing\n",
        "# ============================================\n",
        "model_name = \"asafaya/bert-base-arabic\"\n",
        "tokenizer = AutoTokenizer.from_pretrained(model_name)\n",
        "\n",
        "def tokenize_function(examples):\n",
        "    return tokenizer(examples[\"text\"], padding=\"max_length\", truncation=True, max_length=128)\n",
        "\n",
        "full_dataset = full_dataset.map(tokenize_function, batched=True)\n",
        "full_dataset = full_dataset.rename_column(\"label\", \"labels\")\n",
        "full_dataset.set_format(\"torch\", columns=[\"input_ids\", \"attention_mask\", \"labels\"])\n",
        "\n",
        "# ============================================\n",
        "# ✅ Fine-Tune Arabic BERT\n",
        "# ============================================\n",
        "accuracy_metric = evaluate.load(\"accuracy\")\n",
        "f1_metric = evaluate.load(\"f1\")\n",
        "\n",
        "def compute_metrics(eval_pred):\n",
        "    logits, labels = eval_pred\n",
        "    predictions = logits.argmax(axis=-1)\n",
        "    return {\n",
        "        \"accuracy\": accuracy_metric.compute(predictions=predictions, references=labels)[\"accuracy\"],\n",
        "        \"f1\": f1_metric.compute(predictions=predictions, references=labels, average=\"weighted\")[\"f1\"]\n",
        "    }\n",
        "\n",
        "model = AutoModelForSequenceClassification.from_pretrained(model_name, num_labels=2)\n",
        "\n",
        "training_args = TrainingArguments(\n",
        "    output_dir=\"./results\",\n",
        "    save_strategy=\"epoch\",\n",
        "    per_device_train_batch_size=8,\n",
        "    num_train_epochs=3,\n",
        "    logging_dir=\"./logs\"\n",
        ")\n",
        "\n",
        "trainer = Trainer(\n",
        "    model=model,\n",
        "    args=training_args,\n",
        "    train_dataset=full_dataset,\n",
        "    compute_metrics=compute_metrics\n",
        ")\n",
        "\n",
        "trainer.train()\n",
        "\n",
        "# ============================================\n",
        "# ✅ Wrap Model for Attack\n",
        "# ============================================\n",
        "model_wrapper = HuggingFaceModelWrapper(model, tokenizer)\n",
        "\n",
        "# ============================================\n",
        "# ✅ Build Arabic TextFooler-Style Attack\n",
        "# ============================================\n",
        "def build_arabic_textfooler_attack(model_wrapper):\n",
        "    transformation = ArabicTextFoolerWordSwap(max_candidates=50)\n",
        "\n",
        "    constraints = [\n",
        "        RepeatModification(),\n",
        "        StopwordModification(),\n",
        "        InputColumnModification(\n",
        "            matching_column_labels=[\"premise\", \"hypothesis\"],\n",
        "            columns_to_ignore=[\"premise\"]\n",
        "        ),\n",
        "        WordEmbeddingDistance(min_cos_sim=0.5),\n",
        "        PartOfSpeech(allow_verb_noun_swap=True),\n",
        "\n",
        "    ]\n",
        "\n",
        "    goal_function = UntargetedClassification(model_wrapper)\n",
        "    search_method = GreedyWordSwapWIR(wir_method=\"delete\")\n",
        "    return Attack(goal_function, constraints, transformation, search_method)\n",
        "\n",
        "# ============================================\n",
        "# ✅ Run the Attack\n",
        "# ============================================\n",
        "attack_dataset = Dataset(list(zip(texts, labels)))\n",
        "attack = build_arabic_textfooler_attack(model_wrapper)\n",
        "\n",
        "attack_args = AttackArgs(\n",
        "    num_examples=len(attack_dataset),\n",
        "    log_to_csv=\"arabic_textfooler_combined_results.csv\",\n",
        "    csv_coloring_style=\"plain\",\n",
        "    disable_stdout=False,\n",
        "    random_seed=42,\n",
        ")\n",
        "\n",
        "attacker = Attacker(attack, attack_dataset, attack_args)\n",
        "attacker.attack_dataset()\n"
      ],
      "metadata": {
        "colab": {
          "base_uri": "https://localhost:8080/",
          "height": 1000,
          "referenced_widgets": [
            "328d89ab8a1a441cb4c0a0db04d45d37",
            "bfa8bba2cbd743a1b27950cbbffb7156",
            "8c426355f07e4f06aae541196353036a",
            "4ec61a8eec684449b534b57a5c9f9ba8",
            "09f0851b7634415cad854774fa3548c0",
            "9ecd894785be4037b29c252f39552256",
            "fb18084135ac439394b6a50908ce3a44",
            "79d9674528d2485aaa22da1d0b142649",
            "2d0fc6333d0f4a6795dcfb26fc877454",
            "9cea750ae3214a5596cd95568d82bede",
            "bddcc7c71b934d8b80cdb70938071ff7",
            "b9d83198d8384abfa60e40ca4792b161",
            "c09c09a26a814999bb32c63a77523f85",
            "182bb56025f34fdbb1a7fc3de8c9afdc",
            "d07dadce6ba24c14b55da5846c97feba",
            "1bc12035520641daa6708f15c688c4cb",
            "655ba0888ac94055b887989faf8b9099",
            "12dac047c40c4d2cb50a479a2184fb75",
            "bc60539286c9407db9c1a2f2a985c4a2",
            "5d73a6a49738497cb07b660fda557a55",
            "e2dfe57976bc4485b28818bfaf22d397",
            "ceb8e6360967430288cdf254175f0257",
            "c2d212cf4494414e9c2cc904562c28a9",
            "ba5d3d6e7c6e47399ec182cbb80841de",
            "938fec1b4a65430a8ac17ccbf01dd643",
            "55a91bace4d541debe11f0b92e4d68d8",
            "5c4ad3fcc32241729ec33c0781871232",
            "d6f9e46ef9b249989052beff6d8e70a4",
            "fc3b396a0f9843548b91ceef925274bf",
            "32d8d5eef57843b79472a90be1a54663",
            "9ddef0821b824bd78fc7140036baee44",
            "d07a89a336c341d48d22ff04756b9cd3",
            "88bb37e30ff8463c8429a35f094af2ea",
            "223b951004d44cb593022251709b44b6",
            "0ffe8614ea894c89b02f2fa983248267",
            "44e13ef7a4b04ec996eb52fb5b122f6b",
            "5c41e2441d564b508f3c68b3b6c7d832",
            "2b6b6e4103c449f2a71b3b2900831862",
            "402cf78ab2c14c82878a6b3d274e752e",
            "b4454a9753c141558424866e1412787e",
            "456349928db347879c45c5ab66ca8f7f",
            "e642b791f0f941ba8c08c4b84ab0aed2",
            "dbac1ebba37a4e99aa8eac2bc9785e5b",
            "fcd000d766a041f7b92a3886fba14b01",
            "a5b043c82103492a8860bb33fa6daca0",
            "9f8af3072fee499fa9aa81a2a6626505",
            "43641a5618844dbfa3eb739154db631b",
            "72bff0fd623b492faa2e5b4371f7ec4b",
            "cc13681fd33747dcb3aec4fc545fe12e",
            "5abfc09cba2140449c907645c15a96d9",
            "94590baf016343379a6a1c6c9a67a524",
            "f8c4457535ba4d15ba90fd9830c65688",
            "27e2834bfd9e42bdb9e8ed1c603c5112",
            "00c3c13105944920aec82cda6e80e849",
            "2f51421cbc964df78c1b2e25d685a1f0",
            "1969384434194c899380d2c0aa241dd7",
            "a7e5388eab984f1faeeaac22acf0bc7c",
            "f3cc8c2a22e94abd85d6662327c13e9d",
            "9163412db52e42ce8fd4809b5331724a",
            "732601c18d23457585e9a5a33916b402",
            "3f09b3632672423d87f0c774726c6ede",
            "e408d881d50641d387f243ed038b68b1",
            "8370b12bca2245ce95d55fc2f05b42ca",
            "25d405a53b264f43944516280f8261c8",
            "3924789d8e0743e582702487acc4316c",
            "e21f7063fe0140289c3f8636bc8b40da",
            "31d47b2aa9f142b2897f1e3918a23c9a",
            "b064cc67007c4fdca043ec5d2adae1f9",
            "3e53ab8a66ca4d1eb005ae7b0a6794b9",
            "aafe60eed4c143bcb5692685e0e617a0",
            "2f6cca898d3f47549d8153859717f22c",
            "4d3ee874655a46c69c9b83382dadc1cf",
            "9c08c301563341d19df68947e1d79302",
            "2fa52445a6884daa97bb5a441c3adadf",
            "f483a62715174f14867d878ba1982fcd",
            "3bfc2142a0854f959fea8c23cf3b7640",
            "fbefdce05564439483cb22ddb6325369",
            "a1f65681026a4716a32e4b2047cd3cd6",
            "277b41c1dd734ccebe6c5346883f60ce",
            "037ad14d8d9d4b468601cb7de327f601",
            "da06fb459f0844bf9aec879151c9d1c7",
            "fb31ea81383549ffa871fe7c10ac8b5f",
            "fb820851008f45e28c42f970b6746b21",
            "4b6617a47c9b41729e08cc0b59b991d5",
            "e7ba89950ace4fd591919fdda289df26",
            "df36489015d441bc9a0d6e1a8d72b0fe",
            "dce000b13e794b5a9ee002886440732b",
            "a98bf256acfa472697bde907c5567748"
          ]
        },
        "id": "EKfD6lXTP-Ic",
        "outputId": "7681e5f7-0aa7-42ab-9674-8d52b7a29e02"
      },
      "execution_count": null,
      "outputs": [
        {
          "metadata": {
            "tags": null
          },
          "name": "stderr",
          "output_type": "stream",
          "text": [
            "[nltk_data] Downloading package punkt to /root/nltk_data...\n",
            "[nltk_data]   Unzipping tokenizers/punkt.zip.\n",
            "[nltk_data] Downloading package wordnet to /root/nltk_data...\n",
            "[nltk_data] Downloading package omw-1.4 to /root/nltk_data...\n",
            "textattack: Updating TextAttack package dependencies.\n",
            "textattack: Downloading NLTK required packages.\n",
            "[nltk_data] Downloading package averaged_perceptron_tagger to\n",
            "[nltk_data]     /root/nltk_data...\n",
            "[nltk_data]   Unzipping taggers/averaged_perceptron_tagger.zip.\n",
            "[nltk_data] Downloading package stopwords to /root/nltk_data...\n",
            "[nltk_data]   Unzipping corpora/stopwords.zip.\n",
            "[nltk_data] Downloading package omw to /root/nltk_data...\n",
            "[nltk_data] Downloading package universal_tagset to /root/nltk_data...\n",
            "[nltk_data]   Unzipping taggers/universal_tagset.zip.\n",
            "[nltk_data] Downloading package wordnet to /root/nltk_data...\n",
            "[nltk_data]   Package wordnet is already up-to-date!\n",
            "[nltk_data] Downloading package punkt to /root/nltk_data...\n",
            "[nltk_data]   Package punkt is already up-to-date!\n",
            "/usr/local/lib/python3.11/dist-packages/urllib3/connectionpool.py:1064: InsecureRequestWarning: Unverified HTTPS request is being made to host 'farasa-api.qcri.org'. Adding certificate verification is strongly advised. See: https://urllib3.readthedocs.io/en/1.26.x/advanced-usage.html#ssl-warnings\n",
            "  warnings.warn(\n"
          ]
        },
        {
          "metadata": {
            "tags": null
          },
          "name": "stdout",
          "output_type": "stream",
          "text": [
            "100%|██████████| 241M/241M [07:47<00:00, 516kiB/s]\n"
          ]
        },
        {
          "metadata": {
            "tags": null
          },
          "name": "stderr",
          "output_type": "stream",
          "text": [
            "[2025-08-13 23:12:31,146 - farasapy_logger - WARNING]: Be careful with large lines as they may break on interactive mode. You may switch to Standalone mode for such cases.\n",
            "/usr/local/lib/python3.11/dist-packages/huggingface_hub/utils/_auth.py:94: UserWarning: \n",
            "The secret `HF_TOKEN` does not exist in your Colab secrets.\n",
            "To authenticate with the Hugging Face Hub, create a token in your settings tab (https://huggingface.co/settings/tokens), set it as secret in your Google Colab and restart your session.\n",
            "You will be able to reuse this secret in all of your notebooks.\n",
            "Please note that authentication is recommended but still optional to access public models or datasets.\n",
            "  warnings.warn(\n"
          ]
        },
        {
          "data": {
            "application/vnd.jupyter.widget-view+json": {
              "model_id": "328d89ab8a1a441cb4c0a0db04d45d37",
              "version_major": 2,
              "version_minor": 0
            },
            "text/plain": [
              "tokenizer_config.json:   0%|          | 0.00/62.0 [00:00<?, ?B/s]"
            ]
          },
          "metadata": {},
          "output_type": "display_data"
        },
        {
          "data": {
            "application/vnd.jupyter.widget-view+json": {
              "model_id": "b9d83198d8384abfa60e40ca4792b161",
              "version_major": 2,
              "version_minor": 0
            },
            "text/plain": [
              "config.json:   0%|          | 0.00/491 [00:00<?, ?B/s]"
            ]
          },
          "metadata": {},
          "output_type": "display_data"
        },
        {
          "data": {
            "application/vnd.jupyter.widget-view+json": {
              "model_id": "c2d212cf4494414e9c2cc904562c28a9",
              "version_major": 2,
              "version_minor": 0
            },
            "text/plain": [
              "vocab.txt: 0.00B [00:00, ?B/s]"
            ]
          },
          "metadata": {},
          "output_type": "display_data"
        },
        {
          "data": {
            "application/vnd.jupyter.widget-view+json": {
              "model_id": "223b951004d44cb593022251709b44b6",
              "version_major": 2,
              "version_minor": 0
            },
            "text/plain": [
              "special_tokens_map.json:   0%|          | 0.00/112 [00:00<?, ?B/s]"
            ]
          },
          "metadata": {},
          "output_type": "display_data"
        },
        {
          "data": {
            "application/vnd.jupyter.widget-view+json": {
              "model_id": "a5b043c82103492a8860bb33fa6daca0",
              "version_major": 2,
              "version_minor": 0
            },
            "text/plain": [
              "Map:   0%|          | 0/100 [00:00<?, ? examples/s]"
            ]
          },
          "metadata": {},
          "output_type": "display_data"
        },
        {
          "data": {
            "application/vnd.jupyter.widget-view+json": {
              "model_id": "1969384434194c899380d2c0aa241dd7",
              "version_major": 2,
              "version_minor": 0
            },
            "text/plain": [
              "Downloading builder script: 0.00B [00:00, ?B/s]"
            ]
          },
          "metadata": {},
          "output_type": "display_data"
        },
        {
          "data": {
            "application/vnd.jupyter.widget-view+json": {
              "model_id": "31d47b2aa9f142b2897f1e3918a23c9a",
              "version_major": 2,
              "version_minor": 0
            },
            "text/plain": [
              "Downloading builder script: 0.00B [00:00, ?B/s]"
            ]
          },
          "metadata": {},
          "output_type": "display_data"
        },
        {
          "data": {
            "application/vnd.jupyter.widget-view+json": {
              "model_id": "a1f65681026a4716a32e4b2047cd3cd6",
              "version_major": 2,
              "version_minor": 0
            },
            "text/plain": [
              "model.safetensors:   0%|          | 0.00/445M [00:00<?, ?B/s]"
            ]
          },
          "metadata": {},
          "output_type": "display_data"
        },
        {
          "metadata": {
            "tags": null
          },
          "name": "stderr",
          "output_type": "stream",
          "text": [
            "Some weights of BertForSequenceClassification were not initialized from the model checkpoint at asafaya/bert-base-arabic and are newly initialized: ['classifier.bias', 'classifier.weight']\n",
            "You should probably TRAIN this model on a down-stream task to be able to use it for predictions and inference.\n",
            "Using the `WANDB_DISABLED` environment variable is deprecated and will be removed in v5. Use the --report_to flag to control the integrations used for logging result (for instance --report_to none).\n"
          ]
        },
        {
          "data": {
            "text/html": [
              "\n",
              "    <div>\n",
              "      \n",
              "      <progress value='39' max='39' style='width:300px; height:20px; vertical-align: middle;'></progress>\n",
              "      [39/39 00:23, Epoch 3/3]\n",
              "    </div>\n",
              "    <table border=\"1\" class=\"dataframe\">\n",
              "  <thead>\n",
              " <tr style=\"text-align: left;\">\n",
              "      <th>Step</th>\n",
              "      <th>Training Loss</th>\n",
              "    </tr>\n",
              "  </thead>\n",
              "  <tbody>\n",
              "  </tbody>\n",
              "</table><p>"
            ],
            "text/plain": [
              "<IPython.core.display.HTML object>"
            ]
          },
          "metadata": {},
          "output_type": "display_data"
        },
        {
          "metadata": {
            "tags": null
          },
          "name": "stderr",
          "output_type": "stream",
          "text": [
            "textattack: Downloading https://textattack.s3.amazonaws.com/word_embeddings/paragramcf.\n",
            "100%|██████████| 481M/481M [00:12<00:00, 38.5MB/s]\n",
            "textattack: Unzipping file /root/.cache/textattack/tmpx9o9svps.zip to /root/.cache/textattack/word_embeddings/paragramcf.\n",
            "textattack: Successfully saved word_embeddings/paragramcf to cache.\n",
            "textattack: Unknown if model of class <class 'transformers.models.bert.modeling_bert.BertForSequenceClassification'> compatible with goal function <class 'textattack.goal_functions.classification.untargeted_classification.UntargetedClassification'>.\n",
            "textattack: Logging to CSV at path arabic_textfooler_combined_results.csv\n"
          ]
        },
        {
          "metadata": {
            "tags": null
          },
          "name": "stdout",
          "output_type": "stream",
          "text": [
            "Attack(\n",
            "  (search_method): GreedyWordSwapWIR(\n",
            "    (wir_method):  delete\n",
            "  )\n",
            "  (goal_function):  UntargetedClassification\n",
            "  (transformation):  ArabicTextFoolerWordSwap\n",
            "  (constraints): \n",
            "    (0): WordEmbeddingDistance(\n",
            "        (embedding):  WordEmbedding\n",
            "        (min_cos_sim):  0.5\n",
            "        (cased):  False\n",
            "        (include_unknown_words):  True\n",
            "        (compare_against_original):  True\n",
            "      )\n",
            "    (1): PartOfSpeech(\n",
            "        (tagger_type):  nltk\n",
            "        (tagset):  universal\n",
            "        (allow_verb_noun_swap):  True\n",
            "        (compare_against_original):  True\n",
            "      )\n",
            "    (2): RepeatModification\n",
            "    (3): StopwordModification\n",
            "    (4): InputColumnModification(\n",
            "        (matching_column_labels):  ['premise', 'hypothesis']\n",
            "        (columns_to_ignore):  ['premise']\n",
            "      )\n",
            "  (is_black_box):  True\n",
            ") \n",
            "\n"
          ]
        },
        {
          "metadata": {
            "tags": null
          },
          "name": "stderr",
          "output_type": "stream",
          "text": [
            "[Succeeded / Failed / Skipped / Total] 0 / 1 / 0 / 1:   1%|          | 1/100 [02:44<4:30:55, 164.20s/it]"
          ]
        },
        {
          "metadata": {
            "tags": null
          },
          "name": "stdout",
          "output_type": "stream",
          "text": [
            "--------------------------------------------- Result 1 ---------------------------------------------\n",
            "[[1 (91%)]] --> [[[FAILED]]]\n",
            "\n",
            "أحد أسباب نجاح الإمارات أن كل شخص في هذه الدولة يعشق ترابها. نحن نحب الإمارات. ومضات من فكر. نصائح لدولة تطمح بالصفوف الأولى و قائد لا يقبل إلا براحة شعبه وتوفر كل سب العيش الكريم. حكم و مواقف ونصائح لكل فرد فينا ليس بمجرد كتاب سياسي كما كنت اعتقد. يستحق القراءة مرات كثيرة\n",
            "\n",
            "\n"
          ]
        },
        {
          "metadata": {
            "tags": null
          },
          "name": "stderr",
          "output_type": "stream",
          "text": [
            "[Succeeded / Failed / Skipped / Total] 1 / 1 / 0 / 2:   2%|▏         | 2/100 [04:32<3:42:32, 136.25s/it]"
          ]
        },
        {
          "metadata": {
            "tags": null
          },
          "name": "stdout",
          "output_type": "stream",
          "text": [
            "--------------------------------------------- Result 2 ---------------------------------------------\n",
            "[[0 (82%)]] --> [[1 (51%)]]\n",
            "\n",
            "يتحدث الشقيري في هذا الكتاب عن رحلته للهند، ثم يلحقها باقتباسات لغاندي.. في الفصل الأول الكثير من التفاصيل الخاصة بالرحلة لم تكن ذات أهمية للقارئ . علاوة على أن أغلب الصور لا تقدم فائدة . كتابته باللغة العامية تجعلني في حيرة كيف يقيم الشقيري لغتنا العربية؟ هل هي من الأولويات؟ أم من الشكليات التي لا بأس أن نتساهل فيها . فكرة الخلوة في الهند تصعب الأمر.. لم لا تكون الخلوة في البيت؟ كما نصح إحدى البنات؟ فالغاية من الخلوة تحتم [[تكرارها]] عدة [[مرات]] وهذا ما يصعب تنفيذه كل مرة برحلة للهند . اللاءات حصرها حسب اهتماماته هو في لابتوب [[وهاتف]] وتلفاز.. وهي أمور قد [[لاتكون]] منغصة للخلوة عند آخرين... أما الفصل الخاص باقتباسات غاندي فلم تأت [[بجديد]]، وهو ما أوضحه بأنها موجودة في سيرة نبينا محمد صلى الله عليه وسلم .. عموما الكتاب: [[ضعيف]] المحتوى، ولا يخلو من المتعة [[والفائدة]] والنصائح القيمة.\n",
            "\n",
            "يتحدث الشقيري في هذا الكتاب عن رحلته للهند، ثم يلحقها باقتباسات لغاندي.. في الفصل الأول الكثير من التفاصيل الخاصة بالرحلة لم تكن ذات أهمية للقارئ . علاوة على أن أغلب الصور لا تقدم فائدة . كتابته باللغة العامية تجعلني في حيرة كيف يقيم الشقيري لغتنا العربية؟ هل هي من الأولويات؟ أم من الشكليات التي لا بأس أن نتساهل فيها . فكرة الخلوة في الهند تصعب الأمر.. لم لا تكون الخلوة في البيت؟ كما نصح إحدى البنات؟ فالغاية من الخلوة تحتم [[تتكرر]] عدة [[mostwins]] وهذا ما يصعب تنفيذه كل مرة برحلة للهند . اللاءات حصرها حسب اهتماماته هو في لابتوب [[فهاتف]] وتلفاز.. وهي أمور قد [[اتكون]] منغصة للخلوة عند آخرين... أما الفصل الخاص باقتباسات غاندي فلم تأت [[بالمفاجئات]]، وهو ما أوضحه بأنها موجودة في سيرة نبينا محمد صلى الله عليه وسلم .. عموما الكتاب: [[ضعيفآ]] المحتوى، ولا يخلو من المتعة [[والاستفادة]] والنصائح القيمة.\n",
            "\n",
            "\n"
          ]
        },
        {
          "metadata": {
            "tags": null
          },
          "name": "stderr",
          "output_type": "stream",
          "text": [
            "[Succeeded / Failed / Skipped / Total] 2 / 1 / 0 / 3:   3%|▎         | 3/100 [06:39<3:35:07, 133.07s/it]"
          ]
        },
        {
          "metadata": {
            "tags": null
          },
          "name": "stdout",
          "output_type": "stream",
          "text": [
            "--------------------------------------------- Result 3 ---------------------------------------------\n",
            "[[0 (74%)]] --> [[1 (52%)]]\n",
            "\n",
            "ممممممم فرج فودة رغم استفادتى من كتبه على نحو كبير ولكن بعد قراءتى لاكثر من مؤلف له تيقنت بأنه شخص [[يبتذل]] [[بل]] يتفنن فى صنع الخلاف. [[مممممممم]] لا أجد فيما [[كتب]] فرج فودة سببا يدعو لقتله او إغتياله..... [[و]] رغم اعترافى بانه جدلى لدرجة قد دفعته للاستشهاد باحداث ابتدعها الشيعة فى حق الصحابة للتأكيد على فكرته. ولكنه فى المعظم يبنى حجته بالبرهان و على من يناقضه [[ان]] يفعل المثل\n",
            "\n",
            "ممممممم فرج فودة رغم استفادتى من كتبه على نحو كبير ولكن بعد قراءتى لاكثر من مؤلف له تيقنت بأنه شخص [[يتحذلق]] [[قد]] يتفنن فى صنع الخلاف. [[امممممممم]] لا أجد فيما [[وموسوعات]] فرج فودة سببا يدعو لقتله او إغتياله..... [[غـرآئـب]] رغم اعترافى بانه جدلى لدرجة قد دفعته للاستشهاد باحداث ابتدعها الشيعة فى حق الصحابة للتأكيد على فكرته. ولكنه فى المعظم يبنى حجته بالبرهان و على من يناقضه [[ιﻟﻟهم]] يفعل المثل\n",
            "\n",
            "\n"
          ]
        },
        {
          "metadata": {
            "tags": null
          },
          "name": "stderr",
          "output_type": "stream",
          "text": [
            "[Succeeded / Failed / Skipped / Total] 2 / 2 / 0 / 4:   4%|▍         | 4/100 [07:45<3:06:18, 116.44s/it]"
          ]
        },
        {
          "metadata": {
            "tags": null
          },
          "name": "stdout",
          "output_type": "stream",
          "text": [
            "--------------------------------------------- Result 4 ---------------------------------------------\n",
            "[[1 (85%)]] --> [[[FAILED]]]\n",
            "\n",
            "الأحداث هنا اكتر بكتير من الجزء الأول والأسلوب احلى كمان ،،عجبنى خياله جدا فى عالم الجن بصورة مختلفة تماما عن المعروف مستنيين العائد وشكلها هتتأخر وهننسى الأحداث\n",
            "\n",
            "\n"
          ]
        },
        {
          "metadata": {
            "tags": null
          },
          "name": "stderr",
          "output_type": "stream",
          "text": [
            "Building prefix dict from the default dictionary ...\n",
            "DEBUG:jieba:Building prefix dict from the default dictionary ...\n",
            "Dumping model to file cache /tmp/jieba.cache\n",
            "DEBUG:jieba:Dumping model to file cache /tmp/jieba.cache\n",
            "Loading model cost 0.621 seconds.\n",
            "DEBUG:jieba:Loading model cost 0.621 seconds.\n",
            "Prefix dict has been built successfully.\n",
            "DEBUG:jieba:Prefix dict has been built successfully.\n",
            "[Succeeded / Failed / Skipped / Total] 2 / 3 / 0 / 5:   5%|▌         | 5/100 [16:59<5:22:50, 203.90s/it]"
          ]
        },
        {
          "metadata": {
            "tags": null
          },
          "name": "stdout",
          "output_type": "stream",
          "text": [
            "--------------------------------------------- Result 5 ---------------------------------------------\n",
            "[[1 (82%)]] --> [[[FAILED]]]\n",
            "\n",
            "رائع رائع رائع .. غريب أن شخصية مثل عبد الله البرغوثي لا يعرفها أو يعرف قصتها الكثير . فعلا لا بد من الجميع معرفتها .. ومن خلال هذه السيرة الذاتية أو الرواية أو أيا ما كان اسمه فإن المعلومات كاملة ستصل بسلاسة وسهولة للجميع .. فهو كتاب ذو لغة بسيطة والمعلومات تتدفق بشكل سريع.. بشكل عام هو كتاب ممتع جدا ومفيد جدا ومهم جدا لإعطاء الحماسة والتفاؤل للمرحلة القادمة\n",
            "\n",
            "\n"
          ]
        },
        {
          "metadata": {
            "tags": null
          },
          "name": "stderr",
          "output_type": "stream",
          "text": [
            "[Succeeded / Failed / Skipped / Total] 2 / 4 / 0 / 6:   6%|▌         | 6/100 [18:34<4:50:56, 185.71s/it]"
          ]
        },
        {
          "metadata": {
            "tags": null
          },
          "name": "stdout",
          "output_type": "stream",
          "text": [
            "--------------------------------------------- Result 6 ---------------------------------------------\n",
            "[[1 (88%)]] --> [[[FAILED]]]\n",
            "\n",
            "استثنائي. تصميم مريح للغرف وترحيب مثالي ومجانية المواقف اضافت ميزة كبيرة للفندق. الوصول بالسيارة الي الفندق في غاية الصعوبة وعدم وضوح مدخل الفندق في ظل الاصلاحات حول الحرم.\n",
            "\n",
            "\n"
          ]
        },
        {
          "metadata": {
            "tags": null
          },
          "name": "stderr",
          "output_type": "stream",
          "text": [
            "[Succeeded / Failed / Skipped / Total] 3 / 4 / 0 / 7:   7%|▋         | 7/100 [18:42<4:08:39, 160.43s/it]"
          ]
        },
        {
          "metadata": {
            "tags": null
          },
          "name": "stdout",
          "output_type": "stream",
          "text": [
            "--------------------------------------------- Result 7 ---------------------------------------------\n",
            "[[0 (80%)]] --> [[1 (58%)]]\n",
            "\n",
            "[[رحلتي]] الى جورجيا فندق جميل والمكان جميل اجواء رائعه سهوله في التعامل ولكن قليل يعرفون اللغه الانكليزيه على كل حال فندق جميل وخدمه رائعه ولكن الانترنيت ضعيف المكان الفندق عيبه الوحيد بعيد عن المركز الساعه العاشره لاتوجد مطاعم ولا توجد محلات [[قريبه]] والمكان كئيب [[في]] الليل\n",
            "\n",
            "[[رحلتيها]] الى جورجيا فندق جميل والمكان جميل اجواء رائعه سهوله في التعامل ولكن قليل يعرفون اللغه الانكليزيه على كل حال فندق جميل وخدمه رائعه ولكن الانترنيت ضعيف المكان الفندق عيبه الوحيد بعيد عن المركز الساعه العاشره لاتوجد مطاعم ولا توجد محلات [[وقريبها]] والمكان كئيب [[Arzuiyeh]] الليل\n",
            "\n",
            "\n"
          ]
        },
        {
          "metadata": {
            "tags": null
          },
          "name": "stderr",
          "output_type": "stream",
          "text": [
            "[Succeeded / Failed / Skipped / Total] 4 / 4 / 0 / 8:   8%|▊         | 8/100 [19:25<3:43:28, 145.75s/it]"
          ]
        },
        {
          "metadata": {
            "tags": null
          },
          "name": "stdout",
          "output_type": "stream",
          "text": [
            "--------------------------------------------- Result 8 ---------------------------------------------\n",
            "[[0 (86%)]] --> [[1 (52%)]]\n",
            "\n",
            "أول تجربة لي [[مع]] الغزالي. تمنيت كثيرا عن أحب الكتاب، لكنني لم استطع.. مواضيع الكتاب كانت جميلة، كنت سأحبه أكثر لو استطرد الغزالي اكثر في المواضيع بدلا عن اقتباس ماقاله ديل كارنجي [[وغيره]] ومن ثم ربطها بآية أو حديث.. [[أنا]] بالعموم [[لا]] أميل لقراءة الكتب التي تصنف تحت تنمية الذات، أظن ان ذلك [[عائد]] لكثرة المحاضرات والدورات التي حضرتها في فترة من الفترات لدرجة أني [[تشبعت]] منها [[تماما]]\n",
            "\n",
            "أول تجربة لي [[أتهاوش]] الغزالي. تمنيت كثيرا عن أحب الكتاب، لكنني لم استطع.. مواضيع الكتاب كانت جميلة، كنت سأحبه أكثر لو استطرد الغزالي اكثر في المواضيع بدلا عن اقتباس ماقاله ديل كارنجي [[والكديمي]] ومن ثم ربطها بآية أو حديث.. [[أنت]] بالعموم [[فﻼ]] أميل لقراءة الكتب التي تصنف تحت تنمية الذات، أظن ان ذلك [[عائدة]] لكثرة المحاضرات والدورات التي حضرتها في فترة من الفترات لدرجة أني [[ملئتها]] منها.[[إن]] [[تماماو]]\n",
            "\n",
            "\n"
          ]
        },
        {
          "metadata": {
            "tags": null
          },
          "name": "stderr",
          "output_type": "stream",
          "text": [
            "[Succeeded / Failed / Skipped / Total] 5 / 4 / 0 / 9:   9%|▉         | 9/100 [19:29<3:17:07, 129.97s/it]"
          ]
        },
        {
          "metadata": {
            "tags": null
          },
          "name": "stdout",
          "output_type": "stream",
          "text": [
            "--------------------------------------------- Result 9 ---------------------------------------------\n",
            "[[0 (69%)]] --> [[1 (64%)]]\n",
            "\n",
            "ا للاهمال والاستغلال . موقع [[الفندق]]. خدمة النت غير مجانيهالسيرفس ضعيف جدا جدا لم يكن حجز الغرفه مؤكد مما دعانا للانتظار فتره طويله ضريبه الفندق مرتفعه جدا تحويل النقود لعملة الدرهم بثلاث أضعاف عن السوق\n",
            "\n",
            "ا للاهمال والاستغلال . موقع [[الهوتيل]]. خدمة النت غير مجانيهالسيرفس ضعيف جدا جدا لم يكن حجز الغرفه مؤكد مما دعانا للانتظار فتره طويله ضريبه الفندق مرتفعه جدا تحويل النقود لعملة الدرهم بثلاث أضعاف عن السوق\n",
            "\n",
            "\n"
          ]
        },
        {
          "metadata": {
            "tags": null
          },
          "name": "stderr",
          "output_type": "stream",
          "text": [
            "[Succeeded / Failed / Skipped / Total] 6 / 4 / 0 / 10:  10%|█         | 10/100 [19:33<2:55:57, 117.30s/it]"
          ]
        },
        {
          "metadata": {
            "tags": null
          },
          "name": "stdout",
          "output_type": "stream",
          "text": [
            "--------------------------------------------- Result 10 ---------------------------------------------\n",
            "[[0 (57%)]] --> [[1 (51%)]]\n",
            "\n",
            "قصص قصيرة تحاكي طبيعة المجتمع القروي في [[الفترة]] التي عاش فيها الكاتب، بشكل عام لم تكن ممتعة مقارنة بما يمكن أن تنتظره من ميخائيل نعيمة\n",
            "\n",
            "قصص قصيرة تحاكي طبيعة المجتمع القروي في [[والفترة]] التي عاش فيها الكاتب، بشكل عام لم تكن ممتعة مقارنة بما يمكن أن تنتظره من ميخائيل نعيمة\n",
            "\n",
            "\n"
          ]
        },
        {
          "metadata": {
            "tags": null
          },
          "name": "stderr",
          "output_type": "stream",
          "text": [
            "[Succeeded / Failed / Skipped / Total] 6 / 5 / 0 / 11:  11%|█         | 11/100 [21:41<2:55:30, 118.33s/it]"
          ]
        },
        {
          "metadata": {
            "tags": null
          },
          "name": "stdout",
          "output_type": "stream",
          "text": [
            "--------------------------------------------- Result 11 ---------------------------------------------\n",
            "[[1 (87%)]] --> [[[FAILED]]]\n",
            "\n",
            "رواية مظلومه لم تعطى حقها من الانتشار .. اللغه الأسلوب العديد من الحورات والواقعيه في الأحداث ، أحب لغة بثينه الحاده .. أحلام شخصياتها السرد الغير طويل والمتقن . أنهيتها في ليله واحده جعلتني اعيش في عالمها واتسعت بالخيال .. تقول بثينه :. عندما نولد اناثا ، فنحن نولد قضايا ؛ لان العالم مزود بتقنيات تحد منا\n",
            "\n",
            "\n"
          ]
        },
        {
          "metadata": {
            "tags": null
          },
          "name": "stderr",
          "output_type": "stream",
          "text": [
            "[Succeeded / Failed / Skipped / Total] 7 / 5 / 0 / 12:  12%|█▏        | 12/100 [25:28<3:06:51, 127.41s/it]"
          ]
        },
        {
          "metadata": {
            "tags": null
          },
          "name": "stdout",
          "output_type": "stream",
          "text": [
            "--------------------------------------------- Result 12 ---------------------------------------------\n",
            "[[1 (85%)]] --> [[0 (51%)]]\n",
            "\n",
            "[[خدمه]] [[ممتازة]] عودةالعصير العلب لان البودر غير [[صحي]] ونحن [[من]] عشاق هيلتون لونج بيتش [[الغردقة]] كمانشكر استأنف النظافة والمطعم والاستقبال [[وشك]] [[خاص]] جدا [[الأستار]] [[جوهرة]] نقترح [[لسيادتكم]] [[التنوع]] [[في]] [[أصناف]] [[الأكل]] لان معظم التركيز [[علي]] الفراخ وعودة الشاورما وجبات البيتي الشاطئ [[ونتمنا]] ان [[نطاف]] للقرية ألعاب [[اكوا]] ماءية\n",
            "\n",
            "[[هالخدمه]] [[جيد]] عودةالعصير العلب لان البودر غير [[azmiah]] ونحن [[فـيه]]ِ عشاق هيلتون لونج بيتش [[بسفاجا]] كمانشكر استأنف النظافة والمطعم والاستقبال [[بصدد]] [[مجهز]] جدا [[ح]]ُ[[ج]]ُ[[ب]] [[الزوهرة]] نقترح [[لجلالتكم]] [[والتجانس]] [[إدل]] [[أنوع]] [[الطعام]]‏ لان معظم التركيز [[عمرعلى]] الفراخ وعودة الشاورما وجبات البيتي الشاطئ [[وانشاله]] ان [[المنوية]] للقرية ألعاب [[ساكوا]] ماءية\n",
            "\n",
            "\n"
          ]
        },
        {
          "metadata": {
            "tags": null
          },
          "name": "stderr",
          "output_type": "stream",
          "text": [
            "[Succeeded / Failed / Skipped / Total] 8 / 5 / 1 / 14:  14%|█▍        | 14/100 [25:52<2:38:55, 110.88s/it]"
          ]
        },
        {
          "metadata": {
            "tags": null
          },
          "name": "stdout",
          "output_type": "stream",
          "text": [
            "--------------------------------------------- Result 13 ---------------------------------------------\n",
            "[[1 (92%)]] --> [[0 (51%)]]\n",
            "\n",
            "[[رغم]] الحزن الموجود في حروفك ... [[الا]] انها [[جميعا]] [[مكتوبه]] بحبر تفاؤل . تناقض غريب ... [[ولكن]] رائع ... [[شكرا]] لقلمك\n",
            "\n",
            "[[للأسف]] الحزن الموجود في حروفك ... [[الاالله]] انها [[جميعا0]] [[كتبتها]] بحبر تفاؤل . تناقض غريب ... [[لاكن]] رائع ... [[شكرررررا]] لقلمك\n",
            "\n",
            "\n",
            "--------------------------------------------- Result 14 ---------------------------------------------\n",
            "[[0 (65%)]] --> [[[SKIPPED]]]\n",
            "\n",
            "ترفيه . مناسب جدا للعائله .. وقربه من المترو مع العلم أن الجهه المقابله أيضا فندق تابع لهم اسمه ياسات جلوريا .. بنفس المستوى تماما ..وهذا الفندق يوجد به مطعم عربي مفتوح دائما .. قربه من نخلة جميرا .. ومن مرسى دبي ..والفندق محافظ جدا ..ولفت اثناء دخولي باللوبي وجدت شاب يسكن بالفندق بصحبة فتاه ويريدون الدخول للغرفه ولكن امن الفندق يمنع الزيارات مطلقا ومنعهم ... الاسعار مبالغ بها نوعا ما .. حتى لو كانت بوقت الذروه والمواسم ..مهم جدا للي معه أطفال ان الفندق يقوم برفع السياج للبلكونه او الساكن يقوم باغلاق البلكونه اثناء تواجدهجو الاضاءه بالغرف هادئ\n",
            "\n",
            "\n"
          ]
        },
        {
          "metadata": {
            "tags": null
          },
          "name": "stderr",
          "output_type": "stream",
          "text": [
            "[Succeeded / Failed / Skipped / Total] 8 / 6 / 1 / 15:  15%|█▌        | 15/100 [36:10<3:25:00, 144.71s/it]"
          ]
        },
        {
          "metadata": {
            "tags": null
          },
          "name": "stdout",
          "output_type": "stream",
          "text": [
            "--------------------------------------------- Result 15 ---------------------------------------------\n",
            "[[0 (83%)]] --> [[[FAILED]]]\n",
            "\n",
            "احب القصص الكلاسيكية ذات الطابع الريفي. اسلوب الكتابة الترجمة كان جيدا ولكن الوصف كان فاخرا لايناسب القصة واحسست ان التعريب اطال القصة اكثر مما ينبغي لحد الملل وهي قراءة لاتناسب فصل الصيف. :/. هناك بعض الكتب التي اسجل ملاحاظات واقتباسات جميلة منعا لتسربها من ذاكرتي ومع ماجدولين او تحت ظلال الزيزفون هناك وصف لادوراد لايهرب من فكري. وضل يقلب عينيه في السماء كأنه منجم يفتش عن النجم السابع والسبعين بعد المائة والخمسة والعشرين مليون. عن جد؟. النهاية كانت جميلة جدا وتاثرت بها نوعا ما. اذا كنت تعرف القليل عن قصة الحب مابين استيفن وماجدولين كل ماعليك قرائته هو صفحة الى النهاية. نجمتان فقط لو لم تكن مطولة اكثر من اللازم لاعطيتها ثلاث نجمات\n",
            "\n",
            "\n"
          ]
        },
        {
          "metadata": {
            "tags": null
          },
          "name": "stderr",
          "output_type": "stream",
          "text": [
            "[Succeeded / Failed / Skipped / Total] 9 / 6 / 1 / 16:  16%|█▌        | 16/100 [36:13<3:10:12, 135.87s/it]"
          ]
        },
        {
          "metadata": {
            "tags": null
          },
          "name": "stdout",
          "output_type": "stream",
          "text": [
            "--------------------------------------------- Result 16 ---------------------------------------------\n",
            "[[0 (72%)]] --> [[1 (53%)]]\n",
            "\n",
            "تجربه سيئه . لاشي. موقع سىء على جبل الوصول له شاق للغايه ولاتوجد تاكسي بسهولة..... الفندق والاثاث قديم ... الفطور [[سيء]]\n",
            "\n",
            "تجربه سيئه . لاشي. موقع سىء على جبل الوصول له شاق للغايه ولاتوجد تاكسي بسهولة..... الفندق والاثاث قديم ... الفطور [[مقبول]]\n",
            "\n",
            "\n"
          ]
        },
        {
          "metadata": {
            "tags": null
          },
          "name": "stderr",
          "output_type": "stream",
          "text": [
            "[Succeeded / Failed / Skipped / Total] 9 / 7 / 1 / 17:  17%|█▋        | 17/100 [41:12<3:21:12, 145.45s/it]"
          ]
        },
        {
          "metadata": {
            "tags": null
          },
          "name": "stdout",
          "output_type": "stream",
          "text": [
            "--------------------------------------------- Result 17 ---------------------------------------------\n",
            "[[1 (84%)]] --> [[[FAILED]]]\n",
            "\n",
            "الروعة في سيد قطب ليست في مضمون ما كتب بقدر ما هي روعة الاتجاه، وجرأة البحث عن الطريق، لقد رسم هذا الرجل الطريق المفقودة بين أبناء الإسلام حينما حاول أن يتحرر من سيطرة التراث على فهم الدين، واختار الفكر كأسلوب للتعامل مع الإسلام، وقدم لنا الإسلام ككائن حي كانه مولود اللحظة محررا رؤيتنا من أكفان التاريخ التي خنقتنا وحنطت رؤية للدين نحسبها قابلة للحياة وهي ميتة منذ قرون، لقد نال سيد قطب شرف المحاولة الجادة الأولى في هذا الضمار ومهما كانت نتائج محاولته فيكفيه أنها وضعت أقدامنا على أول الطريق، رحم الله سيد قطب\n",
            "\n",
            "\n"
          ]
        },
        {
          "metadata": {
            "tags": null
          },
          "name": "stderr",
          "output_type": "stream",
          "text": [
            "[Succeeded / Failed / Skipped / Total] 10 / 7 / 1 / 18:  18%|█▊        | 18/100 [41:31<3:09:11, 138.43s/it]"
          ]
        },
        {
          "metadata": {
            "tags": null
          },
          "name": "stdout",
          "output_type": "stream",
          "text": [
            "--------------------------------------------- Result 18 ---------------------------------------------\n",
            "[[0 (87%)]] --> [[1 (56%)]]\n",
            "\n",
            "[[أسوء]] تعامل واجهته [[في]] جميع [[رحلاتي]] . . لم يكن هناك أي خدمات مقدمة ... وعندما استفسرنا عن السبب اخبرونا إنه [[بسبب]] طريقة الحجز عن طريق بوكنج حيث لا يتوفر أي خدمات لمن حجز عن طريق بوكنج مواقع الغرف في اقل مكان في الفندق والسبب ان الحجز عن طريق بوكنج [[كما]] ذكر [[لنا]]\n",
            "\n",
            "[[أقسى]] تعامل واجهته [[بیش]] جميع [[رحلاتكم]] . . لم يكن هناك أي خدمات مقدمة ... وعندما استفسرنا عن السبب اخبرونا إنه [[وسبب]] طريقة الحجز عن طريق بوكنج حيث لا يتوفر أي خدمات لمن حجز عن طريق بوكنج مواقع الغرف في اقل مكان في الفندق والسبب ان الحجز عن طريق بوكنج [[لذلك]] ذكر [[لنبين]]\n",
            "\n",
            "\n"
          ]
        },
        {
          "metadata": {
            "tags": null
          },
          "name": "stderr",
          "output_type": "stream",
          "text": [
            "[Succeeded / Failed / Skipped / Total] 11 / 7 / 1 / 19:  19%|█▉        | 19/100 [41:34<2:57:15, 131.30s/it]"
          ]
        },
        {
          "metadata": {
            "tags": null
          },
          "name": "stdout",
          "output_type": "stream",
          "text": [
            "--------------------------------------------- Result 19 ---------------------------------------------\n",
            "[[0 (65%)]] --> [[1 (64%)]]\n",
            "\n",
            "تشيز كيك بالفراولة [[ماله]] طعم مجرد شوية جبن وكريمة خفق .والفراولة اللي فوق لون احمر بس\n",
            "\n",
            "تشيز كيك بالفراولة [[داااعي]] طعم مجرد شوية جبن وكريمة خفق .والفراولة اللي فوق لون احمر بس\n",
            "\n",
            "\n"
          ]
        },
        {
          "metadata": {
            "tags": null
          },
          "name": "stderr",
          "output_type": "stream",
          "text": [
            "[Succeeded / Failed / Skipped / Total] 12 / 7 / 1 / 20:  20%|██        | 20/100 [42:25<2:49:42, 127.29s/it]"
          ]
        },
        {
          "metadata": {
            "tags": null
          },
          "name": "stdout",
          "output_type": "stream",
          "text": [
            "--------------------------------------------- Result 20 ---------------------------------------------\n",
            "[[1 (88%)]] --> [[0 (50%)]]\n",
            "\n",
            "نهاية [[غير]] [[متوقعة]] . [[عن]] ذوي الاحتياجات الخاصة. رواية [[تحمل]] رسالة. ممتازة جدا الرواية\n",
            "\n",
            "نهاية [[تحرك]] [[أتوقعها]] . [[عنهـ]] ذوي الاحتياجات الخاصة. رواية [[تطابق]] رسالة. ممتازة جدا الرواية\n",
            "\n",
            "\n"
          ]
        },
        {
          "metadata": {
            "tags": null
          },
          "name": "stderr",
          "output_type": "stream",
          "text": [
            "[Succeeded / Failed / Skipped / Total] 13 / 7 / 1 / 21:  21%|██        | 21/100 [42:50<2:41:08, 122.39s/it]"
          ]
        },
        {
          "metadata": {
            "tags": null
          },
          "name": "stdout",
          "output_type": "stream",
          "text": [
            "--------------------------------------------- Result 21 ---------------------------------------------\n",
            "[[1 (89%)]] --> [[0 (54%)]]\n",
            "\n",
            "[[جيد]] [[جدا]]. جيد في [[الاستقبال]]. [[سعر]] [[الوجبات]] [[مبالغ]] [[فيه]]\n",
            "\n",
            "[[ضعيف]] [[جداااااااااااااا]]. جيد في [[الاسقبال]]. [[فالسعر]] [[بالأكلات]] [[رواتب]] [[فيها4]]\n",
            "\n",
            "\n"
          ]
        },
        {
          "metadata": {
            "tags": null
          },
          "name": "stderr",
          "output_type": "stream",
          "text": [
            "[Succeeded / Failed / Skipped / Total] 14 / 7 / 1 / 22:  22%|██▏       | 22/100 [43:13<2:33:14, 117.88s/it]"
          ]
        },
        {
          "metadata": {
            "tags": null
          },
          "name": "stdout",
          "output_type": "stream",
          "text": [
            "--------------------------------------------- Result 22 ---------------------------------------------\n",
            "[[0 (89%)]] --> [[1 (60%)]]\n",
            "\n",
            "[[خيبت]] ظني كثيرا .. هناك [[شئ]] خطأ في كتابات أحمد خالد توفيق الأخيرة بداية من السنجة مرورا بشاي بالنعناع ووصولا بقهوة [[باليورانيوم]] .. سواء على مستوى القصة اوالمقال فهناك ضعف بارز في [[جوانب]] [[الجذب]] وحتى حس الفكاهة الذي يتميز به خارج قصص الرعب افتقد كثيرا في تلك [[الكتابات]] \n",
            "\n",
            "[[خيبتى]] ظني كثيرا .. هناك [[شسء]] خطأ في كتابات أحمد خالد توفيق الأخيرة بداية من السنجة مرورا بشاي بالنعناع ووصولا بقهوة [[اليورانيو]] .. سواء على مستوى القصة اوالمقال فهناك ضعف بارز في [[تفاصيل]] [[الجذبأنواع]] وحتى حس الفكاهة الذي يتميز به خارج قصص الرعب افتقد كثيرا.[[ـ]] في تلك [[لكتابات]] \n",
            "\n",
            "\n"
          ]
        },
        {
          "metadata": {
            "tags": null
          },
          "name": "stderr",
          "output_type": "stream",
          "text": [
            "[Succeeded / Failed / Skipped / Total] 15 / 7 / 1 / 23:  23%|██▎       | 23/100 [44:05<2:27:35, 115.01s/it]"
          ]
        },
        {
          "metadata": {
            "tags": null
          },
          "name": "stdout",
          "output_type": "stream",
          "text": [
            "--------------------------------------------- Result 23 ---------------------------------------------\n",
            "[[1 (88%)]] --> [[0 (51%)]]\n",
            "\n",
            "[[رآئعة]]. [[على]] [[الرغم]] [[من]] [[أنني]] غير راض عن [[لغة]] [[الترجمة]]، [[إلا]] [[أن]] الرواية [[بأحداثها]] [[وتسلسلها]] [[راقية]]. ولمست شغاف قلبي وفضول [[عقلي]]\n",
            "\n",
            "[[رآآئع]]. [[سعل_مخرجا_البلغم]] [[فبرغم]] [[هدذ]] [[لإنني]] غير راض عن [[اللغة]] [[الترجمه]]، [[لأنه]] [[ٲن]] الرواية [[بوقائعه]] [[وتسلسله]] [[راااقية]]. ولمست شغافَ قلبي وفضول [[وانفعالي]]\n",
            "\n",
            "\n"
          ]
        },
        {
          "metadata": {
            "tags": null
          },
          "name": "stderr",
          "output_type": "stream",
          "text": [
            "[Succeeded / Failed / Skipped / Total] 15 / 8 / 1 / 24:  24%|██▍       | 24/100 [47:10<2:29:23, 117.94s/it]"
          ]
        },
        {
          "metadata": {
            "tags": null
          },
          "name": "stdout",
          "output_type": "stream",
          "text": [
            "--------------------------------------------- Result 24 ---------------------------------------------\n",
            "[[1 (86%)]] --> [[[FAILED]]]\n",
            "\n",
            "الجارة وانت اسمك إيه؟ أجملهم إطلاقا. خبرة النهاية وصفاء البداية وتشابه ما بالوسط، بين عجوز يقبل الحياة وطفل يمتلكها. رائعة.. صدفة أن أول القصص الست هنا عن طفل وآخرها عن عجوز بالثمانين من العمر؟. أيا، أحببت الكتاب\n",
            "\n",
            "\n"
          ]
        },
        {
          "metadata": {
            "tags": null
          },
          "name": "stderr",
          "output_type": "stream",
          "text": [
            "[Succeeded / Failed / Skipped / Total] 16 / 8 / 1 / 25:  25%|██▌       | 25/100 [50:33<2:31:40, 121.34s/it]"
          ]
        },
        {
          "metadata": {
            "tags": null
          },
          "name": "stdout",
          "output_type": "stream",
          "text": [
            "--------------------------------------------- Result 25 ---------------------------------------------\n",
            "[[0 (86%)]] --> [[1 (53%)]]\n",
            "\n",
            "[[اسوء]] [[فندق]] نزلت فيه . [[لم]] [[يعجبني]] [[اي]] [[شئ]] نهائيا. قمة القذارة في الموكيت وكرسي الحمام غير نظيف وطلبت [[نعال]] الحمام وانتظرت خدمة الغرف ولم يحضروها ونزلت وطلبتها منهم مرة اخرى ومكان الفندق [[سيئ]] جدا ومزدحم ولا يستحق اربع [[نجوم]] حده [[نجمتين]] وكثيرة عليه\n",
            "\n",
            "[[اسواء]] [[فندقLe]] نزلت فيه . [[يك]]ُ [[العضو]]:[[ko7a100]] [[بااي]] [[شيأ]] نهائيا. قمة القذارة في الموكيت وكرسي الحمام غير نظيف وطلبت [[نعالهم]] الحمام وانتظرت خدمة الغرف ولم يحضروها ونزلت وطلبتها منهم مرة اخرى ومكان الفندق.[[استرخاء]] [[وسيئة]] جدا ومزدحم ولا يستحق اربع [[نجوم5]] حده [[المتوسطتين]] وكثيرة عليه\n",
            "\n",
            "\n"
          ]
        },
        {
          "metadata": {
            "tags": null
          },
          "name": "stderr",
          "output_type": "stream",
          "text": [
            "[Succeeded / Failed / Skipped / Total] 17 / 8 / 1 / 26:  26%|██▌       | 26/100 [50:46<2:24:30, 117.17s/it]"
          ]
        },
        {
          "metadata": {
            "tags": null
          },
          "name": "stdout",
          "output_type": "stream",
          "text": [
            "--------------------------------------------- Result 26 ---------------------------------------------\n",
            "[[0 (63%)]] --> [[1 (60%)]]\n",
            "\n",
            "عندما يطلب مني مواجهة الدنيا بأحاديثي وتقاريري، سوف أعلن علي الملأ رأيي بصراحة في كل هذا الذي حدث .. سوف أقول للدنيا : إني بعد ثلثمائة عام وجدت كل شئ قد تغير إلا الخوف من الكلمة، والانزعاج من الرأي . مسرحية تنبؤية كتبها الحكيم عام ، هدف من خلالها إلي وضع تصوراته عن عالم الغد .. ما هو شكل العالم في الأعوام والقرون القادمة ؟ ... وكيف يمكن أن يصير العالم إلي صورة أخري مختلفة تماما عن صورة العالم اليوم، بسبب التقدم المطرد في العلوم والتكنولوجيا ونظم ووسائل الاتصال الحديثة والمتطورة ؟ ... أسئلة كثيرة مثل هذه وغيرها وضع الحكيم إجاباتها من خلال هذا العمل .. ورغم أنه لم يمض منذ كتابة هذه المسرحية وحتي اليوم أكثر من نحو ستين عاما، ومعني ذلك أنه مازال هناك نحو مائتين وأربعين عاما حتي نبلغ الفترة التي وضع فيها الحكيم تصوراته عن العالم .. إلا أني مازلت أري أنه قد بالغ في تقدير المستقبل والتنبؤ به، مبالغة مفرطة .. رؤيته أيضا لشكل الكواكب الأخري والحياة عليها والفكرة الخيالية، في [[ظني]]، عن الإنسان الذي يعيش باشارات كهربائية علي سطح الكواكب الأخري البعيدة عن الأرض وبدون دورة دموية أو جهاز تنفسي أو قلب ينبض، هي رؤية غاية في المبالغة والتخيل، لا أعتقد أنها ستجد طريقها يوما ما إلي التحقق علي أرض الواقع .. رغم ذلك يمكن النظر إلي هذه التنبؤات والتخيلات المفترضة كنوع من الاجتهاد ونوع من قراءة المستقبل من خلال [[معطيات]] الحاضر شديدة التغير والتبدل بفعل التطور\n",
            "\n",
            "عندما يطلب مني مواجهة الدنيا بأحاديثي وتقاريري، سوف أعلن علي الملأ رأيي بصراحة في كل هذا الذي حدث .. سوف أقول للدنيا : إني بعد ثلثمائة عام وجدت كل شئ قد تغير إلا الخوف من الكلمة، والانزعاج من الرأي . مسرحية تنبؤية كتبها الحكيم عام ، هدف من خلالها إلي وضع تصوراته عن عالم الغد .. ما هو شكل العالم في الأعوام والقرون القادمة ؟ ... وكيف يمكن أن يصير العالم إلي صورة أخري مختلفة تماما عن صورة العالم اليوم، بسبب التقدم المطرد في العلوم والتكنولوجيا ونظم ووسائل الاتصال الحديثة والمتطورة ؟ ... أسئلة كثيرة مثل هذه وغيرها وضع الحكيم إجاباتها من خلال هذا العمل .. ورغم أنه لم يمض منذ كتابة هذه المسرحية وحتي اليوم أكثر من نحو ستين عاما، ومعني ذلك أنه مازال هناك نحو مائتين وأربعين عاما حتي نبلغ الفترة التي وضع فيها الحكيم تصوراته عن العالم .. إلا أني مازلت أري أنه قد بالغ في تقدير المستقبل والتنبؤ به، مبالغة مفرطة .. رؤيته أيضا لشكل الكواكب الأخري والحياة عليها والفكرة الخيالية، في [[ماتخيب]]، عن الإنسان الذي يعيش باشارات كهربائية علي سطح الكواكب الأخري البعيدة عن الأرض وبدون دورة دموية أو جهاز تنفسي أو قلب ينبض، هي رؤية غاية في المبالغة والتخيل، لا أعتقد أنها ستجد طريقها يوما ما إلي التحقق علي أرض الواقع .. رغم ذلك يمكن النظر إلي هذه التنبؤات والتخيلات المفترضة كنوع من الاجتهاد ونوع من قراءة المستقبل من خلال [[النص]]:[[ـ]] الحاضر شديدة التغير والتبدل بفعل التطور\n",
            "\n",
            "\n"
          ]
        },
        {
          "metadata": {
            "tags": null
          },
          "name": "stderr",
          "output_type": "stream",
          "text": [
            "[Succeeded / Failed / Skipped / Total] 17 / 9 / 1 / 27:  27%|██▋       | 27/100 [53:43<2:25:14, 119.38s/it]"
          ]
        },
        {
          "metadata": {
            "tags": null
          },
          "name": "stdout",
          "output_type": "stream",
          "text": [
            "--------------------------------------------- Result 27 ---------------------------------------------\n",
            "[[1 (88%)]] --> [[[FAILED]]]\n",
            "\n",
            "اى انسان لا يمكن ان يخلو من كرامة مهما يهن شأنه . مهما يكن من الامر فلا مفر من الحساب . الشمس ستشرق غدا على أرض خضراء و جو نقى . و على أى حال فقد استيقظ النائمون و تنبه الغافلون . لا تدع العواطف الشخصية تفسد عملك . أيها السادة أن تاريخ مصر يظهر بظهوركم على المسرح ، و ما قبل ذلك فظلام فى ظلام\n",
            "\n",
            "\n"
          ]
        },
        {
          "metadata": {
            "tags": null
          },
          "name": "stderr",
          "output_type": "stream",
          "text": [
            "[Succeeded / Failed / Skipped / Total] 18 / 9 / 1 / 28:  28%|██▊       | 28/100 [54:59<2:21:24, 117.83s/it]"
          ]
        },
        {
          "metadata": {
            "tags": null
          },
          "name": "stdout",
          "output_type": "stream",
          "text": [
            "--------------------------------------------- Result 28 ---------------------------------------------\n",
            "[[0 (82%)]] --> [[1 (51%)]]\n",
            "\n",
            "الكتاب بطبيعته عبارة عن مذكرات يحاول من خلالها الكاتب توثيق مرحلة معينة في حياته .... لكني أتسائل لماذا يرغب شخص فينا بنشر ثوثيقه الشخصي لمرحلة خاصة به لعموم الناس ؟. [[الجواب]] لا يجب أن يعدو كون تلك التجربة فيها ماهو مميز وجدير [[بالإطلاع]] عليه وملهم للغير غالبا .... ما وجدته في هذه الورقات التي توثق سفر [[طالب]] سعودي [[لنيوزلندا]] بهدف دراسة اللغة الإنجليزية هو سردية [[لأحداث]] عادية متتالية، مع إسراف في التفاصيل التي ربما يحاول الكاتب من خلاله تعويض الضعف في متانة الأحداث .... بالإضافة إلى أن الكاتب في نفس السياق، أوجد شخصية وهمية أضفى عليها ما [[حاول]] به إثارة الكاتب في خضم محاولته لتوثيق تجربة واقعية . الكتاب [[لا]] يستحق القراءة برأيي مطلقا، [[وتمنيت]] لو أن الكاتب احتفظ بأوراقه له شخصيا\n",
            "\n",
            "الكتاب بطبيعته عبارة عن مذكرات يحاول من خلالها الكاتب توثيق مرحلة معينة في حياته .... لكني أتسائل لماذا يرغب شخص فينا بنشر ثوثيقه الشخصي لمرحلة خاصة به لعموم الناس ؟. [[الاجابة]] لا يجب أن يعدو كون تلك التجربة فيها ماهو مميز وجدير [[وبالاطلاع]] عليه وملهم للغير غالبا .... ما وجدته في هذه الورقات التي توثق سفر [[أثر_في]] سعودي [[لبورما]] بهدف دراسة اللغة الإنجليزية هو سردية [[للاحداث]] عادية متتالية، مع إسراف في التفاصيل التي ربما يحاول الكاتب من خلاله تعويض الضعف في متانة الأحداث .... بالإضافة إلى أن الكاتب في نفس السياق، أوجد شخصية وهمية أضفى عليها ما [[تأمل]] به إثارة الكاتب في خضم محاولته لتوثيق تجربة واقعية . الكتاب [[نلبـث]] يستحق القراءة برأيي مطلقا، [[سأتمنى]] لو أن الكاتب احتفظ بأوراقه له شخصيا\n",
            "\n",
            "\n"
          ]
        },
        {
          "metadata": {
            "tags": null
          },
          "name": "stderr",
          "output_type": "stream",
          "text": [
            "[Succeeded / Failed / Skipped / Total] 19 / 9 / 1 / 29:  29%|██▉       | 29/100 [55:38<2:16:12, 115.11s/it]"
          ]
        },
        {
          "metadata": {
            "tags": null
          },
          "name": "stdout",
          "output_type": "stream",
          "text": [
            "--------------------------------------------- Result 29 ---------------------------------------------\n",
            "[[0 (82%)]] --> [[1 (55%)]]\n",
            "\n",
            "رواية جيدة [[لكنها]] [[تفتقر]] إلى الكثير من النواحي الأدبية.. وأفضل ما يمكن أن توصف به هي أنها [[رواية]] عادية جدا.. عصام بطل [[الرواية]] طالب في كلية الطب مجتهد في دراسته وبار بوالدته .... فقير ماديا لكنه عزيز النفس وذو أخلاق عالية .. القصة عبارة عن صراع بين الخير [[والشر]] تنتهي نهاية حزينة باتنصار الخير على الشر... مع الأمل لمستقبل مشرق. [[أعجبتني]] [[القصة]] [[إلا]] أنها تميل كثيرا إلى المثالية في الأحداث والمواقف\n",
            "\n",
            "رواية جيدة [[كانت]] [[وافتقاره]] إلى الكثير من النواحي الأدبية.. وأفضل ما يمكن أن توصف به هي أنها [[روايتهما]] عادية جدا.. عصام بطل [[الشطارية]] طالب في كلية الطبّ مجتهد في دراسته وبار بوالدته .... فقير ماديا لكنه عزيز النفس وذو أخلاق عالية .. القصة عبارة عن صراع بين الخير [[للشر]] تنتهي نهاية حزينة باتنصار الخير على الشر... مع الأمل لمستقبل مشرق. [[أعجبتك]] [[الحبكات]] [[إل]]ّ[[ا]] أنها تميل كثيرا إلى المثالية في الأحداث والمواقف\n",
            "\n",
            "\n"
          ]
        },
        {
          "metadata": {
            "tags": null
          },
          "name": "stderr",
          "output_type": "stream",
          "text": [
            "[Succeeded / Failed / Skipped / Total] 19 / 10 / 1 / 30:  30%|███       | 30/100 [59:08<2:18:00, 118.29s/it]"
          ]
        },
        {
          "metadata": {
            "tags": null
          },
          "name": "stdout",
          "output_type": "stream",
          "text": [
            "--------------------------------------------- Result 30 ---------------------------------------------\n",
            "[[0 (84%)]] --> [[[FAILED]]]\n",
            "\n",
            "مقزز لقد حجزنا الفندق بسرعة أكثر من اللازم..... والموقع الالكتروني الذي استخدمناه للحصول على فكرة أعطانا صورا خاطئة تماما على أية حال... الغرفة كانت قذرة لا سيما الأسرة الوسائد كانت مقرفة أثناء الليل حاولت حقا النوم وقوفا بقدر الإمكان حتى لا ألمس الوسائد أو الملاءات بفمي ما هذا الكابوس الحمام... حسنا، لم آخذ أي دش في هذين اليومين... الإفطار كان لا بأس به حتى لو بدت الحبوب قديمة نوعا ما لم أجرؤ على تجربتها . صدقوني، تجنبوه\n",
            "\n",
            "\n"
          ]
        },
        {
          "metadata": {
            "tags": null
          },
          "name": "stderr",
          "output_type": "stream",
          "text": [
            "[Succeeded / Failed / Skipped / Total] 20 / 10 / 1 / 31:  31%|███       | 31/100 [59:17<2:11:57, 114.75s/it]"
          ]
        },
        {
          "metadata": {
            "tags": null
          },
          "name": "stdout",
          "output_type": "stream",
          "text": [
            "--------------------------------------------- Result 31 ---------------------------------------------\n",
            "[[1 (64%)]] --> [[0 (51%)]]\n",
            "\n",
            "حسن الاستقبال حسن الاستقبال والترحيب [[وحسن]] الخلق غرف كبيرة وواسعة شعرنا براحة تامة انا وزوجتي وكأننا في المنزل نضافة واهتمام ملحوظين طاقم الفندق كانو متعاونين بشكل اكثر من رائع السرعة في تنفيذ الطلبات انصح به العوائل واي شخص يرغب بالراحة والسعر مناسب [[جدا]] بصراحة ملائم واعجبني جدا قريب من الاماكن التي يقصدها الزوار ك سوق واقف كورنيش موقعه مخدوم قريب من مطاعم وحلاقين ومأجرين سيارات وايضل صراف عملات لكنه محاط ب عماله وحي قديم بعض الشئ\n",
            "\n",
            "حسن الاستقبال حسن الاستقبال والترحيب [[ومصطفى]] الخلق غرف كبيرة وواسعة شعرنا براحة تامة انا وزوجتي وكأننا في المنزل نضافة واهتمام ملحوظين طاقم الفندق كانو متعاونين بشكل اكثر من رائع السرعة في تنفيذ الطلبات انصح به العوائل واي شخص يرغب بالراحة والسعر مناسب [[جدااااااااااااااا]] بصراحة ملائم واعجبني جدا قريب من الاماكن التي يقصدها الزوار ك سوق واقف كورنيش موقعه مخدوم قريب من مطاعم وحلاقين ومأجرين سيارات وايضل صراف عملات لكنه محاط ب عماله وحي قديم بعض الشئ\n",
            "\n",
            "\n"
          ]
        },
        {
          "metadata": {
            "tags": null
          },
          "name": "stderr",
          "output_type": "stream",
          "text": [
            "[Succeeded / Failed / Skipped / Total] 21 / 10 / 1 / 32:  32%|███▏      | 32/100 [1:00:02<2:07:35, 112.57s/it]"
          ]
        },
        {
          "metadata": {
            "tags": null
          },
          "name": "stdout",
          "output_type": "stream",
          "text": [
            "--------------------------------------------- Result 32 ---------------------------------------------\n",
            "[[1 (91%)]] --> [[0 (61%)]]\n",
            "\n",
            "[[مناسب]] [[وممتاز]] [[خاصة]] للرجال . [[بعيد]] [[عن]] مداخل [[الحرم]] المخصصة للنساء\n",
            "\n",
            "[[منطقي]] [[جدا]]ً[[جدا]]ً [[أوخاصة]] للرجال . [[ولابعيد]] [[بحكو]] مداخل [[للمسجد]] المخصصة للنساء\n",
            "\n",
            "\n"
          ]
        },
        {
          "metadata": {
            "tags": null
          },
          "name": "stderr",
          "output_type": "stream",
          "text": [
            "[Succeeded / Failed / Skipped / Total] 22 / 10 / 1 / 33:  33%|███▎      | 33/100 [1:00:10<2:02:10, 109.41s/it]"
          ]
        },
        {
          "metadata": {
            "tags": null
          },
          "name": "stdout",
          "output_type": "stream",
          "text": [
            "--------------------------------------------- Result 33 ---------------------------------------------\n",
            "[[1 (77%)]] --> [[0 (52%)]]\n",
            "\n",
            "شدني كثيرا اسم الكتاب وغلافه [[مميز]]. الفكرة كانت [[جميلة]] جدا. ونهايتة كانت مفاجئه\n",
            "\n",
            "شدني كثيرا اسم الكتاب وغلافه [[ورااائع]]. الفكرة كانت [[رائعه]] جدا. ونهايتة كانت مفاجئه\n",
            "\n",
            "\n"
          ]
        },
        {
          "metadata": {
            "tags": null
          },
          "name": "stderr",
          "output_type": "stream",
          "text": [
            "[Succeeded / Failed / Skipped / Total] 22 / 11 / 1 / 34:  34%|███▍      | 34/100 [1:03:55<2:04:04, 112.80s/it]"
          ]
        },
        {
          "metadata": {
            "tags": null
          },
          "name": "stdout",
          "output_type": "stream",
          "text": [
            "--------------------------------------------- Result 34 ---------------------------------------------\n",
            "[[1 (83%)]] --> [[[FAILED]]]\n",
            "\n",
            "راحة تامة الإقامة ب هي تذوق لحسن الضيافة الليبية بأروع مقاييسها. تم الإعتناء بكل ما يتعلق بزيارتنا، بدءا من تأشيرة السفر مرورا بتوصيل المطار إلى تنظيم رحلات إلى سبراطة و لبدة الكبرى. لم تفوتهم ادنى التفاصيل. علي، مدير المنشاة الممتاز والخدوم رسم لنا خرائط النزهة مشيا لمدينة طرابلس كما أرسلت لنا نادية بإرشادات تتعلق بسفرنا و أشرفت على تحضيير الأطعمة المطبوخة منزليا. الإقامة هنا كانت بمتابة النزول في بيت ليبي كضيف دفع التكاليف بدلا من النزول بفندق\n",
            "\n",
            "\n"
          ]
        },
        {
          "metadata": {
            "tags": null
          },
          "name": "stderr",
          "output_type": "stream",
          "text": [
            "[Succeeded / Failed / Skipped / Total] 22 / 12 / 1 / 35:  35%|███▌      | 35/100 [1:09:08<2:08:24, 118.53s/it]"
          ]
        },
        {
          "metadata": {
            "tags": null
          },
          "name": "stdout",
          "output_type": "stream",
          "text": [
            "--------------------------------------------- Result 35 ---------------------------------------------\n",
            "[[1 (91%)]] --> [[[FAILED]]]\n",
            "\n",
            "الكتاب الذي أبكاني واضحكني .. وجعل شوقي لفلسطين يزيد ويشتعل .. ربنا يكرمنا بسجدة في المسجد الأقصى .. ربنا يكرم كل مغترب ويعود إلى بلده ... لغة الكتاب رائعة وذكية .. نحن نحب فلسطين فكيف بمن يحكينا عنها ويصفها لنا ويكون من أهلها ؟؟. اقتبس من الكتاب ... لكل امرئ ظلامه ..لكل امرئ حقه في الظلام . إن السنوات محمولة على كتفيك .. تفعل فعلها البطئ دون أن تقرع أيه أجراس . كان علينا أن ننتظر طويلا قبل أن تعلمنا الحياة عبر رحلتنا الطويلة نحو الحكمة والحزن انه حتى اسنان المشط لا تتشابه في الواقع . من السهل طمس الحقيقة بحيلة لغوية بسيطة : إبدأ حكايتك من ثانيا . نحن لم نخسر فلسطين في مباراة للمنطق لقد خسرناها بالإكراه والفوة\n",
            "\n",
            "\n"
          ]
        },
        {
          "metadata": {
            "tags": null
          },
          "name": "stderr",
          "output_type": "stream",
          "text": [
            "[Succeeded / Failed / Skipped / Total] 22 / 13 / 1 / 36:  36%|███▌      | 36/100 [1:11:01<2:06:15, 118.37s/it]"
          ]
        },
        {
          "metadata": {
            "tags": null
          },
          "name": "stdout",
          "output_type": "stream",
          "text": [
            "--------------------------------------------- Result 36 ---------------------------------------------\n",
            "[[1 (80%)]] --> [[[FAILED]]]\n",
            "\n",
            "فكرة الكتاب موفقة، كما أن المؤلف وفق في عرضها وصياغتها، فجزاه الله كل خير. نحن بحاجة لمثل هذه الأفكار الإبداعية التي تعرض لسيرة الرسول بطريقة خارجة عن المألوف وتساهم في تقديم نماذج من حياته صلى الله عليه وسلم للقراء بطريقة مختلفة\n",
            "\n",
            "\n"
          ]
        },
        {
          "metadata": {
            "tags": null
          },
          "name": "stderr",
          "output_type": "stream",
          "text": [
            "[Succeeded / Failed / Skipped / Total] 23 / 13 / 1 / 37:  37%|███▋      | 37/100 [1:11:28<2:01:41, 115.89s/it]"
          ]
        },
        {
          "metadata": {
            "tags": null
          },
          "name": "stdout",
          "output_type": "stream",
          "text": [
            "--------------------------------------------- Result 37 ---------------------------------------------\n",
            "[[0 (85%)]] --> [[1 (50%)]]\n",
            "\n",
            "الإهتمام مستقبلا [[بالملاحظات]] والسعر . الموقع ممتازتوفر مواقف سفليه للسيارات. زعاج السيارات من الشارع النت سيئ [[جدا]] [[ولايكاد]] يذكر [[عدم]] تلبية طلبات [[النزيل]] من خدمة العملاء كان [[هنالك]] مشكلة عطل في المصعدولم يتم [[إصلاحه]] أثناء سكني لمدة أيامواضطررت لإستخدام السلالم لأكثر من مرهوكانت [[مرهقه]] جدا جدا جدا\n",
            "\n",
            "الإهتمام مستقبلا [[والملاحظات]] والسعر . الموقع ممتازتوفر مواقف سفليه للسيارات. زعاج السيارات من الشارع النت سيئ [[للغايةو]] [[tobaica]] يذكر [[فق]]ْ[[ر]] تلبية طلبات [[الأليفةغرف]] من خدمة العملاء كان [[المحتــلة]] مشكلة عطل في المصعدولم يتم [[إصلاح]] أثناء سكني لمدة أيامواضطررت لإستخدام السلالم لأكثر من مرهوكانت [[مريحه]] جدا جدا جدا\n",
            "\n",
            "\n"
          ]
        },
        {
          "metadata": {
            "tags": null
          },
          "name": "stderr",
          "output_type": "stream",
          "text": [
            "[Succeeded / Failed / Skipped / Total] 24 / 13 / 1 / 38:  38%|███▊      | 38/100 [1:11:41<1:56:58, 113.21s/it]"
          ]
        },
        {
          "metadata": {
            "tags": null
          },
          "name": "stdout",
          "output_type": "stream",
          "text": [
            "--------------------------------------------- Result 38 ---------------------------------------------\n",
            "[[0 (85%)]] --> [[1 (54%)]]\n",
            "\n",
            "[[ضعيف]]. . طلبت [[اغطيه]] للاطفال المرافقين ولم يتجاوبون معي بحجة لا [[يوجد]] حذاء الحمام لا يستبدلونه نهائياالانترنت لشخصين فقط لكل شقةلا تستطيع الاتصال بالمطاعم الخارجيةالسرير [[به]] اصوات مزعجة\n",
            "\n",
            "[[فإسناده]]. . طلبت [[باغطية]] للاطفال المرافقين ولم يتجاوبون معي بحجة لا [[أقر_ب]] حذاء الحمام لا يستبدلونه نهائياالانترنت لشخصين فقط لكل شقةلا تستطيع الاتصال بالمطاعم الخارجيةالسرير [[نیاز]] اصوات مزعجة\n",
            "\n",
            "\n"
          ]
        },
        {
          "metadata": {
            "tags": null
          },
          "name": "stderr",
          "output_type": "stream",
          "text": [
            "[Succeeded / Failed / Skipped / Total] 25 / 13 / 1 / 39:  39%|███▉      | 39/100 [1:12:23<1:53:13, 111.37s/it]"
          ]
        },
        {
          "metadata": {
            "tags": null
          },
          "name": "stdout",
          "output_type": "stream",
          "text": [
            "--------------------------------------------- Result 39 ---------------------------------------------\n",
            "[[0 (86%)]] --> [[1 (55%)]]\n",
            "\n",
            "[[ضعيف]]. فقط اجراءات [[الدخول]] والخروج بسرعة والباصات من وال الحرم .. ولاشيء [[غير]] ذلك. المواقف سيئة جدا جدا .. وخدمة الغرف ضعيف وغير [[متجاوبين]] .. [[لايوجد]] واي فاي الا في اللوبي وسيء جدا .. ولا أعتقد انني سأكرر الزيارة [[للفندق]] [[مرة]] اخر\n",
            "\n",
            "[[متماسك]]. فقط اجراءات [[الدخلو]] والخروج بسرعة والباصات من وال الحرم .. ولاشيء [[رحل]] ذلك. المواقف سيئة جدا جدا .. وخدمة الغرف ضعيف وغير [[ومترددين]] .. [[ليس]] واي فاي الا في اللوبي وسيء جدا .. ولا أعتقد انني سأكرر الزيارة [[للفيلا]] [[تانية]] اخر\n",
            "\n",
            "\n"
          ]
        },
        {
          "metadata": {
            "tags": null
          },
          "name": "stderr",
          "output_type": "stream",
          "text": [
            "[Succeeded / Failed / Skipped / Total] 26 / 13 / 1 / 40:  40%|████      | 40/100 [1:12:26<1:48:39, 108.66s/it]"
          ]
        },
        {
          "metadata": {
            "tags": null
          },
          "name": "stdout",
          "output_type": "stream",
          "text": [
            "--------------------------------------------- Result 40 ---------------------------------------------\n",
            "[[0 (79%)]] --> [[1 (77%)]]\n",
            "\n",
            "تجربة [[فاشلة]] . . السعر مقابل الخدمة سيء . اصوات الجيران مسموعه. نظافة الغرفة سيئة . التكييف دون المستوى\n",
            "\n",
            "تجربة [[الناجحة]] . . السعر مقابل الخدمة سيء . اصوات الجيران مسموعه. نظافة الغرفة سيئة . التكييف دون المستوى\n",
            "\n",
            "\n"
          ]
        },
        {
          "metadata": {
            "tags": null
          },
          "name": "stderr",
          "output_type": "stream",
          "text": [
            "[Succeeded / Failed / Skipped / Total] 27 / 13 / 1 / 41:  41%|████      | 41/100 [1:12:33<1:44:25, 106.19s/it]"
          ]
        },
        {
          "metadata": {
            "tags": null
          },
          "name": "stdout",
          "output_type": "stream",
          "text": [
            "--------------------------------------------- Result 41 ---------------------------------------------\n",
            "[[1 (74%)]] --> [[0 (56%)]]\n",
            "\n",
            "[[جمال]] دبي في سكن مثل هذه الشقق . عطوني شقتين صغار بدلا من واحدة بغرفتي نوم ،لانه على قولهم تأخرت وماسحبت البطاقة . وفي الحقيقة لم اتأخر بل أجروا الشقة لشخص اخر .فتم تعويضي بشقتين غرفة واحدة ، وفطور مجاني ،جزاهم الله خير . [[كل]] شيء روعة روعة روعة\n",
            "\n",
            "[[شحيد]] دبي في سكن مثل هذه الشقق . عطوني شقتين صغار بدلا من واحدة بغرفتي نوم ،لانه على قولهم تأخرت وماسحبت البطاقة . وفي الحقيقة لم اتأخر بل أجروا الشقة لشخص اخر .فتم تعويضي بشقتين غرفة واحدة ، وفطور مجاني ،جزاهم الله خير . [[شئ]]ٍ شيء روعة روعة روعة\n",
            "\n",
            "\n"
          ]
        },
        {
          "metadata": {
            "tags": null
          },
          "name": "stderr",
          "output_type": "stream",
          "text": [
            "[Succeeded / Failed / Skipped / Total] 28 / 13 / 1 / 42:  42%|████▏     | 42/100 [1:14:26<1:42:48, 106.36s/it]"
          ]
        },
        {
          "metadata": {
            "tags": null
          },
          "name": "stdout",
          "output_type": "stream",
          "text": [
            "--------------------------------------------- Result 42 ---------------------------------------------\n",
            "[[1 (84%)]] --> [[0 (52%)]]\n",
            "\n",
            "[[نكهة]] فرنسيه فى [[وسط]] جده. لم تكن تلك هى [[زيارتى]] [[الاولى]] [[لهذا]] [[المطعم]] .. [[الا]] أننى فى [[كل]] مره كنت [[اكتشف]] شيئا جديدا..واستمتع بمذاق مختلف . ان مستوى اناقة المطعم وجودة المأكولات وحميمية الخدمه [[تجعل]] المرء يعيش فعلا فى اجواء باريسيه ولو للحظات .. ألاسعار تعد مرتفعه نسبيا الا ان ذلك لا [[يحول]] دون الاستمتاع بأجواء [[المطعم]] ووجباته الفاخره ولو حتى [[فى]] [[المناسبات]]\n",
            "\n",
            "[[ونكهته]] فرنسيه فى [[مناطق]] جده. لم تكن تلك هى [[زياراتى]] [[الثالثه]] [[agoلهذا]] [[مطعمها]] .. [[فامرها]] أننى فى [[تـشرق]] مره كنتَ [[بدأ]] شيئا جديدا..واستمتع بمذاق مختلف . ان مستوى اناقة المطعم وجودة المأكولات وحميمية الخدمه [[تجعليها]] المرء يعيش فعلا فى اجواء باريسيه ولو للحظات .. ألاسعار تعد مرتفعه نسبيا الا ان ذلك لا [[يفصل]] دون الاستمتاع بأجواء [[المقهى]] ووجباته الفاخره ولو حتى [[كأى]] [[كمناسبات]]\n",
            "\n",
            "\n"
          ]
        },
        {
          "metadata": {
            "tags": null
          },
          "name": "stderr",
          "output_type": "stream",
          "text": [
            "[Succeeded / Failed / Skipped / Total] 29 / 13 / 1 / 43:  43%|████▎     | 43/100 [1:14:40<1:38:59, 104.20s/it]"
          ]
        },
        {
          "metadata": {
            "tags": null
          },
          "name": "stdout",
          "output_type": "stream",
          "text": [
            "--------------------------------------------- Result 43 ---------------------------------------------\n",
            "[[0 (73%)]] --> [[1 (66%)]]\n",
            "\n",
            "جربته مرة وحدة واعتقد بتكون آخر مرة مستوى الاكل والخدمة كان [[اقل]] من جيد الاكل بارد [[جدا]] وبدون اي [[طعم]] .. وبطيئين جدا\n",
            "\n",
            "جربته مرة وحدة واعتقد بتكون آخر مرة مستوى الاكل والخدمة كان [[وأكثر]] من جيد الاكل بارد [[للغايةو]] وبدون اي [[أزال]] .. وبطيئين جدا\n",
            "\n",
            "\n"
          ]
        },
        {
          "metadata": {
            "tags": null
          },
          "name": "stderr",
          "output_type": "stream",
          "text": [
            "[Succeeded / Failed / Skipped / Total] 30 / 13 / 1 / 44:  44%|████▍     | 44/100 [1:15:06<1:35:34, 102.41s/it]"
          ]
        },
        {
          "metadata": {
            "tags": null
          },
          "name": "stdout",
          "output_type": "stream",
          "text": [
            "--------------------------------------------- Result 44 ---------------------------------------------\n",
            "[[0 (79%)]] --> [[1 (54%)]]\n",
            "\n",
            "و أنا أغلق الرواية تسألت هل كاتبها هو نفسه أيمن العتوم الذي أبدع يسمعون حسيسها ؟ و لولا اللغة المميزة و الأسلوب الباهر لقلت حاشا أن يكون هو.. [[أسلوب]] الفلاش باك المستعمل منذ بداية الرواية و الى حدود الصفحة السابعة و الستون جعلني أفكر عدة مرات في إغلاقها و عدم إنمامها كما أن ذلك الاسهاب و المبالغة في ذكر تفاصيل التفاصيل يولد إحساسا بالرتابة و الملل فأضطر للقفز على عشرات السطور دفعا لرغبة تركها مجددا...يقال أن لكل جواد كبوة سأعتبر أن نفر من الجن هي كبوة [[العتوم]] أتمنى أن أقرأ له مستقبلا شيئا أعظم من هذا ففي النهاية آآسف [[أن]] تذهب تلك اللغة البليغة و الأسلوب المميز هدرا.. [[سأعطيها]] نجمتين نجمة للغة و الاسلوب الجميلين و نجمة للغلاف الانيق\n",
            "\n",
            "و أنا أغلق الرواية تسألت هل كاتبها هو نفسه أيمن العتوم الذي أبدع يسمعون حسيسها ؟ و لولا اللغة المميزة و الأسلوب الباهر لقلت حاشا أن يكون هو.. [[بأسلوب]] الفلاش باك المستعمل منذ بداية الرواية و الى حدود الصفحة السابعة و الستون جعلني أفكر عدة مرات في إغلاقها و عدم إنمامها كما أن ذلك الاسهاب و المبالغة في ذكر تفاصيل التفاصيل يولد إحساسا بالرتابة و الملل فأضطر للقفز على عشرات السطور دفعا لرغبة تركها مجددا...يقال أن لكل جواد كبوة سأعتبر أن نفر من الجن هي كبوة [[الروابدة]] أتمنى أن أقرأ له مستقبلا شيئا أعظم من هذا ففي النهاية آآسف [[بزر]] تذهب تلك اللغة البليغة و الأسلوب المميز هدرا.. [[فسأعطيكم]] نجمتين نجمة للغة و الاسلوب الجميلين و نجمة للغلاف الانيق\n",
            "\n",
            "\n"
          ]
        },
        {
          "metadata": {
            "tags": null
          },
          "name": "stderr",
          "output_type": "stream",
          "text": [
            "[Succeeded / Failed / Skipped / Total] 30 / 14 / 1 / 45:  45%|████▌     | 45/100 [1:21:37<1:39:45, 108.83s/it]"
          ]
        },
        {
          "metadata": {
            "tags": null
          },
          "name": "stdout",
          "output_type": "stream",
          "text": [
            "--------------------------------------------- Result 45 ---------------------------------------------\n",
            "[[1 (81%)]] --> [[[FAILED]]]\n",
            "\n",
            "عزيزتي تالا.. افتخري بأبيكي البطل الذي لم اكن اظن ان مثله موجود الا في الروايات و الافلام. لن اقيم الكتاب علي اساس اللغة و السرد و الحوار و ما شابه. فان امثالها نتعلم منها قيم و افكار اهم من الكلمات و اللغة و السرد. تعليقي للبطل هو كيف استطاع ان ينجو من فتن الدنيا؟ و كيف جعل كل ما يملكه و يتعلمه مثل العلم و الذكاء و القوه و المال من اجل الله و دفاعا عن الوطن. كيف في زمن جعل كل هذه الاشياء وسيله لغاية اسمى و ليست هدفا في حد ذاتها. ذلك الاخلاص هو ما ابهرني حقا اكثر من قدرات البطل و ما يملك من مهارات. فكثير من الناس يملكونها لكنهم يسخروها لخدمة انفسهم فقط. ارجو ان يتقبل الله منك كل تضحياتك و ان يرزقك الشهادة و بمثل هذا البطل تحرر البلاد\n",
            "\n",
            "\n"
          ]
        },
        {
          "metadata": {
            "tags": null
          },
          "name": "stderr",
          "output_type": "stream",
          "text": [
            "[Succeeded / Failed / Skipped / Total] 31 / 14 / 1 / 46:  46%|████▌     | 46/100 [1:21:52<1:36:06, 106.79s/it]"
          ]
        },
        {
          "metadata": {
            "tags": null
          },
          "name": "stdout",
          "output_type": "stream",
          "text": [
            "--------------------------------------------- Result 46 ---------------------------------------------\n",
            "[[0 (78%)]] --> [[1 (50%)]]\n",
            "\n",
            "في قسم العوائل: عشاء يوم الأحد وسط أسبوع فرع الملك [[عبد]] العزيز أضخم فرع تأخر جدا الطلب. شربة ثمار البحر سيئة لم يتم [[شربها]]. المشويات جيدة رز بالقمبري جيد الخبز عادي وليس من الفرن الأسعار مرتفعة المكان مخيب للآمال، كانت لدي مناسبة وكنت أتوقعه فخم، أو على الأقل عادي، هو أسوأ من ذلك. مفرش الطاولة قذر وغير نظيف . الصحون والملاعق على الطاولة مكشوفة وغير نظيفة. لن [[أعاود]] الزيارة أبدا\n",
            "\n",
            "في قسم العوائل: عشاء يوم الأحد وسط أسبوع فرع الملك [[الكبيرعبد]] العزيز أضخم فرع تأخر جدا الطلب. شربة ثمار البحر سيئة لم يتم [[يحتسيها]]. المشويات جيدة رز بالقمبري جيد الخبز عادي وليس من الفرن الأسعار مرتفعة المكان مخيب للآمال، كانت لدي مناسبة وكنت أتوقعه فخم، أو على الأقل عادي، هو أسوأ من﻿ ذلك.[[ج]]. مفرش الطاولة قذر وغير نظيف . الصحون والملاعق على الطاولة مكشوفة وغير نظيفة. لن [[وأطيل]] الزيارة أبدا\n",
            "\n",
            "\n"
          ]
        },
        {
          "metadata": {
            "tags": null
          },
          "name": "stderr",
          "output_type": "stream",
          "text": [
            "[Succeeded / Failed / Skipped / Total] 32 / 14 / 1 / 47:  47%|████▋     | 47/100 [1:22:00<1:32:28, 104.69s/it]"
          ]
        },
        {
          "metadata": {
            "tags": null
          },
          "name": "stdout",
          "output_type": "stream",
          "text": [
            "--------------------------------------------- Result 47 ---------------------------------------------\n",
            "[[1 (88%)]] --> [[0 (50%)]]\n",
            "\n",
            "الحازمي [[موظف]] الاستقبال شخص جدا متعاون . لم اجرب [[الافطار]] ولكن كان السرير [[مريحا]]\n",
            "\n",
            "الحازمي [[فالموظف]] الاستقبال شخص جدا متعاون . لم اجرب [[سحورهم]] ولكن كان السرير [[سيئا]]\n",
            "\n",
            "\n"
          ]
        },
        {
          "metadata": {
            "tags": null
          },
          "name": "stderr",
          "output_type": "stream",
          "text": [
            "[Succeeded / Failed / Skipped / Total] 33 / 14 / 1 / 48:  48%|████▊     | 48/100 [1:22:16<1:29:07, 102.84s/it]"
          ]
        },
        {
          "metadata": {
            "tags": null
          },
          "name": "stdout",
          "output_type": "stream",
          "text": [
            "--------------------------------------------- Result 48 ---------------------------------------------\n",
            "[[1 (87%)]] --> [[0 (60%)]]\n",
            "\n",
            "موقع [[ممتاز]] مع [[اناقة]] [[المكان]] . [[موقع]] [[الفندق]]. الافطار [[جيد]] فقط\n",
            "\n",
            "موقع [[مفيد]] مع [[موضه]] [[هالمكان]] . [[اموقع]] [[الفندقحمام]]. الافطار [[ضعيف]] فقط\n",
            "\n",
            "\n"
          ]
        },
        {
          "metadata": {
            "tags": null
          },
          "name": "stderr",
          "output_type": "stream",
          "text": [
            "[Succeeded / Failed / Skipped / Total] 34 / 14 / 1 / 49:  49%|████▉     | 49/100 [1:22:22<1:25:43, 100.86s/it]"
          ]
        },
        {
          "metadata": {
            "tags": null
          },
          "name": "stdout",
          "output_type": "stream",
          "text": [
            "--------------------------------------------- Result 49 ---------------------------------------------\n",
            "[[0 (62%)]] --> [[1 (64%)]]\n",
            "\n",
            "فندق لا يستحق نجوم . لا [[يوجد]] . اغلاق الشاطي و الحديقة في وقت مبكر من الساعة مساء و اغلاق جميع اضواء الفندق و مواقف سيارات ضيقة جدا عدم احترام من موظفين الفندق مع النزلاء\n",
            "\n",
            "فندق لا يستحق نجوم . لا [[قضى_حياته]] . اغلاق الشاطي و الحديقة في وقت مبكر من الساعة مساء و اغلاق جميع اضواء الفندق و مواقف سيارات ضيقة جدا عدم احترام من موظفين الفندق مع النزلاء\n",
            "\n",
            "\n"
          ]
        },
        {
          "metadata": {
            "tags": null
          },
          "name": "stderr",
          "output_type": "stream",
          "text": [
            "[Succeeded / Failed / Skipped / Total] 35 / 14 / 1 / 50:  50%|█████     | 50/100 [1:24:54<1:24:54, 101.89s/it]"
          ]
        },
        {
          "metadata": {
            "tags": null
          },
          "name": "stdout",
          "output_type": "stream",
          "text": [
            "--------------------------------------------- Result 50 ---------------------------------------------\n",
            "[[0 (88%)]] --> [[1 (51%)]]\n",
            "\n",
            "باختصار الكتاب خذلني..حديث [[متكرر]] [[ويبدو]] لي [[ان]] الكاتب ماتعب في التقصي والبحث العلمي واعتمد على استنتاجات شخصية. أغراني وصف الكتاب [[انه]] رسالة دكتوراة وتوقعت [[إني]] راح [[اقرأ]] كتاب موثق ومؤصل [[في]] [[البحث]] لا حديث أشبه [[بمقالات]] الصحف\n",
            "\n",
            "باختصار الكتاب خذلني..حديث [[متكرري]] [[ولعل]] لي [[شااء]] الكاتب ماتعب في التقصي والبحث العلمي واعتمد على استنتاجات شخصية. أغراني وصف الكتاب:[[كتاب]] [[بكونه]] رسالة دكتوراة وتوقعت [[علىأن]]ّ[[ي]] راح [[وسومapple]] كتاب موثق ومؤصل [[بیش]] [[والتحري]] لا حديثُ أشبه [[بعناويين]] الصحف\n",
            "\n",
            "\n"
          ]
        },
        {
          "metadata": {
            "tags": null
          },
          "name": "stderr",
          "output_type": "stream",
          "text": [
            "[Succeeded / Failed / Skipped / Total] 35 / 15 / 1 / 51:  51%|█████     | 51/100 [1:27:32<1:24:06, 102.98s/it]"
          ]
        },
        {
          "metadata": {
            "tags": null
          },
          "name": "stdout",
          "output_type": "stream",
          "text": [
            "--------------------------------------------- Result 51 ---------------------------------------------\n",
            "[[1 (91%)]] --> [[[FAILED]]]\n",
            "\n",
            "اصطدمت امرأة برجل في كافتيريا مطار جون كيندي ، و ثم ذهب كل منهما في سبيله دون أن يعلما أنهما سيلتقيان بعد ذلك و اكتشفا بعد فوات الأوان أنهما تبادلا هواتفهما المحمولة.جونثان صاحب مطعم و مادلين بائعة الزهور في باريس.كانا يبعدان عن بعضهما مسافة كبيرة.. عمل جميل، رومانسي، كوميدي، و لمسة من الإثارة\n",
            "\n",
            "\n"
          ]
        },
        {
          "metadata": {
            "tags": null
          },
          "name": "stderr",
          "output_type": "stream",
          "text": [
            "[Succeeded / Failed / Skipped / Total] 35 / 16 / 1 / 52:  52%|█████▏    | 52/100 [1:30:51<1:23:52, 104.83s/it]"
          ]
        },
        {
          "metadata": {
            "tags": null
          },
          "name": "stdout",
          "output_type": "stream",
          "text": [
            "--------------------------------------------- Result 52 ---------------------------------------------\n",
            "[[0 (87%)]] --> [[[FAILED]]]\n",
            "\n",
            "ا يعتبر فندق ولكن شقق مفروشه من الدرجه المتوسطه . طاقم العمل كان متساعدا في وقت الدخول و الخروج و اعجبتني الاطلاله من المطعم. تم تسليمي غرفه غير مطابقه لحجزي و اقل منها بحجه اني طلبت تسجيل وصول مبكر ولم ينتبهوا له و اسعار الكفيتيريا مبالغ فيها ، لا يوجد الا مصعد واحد يعمل ، مغسله الملابس لا تعمل ، الاثاث قديم جدا ، المواقف امام الفندق دائما مزدحمه ، لا يستحق هذا المبلغ و انصدمت منه ماتوقعته بهذا السوء\n",
            "\n",
            "\n"
          ]
        },
        {
          "metadata": {
            "tags": null
          },
          "name": "stderr",
          "output_type": "stream",
          "text": [
            "[Succeeded / Failed / Skipped / Total] 36 / 16 / 1 / 53:  53%|█████▎    | 53/100 [1:31:21<1:21:00, 103.42s/it]"
          ]
        },
        {
          "metadata": {
            "tags": null
          },
          "name": "stdout",
          "output_type": "stream",
          "text": [
            "--------------------------------------------- Result 53 ---------------------------------------------\n",
            "[[1 (78%)]] --> [[0 (53%)]]\n",
            "\n",
            "[[استثنائي]]. الفندق ملاصق للمول [[وبينهم]] [[مدخل]] [[مشترك]] ويتوفر بالمول المحلات التجارية والكوفيات المشهورة والمطاعم بالاضافة [[الى]] وجود سينما\n",
            "\n",
            "[[عادي]]. الفندق ملاصق للمول [[وبينهموضع]] [[المدخل]] [[تفاهم]] ويتوفر بالمول المحلات التجارية والكوفيات المشهورة والمطاعم بالاضافة [[لاعادته]] وجود سينما\n",
            "\n",
            "\n"
          ]
        },
        {
          "metadata": {
            "tags": null
          },
          "name": "stderr",
          "output_type": "stream",
          "text": [
            "[Succeeded / Failed / Skipped / Total] 37 / 16 / 1 / 54:  54%|█████▍    | 54/100 [1:32:31<1:18:48, 102.80s/it]"
          ]
        },
        {
          "metadata": {
            "tags": null
          },
          "name": "stdout",
          "output_type": "stream",
          "text": [
            "--------------------------------------------- Result 54 ---------------------------------------------\n",
            "[[1 (79%)]] --> [[0 (50%)]]\n",
            "\n",
            "كما قال آينشتاين نحن سجناء حواسنا المحددة ولا شئ يبدو واقعيا كما تبصره حواسنا فلا الألوان هي ذاتها الألوان ولا النجوم هي ذاتها النجوم.. السلاسة في [[شرح]] النظرية النسبية أعجبتني كثيرا وجعلتني أتفهم معنى [[المكان]] والزمان [[والكتلة]] ونسبيتهم كما يجب . [[تسلسل]] الأفكار [[جدا]] رائع من بداية نظرية [[الكم]] لبلانك وحتى الختام في البعد الرابع مع وجود الدليل الواضح والمعقول . الكتاب يشد قارئه جدا وكأنه رواية [[وليس]] حقائق علمية أخذت تفتح بعقولنا إلى جادة كشف الألغاز في تفسير المبهم والمخطوء .. أنصح بقراءة الكتاب\n",
            "\n",
            "كما قال آينشتاين نحن سجناء حواسنا المحددة ولا شئ يبدو واقعيا كما تبصره حواسنا فلا الألوان هي ذاتها الألوان ولا النجوم هي ذاتها النجوم.. السلاسة في [[الموضوعشرح]] النظرية النسبية أعجبتني كثيرا وجعلتني أتفهم معنى [[الأماكن]] والزمان [[الكتلية]] ونسبيتهم كما يجب . [[وتسلسلها]] الأفكار [[جداااااااااااااا]] رائع من بداية نظرية [[جميعاااااااااتقبلو]] لبلانك وحتى الختام في البعد الرابع مع وجود الدليل الواضح والمعقول . الكتاب يشد قارئه جدا وكأنه رواية [[ولكن]] حقائق علمية أخذت تفتح بعقولنا إلى جادة كشف الألغاز في تفسير المبهم والمخطوء .. أنصح بقراءة الكتاب\n",
            "\n",
            "\n"
          ]
        },
        {
          "metadata": {
            "tags": null
          },
          "name": "stderr",
          "output_type": "stream",
          "text": [
            "[Succeeded / Failed / Skipped / Total] 37 / 17 / 1 / 55:  55%|█████▌    | 55/100 [1:36:45<1:19:09, 105.55s/it]"
          ]
        },
        {
          "metadata": {
            "tags": null
          },
          "name": "stdout",
          "output_type": "stream",
          "text": [
            "--------------------------------------------- Result 55 ---------------------------------------------\n",
            "[[0 (87%)]] --> [[[FAILED]]]\n",
            "\n",
            "مشكلة الرواية بأن كلها كانت عبارة عن أسئلة ننتقل من جزء لجزء بدون مايكون فيه أي مؤشر لإجابة معينه، بالإضافه الى كثرة الأسماء المتشابهة فصارت الأحداث متشابكة ... لكن طبعا تتميز روايات دكتور منذر بأنها غير مملة تندمج معها\n",
            "\n",
            "\n"
          ]
        },
        {
          "metadata": {
            "tags": null
          },
          "name": "stderr",
          "output_type": "stream",
          "text": [
            "[Succeeded / Failed / Skipped / Total] 38 / 17 / 1 / 56:  56%|█████▌    | 56/100 [1:38:17<1:17:13, 105.32s/it]"
          ]
        },
        {
          "metadata": {
            "tags": null
          },
          "name": "stdout",
          "output_type": "stream",
          "text": [
            "--------------------------------------------- Result 56 ---------------------------------------------\n",
            "[[1 (80%)]] --> [[0 (51%)]]\n",
            "\n",
            "فندق نظيف في مركز المدينة الفندق من فئة الثلاثة نجوم ، نظافة [[الغرف]] [[وان]] لم تكن واسعة ، الخدمة المتميزة ، من اسرع الفنادق التي زرتها في [[إجراءات]] تسجيل الدخول [[والخروج]] ، طاقم الإستفبال ودود ، الموقع المتميز في مركز المدينة ، محاطا بالمطاعم والمقاهي والمحلات التجارية ، بالفرب من ساحة أتاتورك ، وشارع [[اوزون]] للمشاة [[وبه]] كثير من المطاعم والمحلات التجارية\n",
            "\n",
            "فندق نظيف في مركز المدينة الفندق من فئة الثلاثة نجوم ، نظافة [[الغرف127]] [[وبالتاكيد]] لم تكن واسعة ، الخدمة المتميزة ، من اسرع الفنادق التي زرتها في [[إجراءاتي]] تسجيل الدخول [[أوالخروج]] ، طاقم الإستفبال ودود ، الموقع المتميز في مركز المدينة ، محاطا بالمطاعم والمقاهي والمحلات التجارية ، بالفرب من ساحة أتاتورك ، وشارع [[ايمسا]] للمشاة [[وهنالك]] كثير من المطاعم والمحلات التجارية\n",
            "\n",
            "\n"
          ]
        },
        {
          "metadata": {
            "tags": null
          },
          "name": "stderr",
          "output_type": "stream",
          "text": [
            "[Succeeded / Failed / Skipped / Total] 39 / 17 / 1 / 57:  57%|█████▋    | 57/100 [1:42:06<1:17:01, 107.49s/it]"
          ]
        },
        {
          "metadata": {
            "tags": null
          },
          "name": "stdout",
          "output_type": "stream",
          "text": [
            "--------------------------------------------- Result 57 ---------------------------------------------\n",
            "[[1 (74%)]] --> [[0 (53%)]]\n",
            "\n",
            "[[جيد]] ولكن السعر مكلف. . النظافة [[وحسن]] الاستقبال خاصه الموظف [[عمر]] انسان خلوق جدا على عكس باقي موظفي [[الاستقبال]] المكان [[هادى]] وجيد ومريح الاثاث ممتاز كذلك المواقف متوفره [[وخدمة]] [[نقل]] المركبة.. السعر غالي ، كذلك الضوء في الغرفة قليل ولا تكفي المصابيح ، [[دفع]] المياه ليس [[قوي]] ، المياه ليست حارة\n",
            "\n",
            "[[ضعيف]] ولكن السعر مكلف. . النظافة [[كحسن]] الاستقبال خاصه الموظف [[عمرالمختار]] انسان خلوق جدا على عكس باقي موظفي [[الاستقبال9]] المكان [[ابراهيم]] وجيد ومريح الاثاث ممتاز كذلك المواقف متوفره [[وتعليم]] [[نقلهم]] المركبة.. السعر غالي ، كذلك الضوء في الغرفة قليل ولا تكفي المصابيح ، [[رو]]ّ[[ج]] المياه ليس [[سريع]] ، المياه ليست حارة\n",
            "\n",
            "\n"
          ]
        },
        {
          "metadata": {
            "tags": null
          },
          "name": "stderr",
          "output_type": "stream",
          "text": [
            "[Succeeded / Failed / Skipped / Total] 40 / 17 / 1 / 58:  58%|█████▊    | 58/100 [1:42:32<1:14:15, 106.08s/it]"
          ]
        },
        {
          "metadata": {
            "tags": null
          },
          "name": "stdout",
          "output_type": "stream",
          "text": [
            "--------------------------------------------- Result 58 ---------------------------------------------\n",
            "[[1 (86%)]] --> [[0 (50%)]]\n",
            "\n",
            "الفكرة برمتها هي ما دفعني لاقرأها. الجميل في [[الامر]] ان الرواية بقدر ما هي خيالية في البداية. اتت النهاية غير متوقعة كالعادة وصدقا اعتقد انني بدات احب اسلوب هذا الكاتب [[لذا]] ساقرا له [[المزيد]]\n",
            "\n",
            "الفكرة برمتها هي ما دفعني لاقرأها. الجميل في [[الأمرفي]] ان الرواية بقدر ما هي خيالية في البداية. اتت النهاية غير متوقعة كالعادة وصدقا اعتقد انني بدات احب اسلوب هذا الكاتب [[فربما]] ساقرا له [[مزيدا]]ً\n",
            "\n",
            "\n"
          ]
        },
        {
          "metadata": {
            "tags": null
          },
          "name": "stderr",
          "output_type": "stream",
          "text": [
            "[Succeeded / Failed / Skipped / Total] 41 / 17 / 1 / 59:  59%|█████▉    | 59/100 [1:42:37<1:11:18, 104.36s/it]"
          ]
        },
        {
          "metadata": {
            "tags": null
          },
          "name": "stdout",
          "output_type": "stream",
          "text": [
            "--------------------------------------------- Result 59 ---------------------------------------------\n",
            "[[0 (65%)]] --> [[1 (60%)]]\n",
            "\n",
            "اتمنى الاهتمام [[وعدم]] الاستغلال . الموقع رائع جدا من الحرم النبوي وقريب يفصله شارعين كل شارع متر ومسافة متر وتصل الى الحرمتعامل الموظفين ورجال امن الفندق محترمين. المطعم اكله سيئ بمعنى الكلمهالانترنت سيئ بمعنى الكلمهلا توجد مواقف سيارات حيث المواقف تتسع لعدد سياره فقط والفندق متوفر به غرفهالازعاج داخل الفندق من ناحية اطفال النزلاءلايرد عليك من اول مره عند الاتصال\n",
            "\n",
            "اتمنى الاهتمام [[ومحاولت]] الاستغلال . الموقع رائع جدا من الحرم النبوي وقريب يفصله شارعين كل شارع متر ومسافة متر وتصل الى الحرمتعامل الموظفين ورجال امن الفندق محترمين. المطعم اكله سيئ بمعنى الكلمهالانترنت سيئ بمعنى الكلمهلا توجد مواقف سيارات حيث المواقف تتسع لعدد سياره فقط والفندق متوفر به غرفهالازعاج داخل الفندق من ناحية اطفال النزلاءلايرد عليك من اول مره عند الاتصال\n",
            "\n",
            "\n"
          ]
        },
        {
          "metadata": {
            "tags": null
          },
          "name": "stderr",
          "output_type": "stream",
          "text": [
            "[Succeeded / Failed / Skipped / Total] 41 / 18 / 1 / 60:  60%|██████    | 60/100 [1:53:40<1:15:46, 113.67s/it]"
          ]
        },
        {
          "metadata": {
            "tags": null
          },
          "name": "stdout",
          "output_type": "stream",
          "text": [
            "--------------------------------------------- Result 60 ---------------------------------------------\n",
            "[[0 (82%)]] --> [[[FAILED]]]\n",
            "\n",
            "من البداية العنوان لا علاقة له بموضوع الكتاب: العنوان اعطاني ايحاء بان الكتاب هيحلل شخصيات كل المقربين من محمد علي ودورهم في الانجازات اللي عملها محمد علي سواء عسكريا او اقتصاديا... لكن المقدمة اخدت منها فكرة ان الكتاب هيتسعرض فترة حكم محمد علي عن طريق جيشه اللي هيعمل خلفية عن باقي الحكم ودا هيكون عن طريق قاعدة الجنود المصريين واحساسهم ايه بالتجنيد الاجباري، بجانب انه هيتجاهل ذكر محمد علي قدر الامكان عشان يدي صورة موضوعية للاحداث ولتجنب طرق عرض السابقين لتاريخ محمد علي اللي كان هو محور التركيز فيها ، ولكن الكتاب محتواش اي من ما ذكر في المقدمة: فالتركيز كان فقط على ابراهيم باشا وسليمان باشا وكلوت بك ودورهم في حروب محمد علي، وبالنسبة للجنود وفي معظم الاحوال كان التركيز فقط على محاولات الهروب من التجنيد بدون وصف اي مشاعر للجنود في اثناء المعسكرات او السفر او الحروب او مواقفهم او اي مايتعلق بهم بحجة ان كلهم كانوا اميين، ومعظم الادلة اللي استعملها المؤلف كانت مراسلات بين محمد علي وولده ابراهيم...الانطباع اللي احسست ان المؤلف عاوز يوصله هو ان محمد علي كان ديكتاتور وكان فاسد وكان يعمل فقط لمصحلته الشخصية علما ان دي وجهة نظري في الحقيقة ومن قبل ان اقرا الكتاب بسنوات ولكن بدون اي موضوعية في التحليل باستخدام فقط بعض الرسائل اللي بيسب فيها محمد علي المصريين. الكاتب مختلفش كتير عن مادحي محمد علي في مدحهم المبالغ فيه للرجل لكن هو كان من ذاميه وبنفس الاسلوب\n",
            "\n",
            "\n"
          ]
        },
        {
          "metadata": {
            "tags": null
          },
          "name": "stderr",
          "output_type": "stream",
          "text": [
            "[Succeeded / Failed / Skipped / Total] 42 / 18 / 1 / 61:  61%|██████    | 61/100 [1:53:48<1:12:45, 111.93s/it]"
          ]
        },
        {
          "metadata": {
            "tags": null
          },
          "name": "stdout",
          "output_type": "stream",
          "text": [
            "--------------------------------------------- Result 61 ---------------------------------------------\n",
            "[[0 (72%)]] --> [[1 (68%)]]\n",
            "\n",
            "أفكار مستهلكة .... أحداث سريعة متداخلة و متوقعة. شخصيات منسية و كانت بمثابة الحشو. أخطاء لغوية و نحوية متكررة .... أسلوب السرد متواضع جدا.... المواعض كانت مسقطة اسقاط .... أظن [[الكاتب]] استعحل فى نشر أول عمل [[له]]\n",
            "\n",
            "أفكار مستهلكة .... أحداث سريعة متداخلة و متوقعة. شخصيات منسية و كانت بمثابة الحشو. أخطاء لغوية و نحوية متكررة .... أسلوب السرد متواضع جدا.... المواعض كانت مسقطة اسقاط .... أظن [[والمفكر]] استعحل فى نشر أول عمل [[ل]].[[خ]]\n",
            "\n",
            "\n"
          ]
        },
        {
          "metadata": {
            "tags": null
          },
          "name": "stderr",
          "output_type": "stream",
          "text": [
            "[Succeeded / Failed / Skipped / Total] 43 / 18 / 1 / 62:  62%|██████▏   | 62/100 [1:54:55<1:10:26, 111.23s/it]"
          ]
        },
        {
          "metadata": {
            "tags": null
          },
          "name": "stdout",
          "output_type": "stream",
          "text": [
            "--------------------------------------------- Result 62 ---------------------------------------------\n",
            "[[1 (79%)]] --> [[0 (52%)]]\n",
            "\n",
            "[[مش]] [[عارفه]] أبدأ منين بوصف الروايه دى او كاتبها ... عجبتنى أوى [[اللغه]] اللى كتب [[بيها]] وأسلوبه [[المنتظم]]... وأحداثها [[مثيره]] جدا... [[روايه]] [[عميقة]] [[وممتعة]] فيها [[تساؤلات]] [[عجبتني]] قوي... [[تستحق]] [[القراءه]]\n",
            "\n",
            "[[هسكت]] [[عاارفه]] أبدأ منين بوصف الروايه دى او كاتبها ... عجبتنى أوى [[وباللغه]] اللى كتب [[بهالكم]] وأسلوبه [[المنتظمه]]... وأحداثها [[صادمه]] جدا... [[الروايه]] [[كبيرة]] [[وحلوة]] فيها [[شكوكا]] [[اعجبتني]] قوي... [[وتستحق]]ّ [[القرآءه]]\n",
            "\n",
            "\n"
          ]
        },
        {
          "metadata": {
            "tags": null
          },
          "name": "stderr",
          "output_type": "stream",
          "text": [
            "[Succeeded / Failed / Skipped / Total] 44 / 18 / 1 / 63:  63%|██████▎   | 63/100 [1:54:59<1:07:31, 109.51s/it]"
          ]
        },
        {
          "metadata": {
            "tags": null
          },
          "name": "stdout",
          "output_type": "stream",
          "text": [
            "--------------------------------------------- Result 63 ---------------------------------------------\n",
            "[[1 (65%)]] --> [[0 (50%)]]\n",
            "\n",
            "جيد. نظيف وموقعه ممتاز. النت بمقابللا يوجد به مطعم وانما كوفي شوب متواضعأغلب النزلاء من الجاليه الهنديه وتعرفون [[الهنود]] ما شاء الله قمة الازعاج\n",
            "\n",
            "جيد. نظيف وموقعه ممتاز. النت بمقابللا يوجد به مطعم وانما كوفي شوب متواضعأغلب النزلاء من الجاليه الهنديه وتعرفون [[البريطانيين]] ما شاء الله قمة الازعاج\n",
            "\n",
            "\n"
          ]
        },
        {
          "metadata": {
            "tags": null
          },
          "name": "stderr",
          "output_type": "stream",
          "text": [
            "[Succeeded / Failed / Skipped / Total] 45 / 18 / 1 / 64:  64%|██████▍   | 64/100 [1:55:29<1:04:58, 108.28s/it]"
          ]
        },
        {
          "metadata": {
            "tags": null
          },
          "name": "stdout",
          "output_type": "stream",
          "text": [
            "--------------------------------------------- Result 64 ---------------------------------------------\n",
            "[[0 (80%)]] --> [[1 (51%)]]\n",
            "\n",
            "[[رواية]] سخيفة وسطحية بمعنى الكلمة...واقرب ما تكون الى ملاحظات [[الجوال]] التي كنا نتداولها ايام المراهقة... لم [[أستطع]] انهائهاولو [[كانت]] [[انثى]] هي من كتبها لكانت أهون تلقيا وقبولا.. العنوان مبهم ولا يوحي بشيء [[الى]] ما بداخل الرواية او القصة المبتذلة او سمها ما شئت\n",
            "\n",
            "[[كتاب]] سخيفة وسطحية بمعنى الكلمة...واقرب ما تكون الى ملاحظات [[الجوالبرنامج]] التي كنا نتداولها ايام المراهقة... لم [[وأتمكن]] انهائهاولو [[لكنها]] [[والانثى]] هي من كتبها لكانت أهون تلقيا وقبولا.. العنوان مبهم ولا يوحي بشيء [[إليه]].[[من]] ما بداخل الرواية او القصة المبتذلة او سمها ما شئت\n",
            "\n",
            "\n"
          ]
        },
        {
          "metadata": {
            "tags": null
          },
          "name": "stderr",
          "output_type": "stream",
          "text": [
            "[Succeeded / Failed / Skipped / Total] 46 / 18 / 1 / 65:  65%|██████▌   | 65/100 [1:55:33<1:02:13, 106.67s/it]"
          ]
        },
        {
          "metadata": {
            "tags": null
          },
          "name": "stdout",
          "output_type": "stream",
          "text": [
            "--------------------------------------------- Result 65 ---------------------------------------------\n",
            "[[0 (79%)]] --> [[1 (56%)]]\n",
            "\n",
            "ضعيف جدا. . خريطة الموقع غير صحيحة، ولم يتم تحديثها من قبلهم. سوء الاستقبال والخدمات. المطعم سيء ولم يشمل العرض وجبات لائقة. موقع المنتجع بعيد جدا. رداءة الأثاث. دورات المياة لا تليق باسم وقيمة [[المنتجع]]\n",
            "\n",
            "ضعيف جدا. . خريطة الموقع غير صحيحة، ولم يتم تحديثها من قبلهم. سوء الاستقبال والخدمات. المطعم سيء ولم يشمل العرض وجبات لائقة. موقع المنتجع بعيد جدا. رداءة الأثاث. دورات المياة لا تليق باسم وقيمة [[لندنمنتجع]]\n",
            "\n",
            "\n"
          ]
        },
        {
          "metadata": {
            "tags": null
          },
          "name": "stderr",
          "output_type": "stream",
          "text": [
            "[Succeeded / Failed / Skipped / Total] 46 / 19 / 1 / 66:  66%|██████▌   | 66/100 [1:56:39<1:00:05, 106.06s/it]"
          ]
        },
        {
          "metadata": {
            "tags": null
          },
          "name": "stdout",
          "output_type": "stream",
          "text": [
            "--------------------------------------------- Result 66 ---------------------------------------------\n",
            "[[1 (87%)]] --> [[[FAILED]]]\n",
            "\n",
            "الفخامة . حسن الاستقبال وع راسهم مدير الفندف أ. ايمن والنظافة والخدمات متوفرة والمواقف واسعة. الازعااااااااااااج بسبب أعمال الترميمات والتي يجب ان يبلغ الموقع بها\n",
            "\n",
            "\n"
          ]
        },
        {
          "metadata": {
            "tags": null
          },
          "name": "stderr",
          "output_type": "stream",
          "text": [
            "[Succeeded / Failed / Skipped / Total] 47 / 19 / 1 / 67:  67%|██████▋   | 67/100 [1:59:25<58:49, 106.95s/it]"
          ]
        },
        {
          "metadata": {
            "tags": null
          },
          "name": "stdout",
          "output_type": "stream",
          "text": [
            "--------------------------------------------- Result 67 ---------------------------------------------\n",
            "[[1 (85%)]] --> [[0 (51%)]]\n",
            "\n",
            "سوف أقيم في هذا الفندق [[كل]] مرة [[بإذن]] الله تعالى . [[موظفي]] الاستقبال في قمة الذوق [[والأخلاق]] [[خاصة]] الموظفة شيلافيوسام. سعر الإفطار غالي [[ولا]] يناسب [[هذا]] الشهر الكريم\n",
            "\n",
            "سوف أقيم في هذا الفندق [[شيءرد]] مرة [[ـبإذن]] الله تعالى . [[الموظ]]ّ[[هتقوليلي]] الاستقبال في قمة الذوق [[بالأخلاقيات]] [[خاصةو]] الموظفة شيلافيوسام. سعر الإفطار غالي [[ولكنلا]] يناسب [[ذاك]] الشهر الكريم\n",
            "\n",
            "\n"
          ]
        },
        {
          "metadata": {
            "tags": null
          },
          "name": "stderr",
          "output_type": "stream",
          "text": [
            "[Succeeded / Failed / Skipped / Total] 48 / 19 / 1 / 68:  68%|██████▊   | 68/100 [2:00:04<56:30, 105.94s/it]"
          ]
        },
        {
          "metadata": {
            "tags": null
          },
          "name": "stdout",
          "output_type": "stream",
          "text": [
            "--------------------------------------------- Result 68 ---------------------------------------------\n",
            "[[0 (70%)]] --> [[1 (52%)]]\n",
            "\n",
            "طاقم سيء جدا . لا شيء تقريبا. تعامل سيء جدا من موظف الاستقبال أ.ربيع ، يختار لك أسوأ غرفه على الرغم من توفر غرفه اخرى افضل في طابق اعلى، [[تسجيل]] دخول بعد مكوثنا في الاستقبال بما يقارب الساعه او اكثر ، والوقت كان اخر الليل والفندق شبه خال ، لا توجد غرفه بسرير مزدوج بل سريرين فردية ويتم ضمهما ، [[عدم]] مراعاة لأحوال المرضى وذوي الاحتياجات الخاصة أبدا، تجربتي الشخصية مع موظف الاستقبال اتمنى ان لا تتكرر [[أبدا]]، يوجد شخص في الاستقبال يدعى أ.النفيعي أخلاقه راقيه جدا لكنه [[لا]] يملك الصلاحية\n",
            "\n",
            "طاقم سيء جدا . لا شيء تقريبا. تعامل سيء جدا من موظف الاستقبال أ.ربيع ، يختار لك أسوأ غرفه على الرغم من توفر غرفه اخرى افضل في طابق اعلى، [[لتسجيل]] دخول بعد مكوثنا في الاستقبال بما يقارب الساعه او اكثر ، والوقت كان اخر الليل والفندق شبه خال ، لا توجد غرفه بسرير مزدوج بل سريرين فردية ويتم ضمهما ، [[وعدم]] مراعاة لأحوال المرضى وذوي الاحتياجات الخاصة أبدا، تجربتي الشخصية مع موظف الاستقبال اتمنى ان لا تتكرر [[أيضا]]، يوجد شخص في الاستقبال يدعى أ.النفيعي أخلاقه راقيه جدا لكنه [[نلبـث]] يملك الصلاحية\n",
            "\n",
            "\n"
          ]
        },
        {
          "metadata": {
            "tags": null
          },
          "name": "stderr",
          "output_type": "stream",
          "text": [
            "[Succeeded / Failed / Skipped / Total] 48 / 20 / 1 / 69:  69%|██████▉   | 69/100 [2:20:33<1:03:09, 122.23s/it]"
          ]
        },
        {
          "metadata": {
            "tags": null
          },
          "name": "stdout",
          "output_type": "stream",
          "text": [
            "--------------------------------------------- Result 69 ---------------------------------------------\n",
            "[[1 (73%)]] --> [[[FAILED]]]\n",
            "\n",
            "ياااااااااا الله. كتاب تحفة. غير كتب السيرة المعتادة دة واخد سيرة المصطفى من جانب اجتماعى روحانى بحت. بدون الدخول ف تفاصيل كتير واسماء كبيرة زى كتب السيرة المعتادة. كانه جد بيحكى حدوتة لاحفاده الكبار شوية . وبيقولهم بصو يا ولاد كانت ظروف قريش الاجتماعية كذا وكان الحكم فيها لفلان وفلان. ولما جه يتكلم عن المصطفى اتكلم بنفس الاسلوب. سوا ف شرح ملابسات النبوة حتى الهجرة وكل الغزوات. استفدت معلومات كتيييييييييير جدااااااااا جديدة يمكن لانى لالاسف مش من قراء السيرة والكتب الدينية عموما ودة عيب ف قراءاتى بحاول اصلحه . واستمتعت على المستوى العام بالاسلوب والشرح المبسط. وطبعا بكيت كالمعتاد فى مشهد وفاة الرسول. الكتاب بنصح بيه وبشدة ولكن لقارئ سيرة قبل او بعد الكتاب دة. يعنى ميبقاش مرجع وحيد. ملحوظة:. الكتاب دة كان هديتى لنفسى بمناسبة نجاحى فى تحدى ال يوم سعادة. ورغم انى مكنتش حابة ف الاول اجيب لنفسى كتاب. الا انى بعد ايام قراءة ف الكتاب دة. حابة اقول انى مبسوطة من نفسى جدااااااااااا. وفرحانة قوى بالكتاب دة. اربعة نجوم مستحقة. وكتاب مميز ينضم لقائمة اروع ماقرات. وتجربة اولى ولن تكون الاخيرة للكاتب. انتهى الرفيو\n",
            "\n",
            "\n"
          ]
        },
        {
          "metadata": {
            "tags": null
          },
          "name": "stderr",
          "output_type": "stream",
          "text": [
            "[Succeeded / Failed / Skipped / Total] 49 / 20 / 1 / 70:  70%|███████   | 70/100 [2:20:39<1:00:16, 120.56s/it]"
          ]
        },
        {
          "metadata": {
            "tags": null
          },
          "name": "stdout",
          "output_type": "stream",
          "text": [
            "--------------------------------------------- Result 70 ---------------------------------------------\n",
            "[[0 (78%)]] --> [[1 (61%)]]\n",
            "\n",
            "[[رواية]] سيئة للغاية .......و [[لا]] أنصح أحد بإضاعة وقته الثمين فى قراءتها\n",
            "\n",
            "[[روايتنا]] سيئة للغاية .......و [[نلبـث]] أنصح أحد بإضاعة وقته الثمين فى قراءتها\n",
            "\n",
            "\n"
          ]
        },
        {
          "metadata": {
            "tags": null
          },
          "name": "stderr",
          "output_type": "stream",
          "text": [
            "[Succeeded / Failed / Skipped / Total] 50 / 20 / 1 / 71:  71%|███████   | 71/100 [2:20:44<57:29, 118.94s/it]"
          ]
        },
        {
          "metadata": {
            "tags": null
          },
          "name": "stdout",
          "output_type": "stream",
          "text": [
            "--------------------------------------------- Result 71 ---------------------------------------------\n",
            "[[0 (75%)]] --> [[1 (56%)]]\n",
            "\n",
            "[[رواية]] كوميدية مسلية جدا و تبعث بالحنين إلى عاصمة الضباب .. ولكن أسلوب [[الكاتب]] ضعيف و بمستوى كتابة روايات المنتديات على الانترنت\n",
            "\n",
            "[[روايتك]] كوميدية مسلية جدا و تبعث بالحنين إلى عاصمة الضباب .. ولكن أسلوب [[والباحث]] ضعيف و بمستوى كتابة روايات المنتديات على الانترنت\n",
            "\n",
            "\n"
          ]
        },
        {
          "metadata": {
            "tags": null
          },
          "name": "stderr",
          "output_type": "stream",
          "text": [
            "[Succeeded / Failed / Skipped / Total] 51 / 20 / 1 / 72:  72%|███████▏  | 72/100 [2:22:17<55:20, 118.58s/it]"
          ]
        },
        {
          "metadata": {
            "tags": null
          },
          "name": "stdout",
          "output_type": "stream",
          "text": [
            "--------------------------------------------- Result 72 ---------------------------------------------\n",
            "[[1 (89%)]] --> [[0 (52%)]]\n",
            "\n",
            "[[الجارة]] وانت [[اسمك]] [[إيه]]؟ [[أجملهم]] إطلاقا. خبرة النهاية [[وصفاء]] البداية وتشابه [[ما]] [[بالوسط]]، [[بين]] عجوز يقبل [[الحياة]] وطفل يمتلكها. رائعة.. [[صدفة]] [[أن]] أول [[القصص]] الست [[هنا]] [[عن]] طفل وآخرها [[عن]] عجوز بالثمانين من [[العمر]]؟. أيا، [[أحببت]] الكتاب\n",
            "\n",
            "[[جيرانها]] وانت [[فأسمك]] [[حيحصل]]؟ [[أروعها]] إطلاقا. خبرة النهاية [[وبصفاء]] البداية وتشابه [[شي]] [[بالتخت]]، [[دل]] عجوز يقبل [[الحياةة]] وطفل يمتلكها. رائعة.. [[صادفة]] [[إذ]] أول [[القصه]] الست [[الرابطاضغط]] [[عنـ]] طفل وآخرها [[عنهفي]] عجوز بالثمانين من [[العمر21]]؟. أيا، [[أردتني]] الكتاب\n",
            "\n",
            "\n"
          ]
        },
        {
          "metadata": {
            "tags": null
          },
          "name": "stderr",
          "output_type": "stream",
          "text": [
            "[Succeeded / Failed / Skipped / Total] 52 / 20 / 1 / 73:  73%|███████▎  | 73/100 [2:24:07<53:18, 118.45s/it]"
          ]
        },
        {
          "metadata": {
            "tags": null
          },
          "name": "stdout",
          "output_type": "stream",
          "text": [
            "--------------------------------------------- Result 73 ---------------------------------------------\n",
            "[[0 (82%)]] --> [[1 (50%)]]\n",
            "\n",
            "انا فى الحقيقة الكتاب ده من الكتب الغريبة [[اللى]] [[قراتها]] فى الاول كان ماشى كويس جداا و يشد و بعدين دخل فى متاهات لدرجة انى شكيت فى مستوى فهمى و قلت تقريبا ان الكتاب لناس مستواهم الثقافى [[اعلى]] منى و [[بعدين]] [[لما]] شفت [[الكومنتات]] حمدت ربنا فيه [[ناس]] رايهم [[من]] راى عموما الكاتبه ممكن يطلع منها حاجة احسن من كده لو [[ركزت]] شويه [[عن]] كده وشكرا\n",
            "\n",
            "انا فى الحقيقة الكتاب ده من الكتب الغريبة [[إللى]] [[قراة]] فى الاول كان ماشى كويس جداا و يشد و بعدين دخل فى متاهات لدرجة انى شكيت فى مستوى فهمى و قلت تقريبا ان الكتاب لناس مستواهم الثقافى [[ارفع]] منى و [[دهوبعدين]] [[وعندما]] شفت [[عالفيس]] حمدت ربنا فيه [[برضهم]] رايهم [[rida21]] راى عموماً الكاتبه ممكن يطلع منها حاجة احسن من كده لو [[اعتمدت]] شويه [[ععن]] كده وشكرا\n",
            "\n",
            "\n"
          ]
        },
        {
          "metadata": {
            "tags": null
          },
          "name": "stderr",
          "output_type": "stream",
          "text": [
            "[Succeeded / Failed / Skipped / Total] 53 / 20 / 1 / 74:  74%|███████▍  | 74/100 [2:24:42<50:50, 117.33s/it]"
          ]
        },
        {
          "metadata": {
            "tags": null
          },
          "name": "stdout",
          "output_type": "stream",
          "text": [
            "--------------------------------------------- Result 74 ---------------------------------------------\n",
            "[[0 (84%)]] --> [[1 (52%)]]\n",
            "\n",
            "بدأت [[في]] [[قراءتها]] منذ مدة طويلة وتوقفت [[لأني]] [[لم]] أفهم منها إلا قليلا جدا . فيها [[كثير]] من الغموض.. أشبه ما تكون بالشعر الحديث الغامض... أنهيتها [[قبل]] قليل في وارد إنهاء الكتب العالقة قبل نهاية العام... أحب الكاتب، إلا أن روايته هذه لم تعجبني أبدا.. [[لا]] [[أنصح]] بقراءتها \n",
            "\n",
            "بدأت [[Arzuiyeh]] [[متابعتها]] منذ مدة طويلة وتوقفت [[ولكنني]] [[أك]]ُ[[ن]] أفهم منها إلا قليلا جدا . فيها [[بعض]] من الغموض.. أشبه ما تكون بالشعر الحديث الغامض... أنهيتها [[منذ]] قليل في وارد إنهاء الكتب العالقة قبل نهاية العام... أحب الكاتب، إلا أن روايته هذه لم تعجبني أبدا.. [[فﻼ]] [[وأنصحه]] بقراءتها \n",
            "\n",
            "\n"
          ]
        },
        {
          "metadata": {
            "tags": null
          },
          "name": "stderr",
          "output_type": "stream",
          "text": [
            "[Succeeded / Failed / Skipped / Total] 53 / 21 / 1 / 75:  75%|███████▌  | 75/100 [2:24:55<48:18, 115.93s/it]"
          ]
        },
        {
          "metadata": {
            "tags": null
          },
          "name": "stdout",
          "output_type": "stream",
          "text": [
            "--------------------------------------------- Result 75 ---------------------------------------------\n",
            "[[1 (84%)]] --> [[[FAILED]]]\n",
            "\n",
            "استثنائي. الهدوء والنظافه. أشياء بسيطه\n",
            "\n",
            "\n"
          ]
        },
        {
          "metadata": {
            "tags": null
          },
          "name": "stderr",
          "output_type": "stream",
          "text": [
            "[Succeeded / Failed / Skipped / Total] 54 / 21 / 1 / 76:  76%|███████▌  | 76/100 [2:25:12<45:51, 114.63s/it]"
          ]
        },
        {
          "metadata": {
            "tags": null
          },
          "name": "stdout",
          "output_type": "stream",
          "text": [
            "--------------------------------------------- Result 76 ---------------------------------------------\n",
            "[[0 (82%)]] --> [[1 (51%)]]\n",
            "\n",
            "مثل معظم [[روايات]] محمد صادق الروايه لم تبهرنى [[فلا]] يوجد محور محدد [[تدور]] حوله الاحداث و لكن الفكره [[جيده]] و النهايه مبتكره و لكن [[الاحداث]] رتيبه [[ان]] لم تكن ممله\n",
            "\n",
            "مثل معظم [[وألروايات]] محمد صادق الروايه لم تبهرنى [[به]].[[لا]] يوجد محور محدد [[هتدور]] حوله الاحداث و لكن الفكره [[جديده]] و النهايه مبتكره و لكن [[والاحدات]] رتيبه [[ا]]ْ[[ن]] لم تكن ممله\n",
            "\n",
            "\n"
          ]
        },
        {
          "metadata": {
            "tags": null
          },
          "name": "stderr",
          "output_type": "stream",
          "text": [
            "[Succeeded / Failed / Skipped / Total] 55 / 21 / 1 / 77:  77%|███████▋  | 77/100 [2:26:08<43:39, 113.88s/it]"
          ]
        },
        {
          "metadata": {
            "tags": null
          },
          "name": "stdout",
          "output_type": "stream",
          "text": [
            "--------------------------------------------- Result 77 ---------------------------------------------\n",
            "[[0 (85%)]] --> [[1 (53%)]]\n",
            "\n",
            "الفندق قديم جدا . الموقع قريب [[من]] الحرم. الفندق قديم النظافة سيئة [[بعض]] الغرف [[فيها]] باب مشترك ويسبب إزعاج الإفطار والسحور في رمضان عادي ولا يقارن باي [[فندق]] خمس [[نجوم]] باختصار الفندق [[لا]] [[يصح]] ان [[يكون]] خمس نجوم\n",
            "\n",
            "الفندق قديم جدا . الموقع قريب [[maii]] الحرم. الفندق قديم النظافة سيئة [[عددا]] الغرف [[فيهالكن]] باب مشترك ويسبب إزعاج الإفطار والسحور في رمضان عادي ولا يقارن باي [[نيويوركفندق]] خمس [[نجومة]] باختصار الفندق [[إذ]] [[يجوز]] ان [[يجعل]] خمس نجومً[[ا]]\n",
            "\n",
            "\n"
          ]
        },
        {
          "metadata": {
            "tags": null
          },
          "name": "stderr",
          "output_type": "stream",
          "text": [
            "[Succeeded / Failed / Skipped / Total] 56 / 21 / 1 / 78:  78%|███████▊  | 78/100 [2:27:59<41:44, 113.84s/it]"
          ]
        },
        {
          "metadata": {
            "tags": null
          },
          "name": "stdout",
          "output_type": "stream",
          "text": [
            "--------------------------------------------- Result 78 ---------------------------------------------\n",
            "[[0 (87%)]] --> [[1 (56%)]]\n",
            "\n",
            "ضعيف. الغرقة كانت على درجة عالية من النظافة ولكن كانت كمية الصابون والفاين قليلة جداااوكذلك الصالة لا تحتوى على سجادة ولا موكيت غرفة النوم الستارة سيئة وغير مناسبة اطلاقا وكذلك الازعاج وكأن السكان معي بالغرفة. [[موظف]] الاستقبال كان سعودي لا يحمل ادنى مقومات احترام النزيل حيث [[أنني]] جلست معه في جدال حول ان يتكرم لي بمقابلة المدير ولكنه [[يقول]] لا يدري اين هو ويتكلم معي [[وهو]] جالس وحاط رجل على رجل [[والله]] انني لم ارى مثل هذا الموقف الا [[في]] [[فندق]] رمادا بالهدى بالطائف فهو كان سعودي ولم يكن يحترم [[النزيل]] [[وشكرا]]\n",
            "\n",
            "ضعيف. الغرقة كانت على درجة عالية من النظافة ولكن كانت كمية الصابون والفاين قليلة جداااوكذلك الصالة لا تحتوى على سجادة ولا موكيت غرفة النوم الستارة سيئة وغير مناسبة اطلاقا وكذلك الازعاج وكأن السكان معي بالغرفة. [[مفتش]] الاستقبال كان سعودي لا يحمل ادنى مقومات احترام النزيل حيث [[فكأنني]] جلست معه في جدال حول ان يتكرم لي بمقابلة المدير ولكنه [[يقولإن]] لا يدري اين هو ويتكلم معي [[انه]] جالس وحاط رجل على رجل [[واللهما]] انني لم ارى مثل هذا الموقف الا [[فى]] [[انترلاكنفندق]] رمادا بالهدى بالطائف فهو كان سعودي ولم يكن يحترم [[الغرف]].[[استرخاء]] [[وتحياتي]]\n",
            "\n",
            "\n"
          ]
        },
        {
          "metadata": {
            "tags": null
          },
          "name": "stderr",
          "output_type": "stream",
          "text": [
            "[Succeeded / Failed / Skipped / Total] 57 / 21 / 1 / 79:  79%|███████▉  | 79/100 [2:28:15<39:24, 112.61s/it]"
          ]
        },
        {
          "metadata": {
            "tags": null
          },
          "name": "stdout",
          "output_type": "stream",
          "text": [
            "--------------------------------------------- Result 79 ---------------------------------------------\n",
            "[[1 (77%)]] --> [[0 (54%)]]\n",
            "\n",
            "[[الواقع]] غير [[ما]] هوا مسجل في موقع الحجز . النظافة والأمن ممتازة. في البداية عند تسجيل الدخول [[كان]] علينا الانتظار [[على]] ما يزيد من دقيقة بسبب عدم وجود اكثر من كونتر واحد يعمل في الاستقبال بعض الأبناء نام على الارض بسبب عدم وجود عدد كافي من الاسرة، عدد الاسرة والشقة مخصصة لعدد أشخاص\n",
            "\n",
            "[[واقعها]] غير [[إ]]ِ[[يش]] هوا مسجل في موقع الحجز . النظافة والأمن ممتازة. في البداية عند تسجيل الدخول [[مادام]] علينا الانتظار [[كثف]] ما يزيد من دقيقة بسبب عدم وجود اكثر من كونتر واحد يعمل في الاستقبال بعض الأبناء نام على الارض بسبب عدم وجود عدد كافي من الاسرة، عدد الاسرة والشقة مخصصة لعدد أشخاص\n",
            "\n",
            "\n"
          ]
        },
        {
          "metadata": {
            "tags": null
          },
          "name": "stderr",
          "output_type": "stream",
          "text": [
            "[Succeeded / Failed / Skipped / Total] 58 / 21 / 1 / 80:  80%|████████  | 80/100 [2:28:19<37:04, 111.25s/it]"
          ]
        },
        {
          "metadata": {
            "tags": null
          },
          "name": "stdout",
          "output_type": "stream",
          "text": [
            "--------------------------------------------- Result 80 ---------------------------------------------\n",
            "[[1 (71%)]] --> [[0 (51%)]]\n",
            "\n",
            "الكتاب كما يقال بالعامي دسم . تكوين المفكر ، كتاب يجد فيه المبتدئ قليلا من الصعوبة .لكنه منطقي واقعي .يورد أمثلة كثيرة حتى تتضح الفكرة التي يريدها ، الكتاب جميل ..اعتقد أني عندما قرأته للمرة الأولى وجدت صعوبة لو قرأته مرة أخرى سيكون أسهل وأوضح لما كان يقصده الكاتب \n",
            "\n",
            "الكتاب [[السابق]].كما يقال بالعامي دسم . تكوين المفكر ، كتاب يجد فيه المبتدئ قليلا من الصعوبة .لكنه منطقي واقعي .يورد أمثلة كثيرة حتى تتضح الفكرة التي يريدها ، الكتاب جميل ..اعتقد أني عندما قرأته للمرة الأولى وجدت صعوبة لو قرأته مرة أخرى سيكون أسهل وأوضح لما كان يقصده الكاتب \n",
            "\n",
            "\n"
          ]
        },
        {
          "metadata": {
            "tags": null
          },
          "name": "stderr",
          "output_type": "stream",
          "text": [
            "[Succeeded / Failed / Skipped / Total] 59 / 21 / 1 / 81:  81%|████████  | 81/100 [2:28:27<34:49, 109.97s/it]"
          ]
        },
        {
          "metadata": {
            "tags": null
          },
          "name": "stdout",
          "output_type": "stream",
          "text": [
            "--------------------------------------------- Result 81 ---------------------------------------------\n",
            "[[1 (71%)]] --> [[0 (58%)]]\n",
            "\n",
            "كل شي فيه حلو والفروع الجديدة اللي يفتحونا على ارقى مستوى انا زرت فرع [[بشارع]] المطاعم جميل جدا وسمعت انو فيه كم فرع [[حيفتح]] بالتوفيق [[للجميع]]\n",
            "\n",
            "كل شي فيه حلو والفروع الجديدة اللي يفتحونا على ارقى مستوى انا زرت فرع [[وشارع]] المطاعم جميل جدا وسمعت انو فيه كم فرع [[يفتحلي]] بالتوفيق [[للجيمع]]\n",
            "\n",
            "\n"
          ]
        },
        {
          "metadata": {
            "tags": null
          },
          "name": "stderr",
          "output_type": "stream",
          "text": [
            "[Succeeded / Failed / Skipped / Total] 60 / 21 / 1 / 82:  82%|████████▏ | 82/100 [2:28:33<32:36, 108.70s/it]"
          ]
        },
        {
          "metadata": {
            "tags": null
          },
          "name": "stdout",
          "output_type": "stream",
          "text": [
            "--------------------------------------------- Result 82 ---------------------------------------------\n",
            "[[1 (72%)]] --> [[0 (62%)]]\n",
            "\n",
            "أول [[صفحة]] من الكتاب شدتني لدرجة أنني لم أتوقف عن قرائتها حتى أثناء قيادة السيارة، ال الباقية لم تشدني وانخفضت جاذبية الكتاب، لكنه يظل ممتع إجمالا وبه ترشيحات لكتب جيدة، ليست الكتب وإنما الترشيحات،. [[عزيز]] نيسين هو أهم ما أخذته من الكتاب\n",
            "\n",
            "أول [[نقاش]]:[[الصفحة]] من الكتاب شدتني لدرجة أنني لم أتوقف عن قرائتها حتى أثناء قيادة السيارة، ال الباقية لم تشدني وانخفضت جاذبية الكتاب، لكنه يظل ممتع إجمالا وبه ترشيحات لكتب جيدة، ليست الكتب وإنما الترشيحات،. [[فعزيز]] نيسين هو أهم ما أخذته من الكتاب\n",
            "\n",
            "\n"
          ]
        },
        {
          "metadata": {
            "tags": null
          },
          "name": "stderr",
          "output_type": "stream",
          "text": [
            "[Succeeded / Failed / Skipped / Total] 61 / 21 / 1 / 83:  83%|████████▎ | 83/100 [2:29:24<30:36, 108.00s/it]"
          ]
        },
        {
          "metadata": {
            "tags": null
          },
          "name": "stdout",
          "output_type": "stream",
          "text": [
            "--------------------------------------------- Result 83 ---------------------------------------------\n",
            "[[1 (82%)]] --> [[0 (54%)]]\n",
            "\n",
            "[[جيد]]. الموقع [[والخدمة]] [[الالكترونية]] داخل الغرفه مثل [[التحكم]] بالمكيف [[والانوار]] [[والستارة]] [[عن]] [[طريق]] لوحة [[باللمس]] بجانب السرير ... الافطار [[ممتاز]] ومتنوع. المواقف ضيقه نوعا ما ... الموظفين [[كسولين]] نوعا ما\n",
            "\n",
            "[[سيء]]. الموقع [[الرعاية]] [[الالكترونيةشاطر]] داخل الغرفه مثل [[التحك]] بالمكيف [[والشموع]] [[والبياضات]] [[대하여]] [[مسلوك]] لوحة [[كابستيف]] بجانب السرير ... الافطار [[ممتااااااااااااز]] ومتنوع. المواقف ضيقه نوعا ما ... الموظفين [[حسودين]] نوعا ما\n",
            "\n",
            "\n"
          ]
        },
        {
          "metadata": {
            "tags": null
          },
          "name": "stderr",
          "output_type": "stream",
          "text": [
            "[Succeeded / Failed / Skipped / Total] 62 / 21 / 1 / 84:  84%|████████▍ | 84/100 [2:29:28<28:28, 106.77s/it]"
          ]
        },
        {
          "metadata": {
            "tags": null
          },
          "name": "stdout",
          "output_type": "stream",
          "text": [
            "--------------------------------------------- Result 84 ---------------------------------------------\n",
            "[[0 (59%)]] --> [[1 (53%)]]\n",
            "\n",
            "الامارات . الموقع جميل. هناك نقص في طاقم الاستقبال و طاقم التنظيف،وصلنا الساعه الظهر ولم نستلم الغرف حتى الساعه : مساء بسبب عدم اكتمال تنظيف الغرف ، هناك عنصريه في الفندق عند وصول الأجانب يتم استقبالهم و تسليمهم الغرف في نفس الوقت [[ولاكن]] ترى المواطنين مكدسين في استقبال الفندق لانتظار غرفهم\n",
            "\n",
            "الامارات . الموقع جميل. هناك نقص في طاقم الاستقبال و طاقم التنظيف،وصلنا الساعه الظهر ولم نستلم الغرف حتى الساعه : مساء بسبب عدم اكتمال تنظيف الغرف ، هناك عنصريه في الفندق عند وصول الأجانب يتم استقبالهم و تسليمهم الغرف في نفس الوقت [[وايضاء]] ترى المواطنين مكدسين في استقبال الفندق لانتظار غرفهم\n",
            "\n",
            "\n"
          ]
        },
        {
          "metadata": {
            "tags": null
          },
          "name": "stderr",
          "output_type": "stream",
          "text": [
            "[Succeeded / Failed / Skipped / Total] 63 / 21 / 1 / 85:  85%|████████▌ | 85/100 [2:30:32<26:34, 106.27s/it]"
          ]
        },
        {
          "metadata": {
            "tags": null
          },
          "name": "stdout",
          "output_type": "stream",
          "text": [
            "--------------------------------------------- Result 85 ---------------------------------------------\n",
            "[[0 (88%)]] --> [[1 (53%)]]\n",
            "\n",
            "كنت [[أتوقع]] [[أن]] يكون الكتاب [[أجمل]] وأمتع، الكاتب لديه حس قصصي جميل، لكن طريقة طرح [[القصص]] فيه نوع تفصيل دون كبير تشويق، ففي [[الغالب]] القصة عاديه [[لكن]] التهويل القصصي المبالغ [[فيه]] أفقد [[القصص]] سلاستها. [[أظن]] أن الكاتب [[لديه]] قدرة على انتاج [[مادة]] أجمل وأرقى ولكن [[لعله]] استعجل في إخراج هذا الكتاب\n",
            "\n",
            "كنت [[أتمني]] [[نزع_الحب]] يكون الكتاب [[لأجمل]] وأمتع، الكاتب لديه حس قصصي جميل، لكن طريقة طرح [[القصصه]] فيه نوع تفصيل دون كبير تشويق، ففي [[تكون]] القصة عاديه [[تماماولكن]] التهويل القصصي المبالغ [[فيهاكل]] أفقد [[الحكايات]] سلاستها. [[يبدو]] أن الكاتب [[لديهمـ]] قدرة على انتاج [[مادتى]] أجمل وأرقى ولكن [[يجعله]] استعجل في إخراج هذا الكتاب\n",
            "\n",
            "\n"
          ]
        },
        {
          "metadata": {
            "tags": null
          },
          "name": "stderr",
          "output_type": "stream",
          "text": [
            "[Succeeded / Failed / Skipped / Total] 64 / 21 / 1 / 86:  86%|████████▌ | 86/100 [2:36:01<25:23, 108.86s/it]"
          ]
        },
        {
          "metadata": {
            "tags": null
          },
          "name": "stdout",
          "output_type": "stream",
          "text": [
            "--------------------------------------------- Result 86 ---------------------------------------------\n",
            "[[1 (78%)]] --> [[0 (50%)]]\n",
            "\n",
            "[[للمره]] الثانية اقرأ هذا [[الكتاب]] .. حاولت أجد عزائي [[في]] اشياء صغيرة و تفاصيل كلنت تسعدنا قديما لكن هيهات .. شاخت نفسي [[غن]] مثل تلك الاشياء .. و كعادتي اجد عزائي في كلمات عبد الوهاب مطاوع. . لكن هذه المبادئ و المثل التي تحكي عنها [[و]] التي كبرت في داخلي الي حد الاقتناع اجدها غير متحققة وان الواقع مختلف و بعيد كل البعد عنها وان ما تذكره هو الاستثناء بعينه .. ولا يوجد استثناء .. كل مره نصل الي نفس منعطف الطريق و نتمني ان تكون القاضية .. [[ولكنها]] لا تكن.. لعها محاولات مني في الاحتفاظ بشئ من بقايا الخطوط عسي ان تجدد [[و]] تنمو و [[تقوي]] كما كانت من قبل\n",
            "\n",
            "[[النقطه]] الثانية اقرأ هذا [[الكتابهذا]] .. حاولت أجد عزائي🌟 اشياء صغيرة و تفاصيل كلنت تسعدنا قديما لكن هيهات .. شاخت نفسي [[ثي]] مثل تلك الاشياء .. و كعادتي اجد عزائي في كلمات عبد الوهاب مطاوع. . لكن هذه المبادئ و المثل التي تحكي عنها [[لق]]ِ[[ص]]ٌ[[ص]] التي كبرت في داخلي الي حد الاقتناع اجدها غير متحققة وان الواقع مختلف و بعيد كل البعد عنها وان ما تذكره هو الاستثناء بعينه .. ولا يوجد استثناء .. كل مره نصل الي نفس منعطف الطريق و نتمني ان تكون القاضية .. [[وهى]] لا تكن.. لعها محاولات مني في الاحتفاظ بشئ من بقايا الخطوط عسي ان تجدد [[لـهـ]]ُ[[م]] تنمو و [[تضعفه]] كما كانت من قبل\n",
            "\n",
            "\n"
          ]
        },
        {
          "metadata": {
            "tags": null
          },
          "name": "stderr",
          "output_type": "stream",
          "text": [
            "[Succeeded / Failed / Skipped / Total] 65 / 21 / 1 / 87:  87%|████████▋ | 87/100 [2:36:09<23:20, 107.70s/it]"
          ]
        },
        {
          "metadata": {
            "tags": null
          },
          "name": "stdout",
          "output_type": "stream",
          "text": [
            "--------------------------------------------- Result 87 ---------------------------------------------\n",
            "[[0 (67%)]] --> [[1 (51%)]]\n",
            "\n",
            "الفكرة الاساسية رائعة فلا أحد يحلم أن يجد وظيفة براتب جيد لممارسة هواياته عدا ذلك. فهو من أسوأ ما قرأت. منذ بداية الكتاب وانا اعد الصفحات عدا تنازليا لاصبر نفسي انني قد اقتربت من النهاية. ذكر الكاتب تفاصيل الاشياء بصورة مملة والاحرى ان يترك مسافة لخيال القارئ. كل ما كتب في هذا الكتاب هو وصف تفاصيل التفاصيل للاماكن. اضف لذلك ان اللغة التي كتب بها سيئة والتشبيهات. اسوأ، لا [[ادري]] هل ذلك من الترجمة ام النص الاصلي بتلك الفظاعة ايضا. لا [[توجد]] قصة في الكتاب او رسالة واضحة او اي شيئ مفيد\n",
            "\n",
            "الفكرة الاساسية رائعة فلا أحد يحلم أن يجد وظيفة براتب جيد لممارسة هواياته عدا ذلك. فهو من أسوأ ما قرأت. منذ بداية الكتاب وانا اعد الصفحات عدا تنازليا لاصبر نفسي انني قد اقتربت من النهاية. ذكر الكاتب تفاصيل الاشياء بصورة مملة والاحرى ان يترك مسافة لخيال القارئ. كل ما كتب في هذا الكتاب هو وصف تفاصيل التفاصيل للاماكن. اضف لذلك ان اللغة التي كتب بها سيئة والتشبيهات. اسوأ، لا [[شقولك]] هل ذلك من الترجمة ام النص الاصلي بتلك الفظاعة ايضا. لا [[توجود]] قصة في الكتاب او رسالة واضحة او اي شيئ مفيد\n",
            "\n",
            "\n"
          ]
        },
        {
          "metadata": {
            "tags": null
          },
          "name": "stderr",
          "output_type": "stream",
          "text": [
            "[Succeeded / Failed / Skipped / Total] 66 / 21 / 1 / 88:  88%|████████▊ | 88/100 [2:36:34<21:21, 106.75s/it]"
          ]
        },
        {
          "metadata": {
            "tags": null
          },
          "name": "stdout",
          "output_type": "stream",
          "text": [
            "--------------------------------------------- Result 88 ---------------------------------------------\n",
            "[[1 (77%)]] --> [[0 (70%)]]\n",
            "\n",
            "إحترت جدا في التقييم ، [[من]] ناحية اللغة فبلا شك احلام [[سيدة]] اللغة .. و من ناحية القصة بشكل عام فهي مربكة .. مملة .. غريبة .. مثيرة للفضول ، شعرت بكثير من التناقض بين صفحاتها حتى لا ادري ما رأيي بها ككل ، و كقصة حب فحياة مثيرة للشفقة أكره رحلات البحث عن الحب بهذه الطريقه الرخيصة، [[و]] وضعه في كتاب شئ مثير للشفقه ايضا .. لكن الرواية بشكل عام بكل تفاصيلها السياسية و [[المشاعر]] المختلفه و الحبكة العابرة فهي [[تستحق]] الأربع نجوم [[بتردد]]\n",
            "\n",
            "إحترت جدا في التقييم ، [[D9]] ناحية اللغة فبلا شك احلام [[ابنة]] اللغة .. و من ناحية القصة بشكل عام فهي مربكة .. مملة .. غريبة .. مثيرة للفضول ، شعرت بكثير من التناقض بين صفحاتها حتى لا ادري ما رأيي بها ككل ، و كقصة حب فحياة مثيرة للشفقة أكره رحلات البحث عن الحب بهذه الطريقه الرخيصة، [[ةو]] وضعه في كتاب شئ مثير للشفقه ايضا .. لكن الرواية بشكل عام بكل تفاصيلها السياسية و [[فالمشاعر]] المختلفه و الحبكة العابرة فهي [[لايستحق]] الأربع نجوم [[ترددها]]\n",
            "\n",
            "\n"
          ]
        },
        {
          "metadata": {
            "tags": null
          },
          "name": "stderr",
          "output_type": "stream",
          "text": [
            "[Succeeded / Failed / Skipped / Total] 67 / 21 / 1 / 89:  89%|████████▉ | 89/100 [2:36:41<19:21, 105.63s/it]"
          ]
        },
        {
          "metadata": {
            "tags": null
          },
          "name": "stdout",
          "output_type": "stream",
          "text": [
            "--------------------------------------------- Result 89 ---------------------------------------------\n",
            "[[0 (73%)]] --> [[1 (56%)]]\n",
            "\n",
            "تتركه القصة ، [[ثانيا]] روعة اللغة و الدهشة التى يتركنى فيها جمالها.. الأثر لم أجده سوى فى بعضهم و لم يكن أثرا قويا، و اللغة [[عادية]] للغاية. هناك قصص مترجمة لغتها أبهرتنى أكثر\n",
            "\n",
            "تتركه القصة ، [[تاسعا]] روعة اللغة و الدهشة التى يتركنى فيها جمالها.. الأثر لم أجده سوى فى بعضهم و لم يكن أثرا قويا، و اللغة [[مرضية]] للغاية. هناك قصص مترجمة لغتها أبهرتنى أكثر\n",
            "\n",
            "\n"
          ]
        },
        {
          "metadata": {
            "tags": null
          },
          "name": "stderr",
          "output_type": "stream",
          "text": [
            "[Succeeded / Failed / Skipped / Total] 68 / 21 / 1 / 90:  90%|█████████ | 90/100 [2:37:36<17:30, 105.08s/it]"
          ]
        },
        {
          "metadata": {
            "tags": null
          },
          "name": "stdout",
          "output_type": "stream",
          "text": [
            "--------------------------------------------- Result 90 ---------------------------------------------\n",
            "[[1 (80%)]] --> [[0 (51%)]]\n",
            "\n",
            "[[طمأنينه]] للذين لديهم ابناء . [[حسن]] [[الاستقبال]] والضيافةالتعاون والتساهل [[من]] قبل الاستقبالالتعاون والابتسامة من قبل الروم سبرفسملاصق لمول الامارات وبالتالي يجعل لديك طمأنينه للذين لديهم ابناءتواجد جميع [[احتياجاتك]] دون عناء. وجود صيانه في الفندق مما [[يسبب]] لك بعض الازعاج من وقت لأخر لكن [[لا]] يمنع من [[الراحة]] العامة\n",
            "\n",
            "[[واطمئنانه]] للذين لديهم ابناء . [[إكتسب_القوة_أو_الصلاحية]] [[والاستقبال]] والضيافةالتعاون والتساهل [[منه4]] قبل الاستقبالالتعاون والابتسامة من قبل الروم سبرفسملاصق لمول الامارات وبالتالي يجعل لديك طمأنينه للذين لديهم ابناءتواجد جميع [[مصروفاتك]] دون عناء. وجود صيانه في الفندق مما [[يسببلك]] لكِ[[ـ]] بعض الازعاج من وقت لأخر لكن [[مرةلا]] يمنع من [[والراحه]] العامة\n",
            "\n",
            "\n"
          ]
        },
        {
          "metadata": {
            "tags": null
          },
          "name": "stderr",
          "output_type": "stream",
          "text": [
            "[Succeeded / Failed / Skipped / Total] 68 / 22 / 1 / 91:  91%|█████████ | 91/100 [2:48:09<16:37, 110.88s/it]"
          ]
        },
        {
          "metadata": {
            "tags": null
          },
          "name": "stdout",
          "output_type": "stream",
          "text": [
            "--------------------------------------------- Result 91 ---------------------------------------------\n",
            "[[1 (88%)]] --> [[[FAILED]]]\n",
            "\n",
            "شوف ... اتألم ... اقبل. .. سامح نفسك والآخرين ... ابدأ من جديد. فالحب الحقيقي هو أنت. والشفاء الحقيقي لا يأتي إلا من داخلك . الكتاب يشرح المعاني النفسية الدقيقة بأسلوب مبسط جدا وبالعامية المصرية. لتصل للقارئ بسهولة ويسر. أنصح بقراءة هذا الكتاب بشدة ليس فقط لمن يعاني من مرض نفسي ولكن لكل إنسان يسعى للوصول إلى النضوج والوعي النفسي. والحقيقة أننا جميعا نحتاج لرحلة صادقة مع النفس تحت ارشاد متخصصين في المجال النفسي وبواسطة كتب توصل المعاني النفسية العميقة بسهولة كهذا الكتاب الرائع\n",
            "\n",
            "\n"
          ]
        },
        {
          "metadata": {
            "tags": null
          },
          "name": "stderr",
          "output_type": "stream",
          "text": [
            "[Succeeded / Failed / Skipped / Total] 68 / 23 / 1 / 92:  92%|█████████▏| 92/100 [2:48:35<14:39, 109.95s/it]"
          ]
        },
        {
          "metadata": {
            "tags": null
          },
          "name": "stdout",
          "output_type": "stream",
          "text": [
            "--------------------------------------------- Result 92 ---------------------------------------------\n",
            "[[1 (90%)]] --> [[[FAILED]]]\n",
            "\n",
            "ابوظبي غير . الجو العام للفندق فخم وبسيط ومريح\n",
            "\n",
            "\n"
          ]
        },
        {
          "metadata": {
            "tags": null
          },
          "name": "stderr",
          "output_type": "stream",
          "text": [
            "[Succeeded / Failed / Skipped / Total] 69 / 23 / 1 / 93:  93%|█████████▎| 93/100 [2:49:03<12:43, 109.07s/it]"
          ]
        },
        {
          "metadata": {
            "tags": null
          },
          "name": "stdout",
          "output_type": "stream",
          "text": [
            "--------------------------------------------- Result 93 ---------------------------------------------\n",
            "[[0 (89%)]] --> [[1 (64%)]]\n",
            "\n",
            "[[لم]] أحب الكتاب [[كثيرا]] لأنه [[بدا]] لي فقط تجميعا للأحاديث التي تحدثت عن الصلاة المعروفة غالبا ولم يضف فيه الدكتور فريد الأنصاري من [[لمسته]] وأسلوبه إلا نادرا وقد ذكر ذلك [[في]] مقدمة الكتاب\n",
            "\n",
            "[[يلد]]ْ أحب الكتاب [[قليلا]] لأنه [[رن]] لي فقط تجميعا للأحاديث التي تحدثت عن الصلاة المعروفة غالبا ولم يضف فيه الدكتور فريد الأنصاري من [[سكبته]] وأسلوبه إلا نادرا وقد ذكر ذلك.[[ثالثا]]ً [[بیش]] مقدمة الكتاب\n",
            "\n",
            "\n"
          ]
        },
        {
          "metadata": {
            "tags": null
          },
          "name": "stderr",
          "output_type": "stream",
          "text": [
            "[Succeeded / Failed / Skipped / Total] 70 / 23 / 1 / 94:  94%|█████████▍| 94/100 [2:57:25<11:19, 113.25s/it]"
          ]
        },
        {
          "metadata": {
            "tags": null
          },
          "name": "stdout",
          "output_type": "stream",
          "text": [
            "--------------------------------------------- Result 94 ---------------------------------------------\n",
            "[[0 (77%)]] --> [[1 (61%)]]\n",
            "\n",
            "لن اكرر الإقامة في هذا الفندق انا وجميع افراد عائلتي . وجود مصلى كبير للرجال والنساء مطل على الحرم مجهز بعدد كبير من دورات المياه والنظافه وكل مايحتاجه المصلون فقط الوحيد الذي ترك بصمة جميلة في اقامتى مدير الروم سيرفس الأستاذ القدير اسلام شحاته الذي [[اهتم]] بي [[وتواصل]] معي حتى قبيل مغادرتي الفندق فجزاه الله كل خير اخلاق الموظفين ضيقة جدا وازعاج للضيف عند المغادره بكثرة الإحاطة بالمغادره وسرعتها يظهر ان موقع الفندق جعل الجميع [[لايهتم]] بالتعامل مع الضيف لأن الفندق مليان ولايهمهم رضيت ام لا فغيرك سيأتي يحتاجون الى دورات في كيفية ادارة فنادق نجومبإختصار هذا مرفق حكومي وليس فندق. عدم استجابة موظفي الفندق لطلباتنا فمجرد اغلاق السماعه ينسون طلبك تماما يعدون ولايفون وعلى رأسهم مدير الفندق الذي طلبت التواصل معه بخصوص بعض الأمور ووعدني ان يتصل بي لحلها ولم يتصل بل [[ولم]] يرد على كل محاولاتي للتواصل معه خدمات النت في الفندق سيئة جدا وكذلك القنوات التلفزيونيه وبصراحة عندما غادرنا الفندق عدنا الى الحياة [[من]] جديد\n",
            "\n",
            "لن اكرر الإقامة في هذا الفندق انا وجميع افراد عائلتي . وجود مصلى كبير للرجال والنساء مطل على الحرم مجهز بعدد كبير من دورات المياه والنظافه وكل مايحتاجه المصلون فقط الوحيد الذي ترك بصمة جميلة في اقامتى مدير الروم سيرفس الأستاذ القدير اسلام شحاته الذي [[أحدث_أثرا]] بي [[وتراسل]] معي حتى قبيل مغادرتي الفندق فجزاه الله كل خير اخلاق الموظفين ضيقة جدا وازعاج للضيف عند المغادره بكثرة الإحاطة بالمغادره وسرعتها يظهر ان موقع الفندق جعل الجميع [[وسيهتم]] بالتعامل مع الضيف لأن الفندق مليان ولايهمهم رضيت ام لا فغيرك سيأتي يحتاجون الى دورات في كيفية ادارة فنادق نجومبإختصار هذا مرفق حكومي وليس فندق. عدم استجابة موظفي الفندق لطلباتنا فمجرد اغلاق السماعه ينسون طلبك تماما يعدون ولايفون وعلى رأسهم مدير الفندق الذي طلبت التواصل معه بخصوص بعض الأمور ووعدني ان يتصل بي لحلها ولم يتصل بل [[فمالم]] يرد على كل محاولاتي للتواصل معه خدمات النت في الفندق.[[توفر]] سيئة جدا وكذلك القنوات التلفزيونيه وبصراحة عندما غادرنا الفندق عدنا الى الحياة [[rebhee]] جديد\n",
            "\n",
            "\n"
          ]
        },
        {
          "metadata": {
            "tags": null
          },
          "name": "stderr",
          "output_type": "stream",
          "text": [
            "[Succeeded / Failed / Skipped / Total] 70 / 24 / 1 / 95:  95%|█████████▌| 95/100 [3:06:43<09:49, 117.93s/it]"
          ]
        },
        {
          "metadata": {
            "tags": null
          },
          "name": "stdout",
          "output_type": "stream",
          "text": [
            "--------------------------------------------- Result 95 ---------------------------------------------\n",
            "[[1 (78%)]] --> [[[FAILED]]]\n",
            "\n",
            "هذه مراجعة ربما بدت فوضوية..لكن الرواية تركت أفكاري مشتتة ومبعثرة..فاعذروني. مافائدة الروابط إذا لم تتآلف الأرواح . الحياة ليست إلا مقامرة تلعب لمرة واحدة،وأنا خسرتها .ليس لي أن ألعب جولة أخرى . الناس لا يحتاجون للدعم المالي والمادي من بعضهم ، بل للحب والاهتمام. كل إنسان يكفيه إنسان واحد على كل حال..لكن عندما لا يكون هذا الإنسان موجودا ... في هذا المساء فهمت أن الإنسان قد يرتبط بإنسان آخر أكثر من ارتباطه بالحياة. هل يمكن للحياة أن تكون قاسية بهذه الطريقة؟. أن يعيش المرء حياته كلها و لا يحيا منها إلا خمسة أشهر قصيرة ؟ ... كيف يمكن لهذه القسوة أن تنعكس على روح الإنسان فتجعله يقسوعلى نفسه هكذا. ويتوقف عن الحياة ويمنع قلبه من العطاء والمحبة عقوبةلها على ذنب لم ترتكبه. أعجز عن التعبير عما شعرته تجاه هذه الرواية العظيمة..تحفة أدبية فلسفية استطاعت الغوص حتى العمق في النفس البشرية وتحليلها ورسم الشخصيات بواقعية كبيرة. اكتفيت ببعض الاقتباسات من الرواية ولا أستطيع قول المزيد عن رواية جديدة من القلة التي لامست شغاف قلبي وحركت بحيرة روحي الساكنة ،فقذفت فيهاحجر الألم والحزن و حركت دوائر الذكرى فيها لتطفو على السطح خيبات وخيبات. مادونا الرقيقة..مادونا و روحها الشفافة ورائف الذي استطاع الحفاظ عليها من الألم..لم يستطع حماية روحه منه\n",
            "\n",
            "\n"
          ]
        },
        {
          "metadata": {
            "tags": null
          },
          "name": "stderr",
          "output_type": "stream",
          "text": [
            "[Succeeded / Failed / Skipped / Total] 71 / 24 / 1 / 96:  96%|█████████▌| 96/100 [3:06:47<07:46, 116.74s/it]"
          ]
        },
        {
          "metadata": {
            "tags": null
          },
          "name": "stdout",
          "output_type": "stream",
          "text": [
            "--------------------------------------------- Result 96 ---------------------------------------------\n",
            "[[0 (60%)]] --> [[1 (59%)]]\n",
            "\n",
            "كتاب يحتوى على حكم متنوعة [[ومختلفة]] ، وبلا شك فإتها مفيدة بشكل كبيير. ولكنى شعرت بالملل أثناء قرآءتى لهذا الكتاب ،وإن كانت هذه ليست التجربة الأولى لى مع المؤلف والكاتب. ولكن الكتاب هو دون المستوى المطلوب ،وفيه بعض التكرار لبعض الحكم. ولذلك قررت أن أقرأ كتاب جدد حياتك وذلك على أمل ويقين بإنى سوف أجده أفضل فى الطرح والأسلوب من هذا الكتاب\n",
            "\n",
            "كتاب يحتوى على حكم متنوعة [[متباينة]] ، وبلا شك فإتها مفيدة بشكل كبيير. ولكنى شعرت بالملل أثناء قرآءتى لهذا الكتاب ،وإن كانت هذه ليست التجربة الأولى لى مع المؤلف والكاتب. ولكن الكتاب هو دون المستوى المطلوب ،وفيه بعض التكرار لبعض الحكم. ولذلك قررت أن أقرأ كتاب جدد حياتك وذلك على أمل ويقين بإنى سوف أجده أفضل فى الطرح والأسلوب من هذا الكتاب\n",
            "\n",
            "\n"
          ]
        },
        {
          "metadata": {
            "tags": null
          },
          "name": "stderr",
          "output_type": "stream",
          "text": [
            "[Succeeded / Failed / Skipped / Total] 72 / 24 / 1 / 97:  97%|█████████▋| 97/100 [3:07:01<05:47, 115.69s/it]"
          ]
        },
        {
          "metadata": {
            "tags": null
          },
          "name": "stdout",
          "output_type": "stream",
          "text": [
            "--------------------------------------------- Result 97 ---------------------------------------------\n",
            "[[0 (75%)]] --> [[1 (56%)]]\n",
            "\n",
            "لم استطع اكمالها بالرغم من قصرها [[ولكن]] [[طريقة]] لقاء البطلين التقليدية في المقهى اصابتني بخيبة امل ، ربما هي ممتازة ولكن بالنسبة لي ان لم [[اجد]] شيئا مميزا وفريدا فلن تشد انتباهي الرواية.كذلك بقية [[الاحداث]] التي جاءت فيما بعد لم تكن ممتعة بما فيه الكفاية. الشيء الوحيد الذي اثار اعجابي كان وصف الكاتب لأريتيريا. [[وبالمناسبة]] النجمة كانت للغلاف \n",
            "\n",
            "لم استطع اكمالها بالرغم من قصرها [[ولذا]] [[بسيطةطريقة]] لقاء البطلين التقليدية في المقهى اصابتني بخيبة امل ، ربما هي ممتازة ولكن بالنسبة لي ان لم [[لاارى]] شيئا مميزا وفريدا فلن تشد انتباهي الرواية.كذلك بقية [[فالأحداث]] التي جاءت فيما بعد لم تكن ممتعة بما فيه الكفاية. الشيء الوحيد الذي اثار اعجابي كان وصف الكاتب لأريتيريا. [[كتبتQuote]] النجمة كانت للغلاف \n",
            "\n",
            "\n"
          ]
        },
        {
          "output_type": "stream",
          "name": "stderr",
          "text": [
            "[Succeeded / Failed / Skipped / Total] 72 / 25 / 1 / 98:  98%|█████████▊| 98/100 [3:34:17<04:22, 131.20s/it]"
          ]
        },
        {
          "output_type": "stream",
          "name": "stdout",
          "text": [
            "--------------------------------------------- Result 98 ---------------------------------------------\n",
            "[[0 (75%)]] --> [[[FAILED]]]\n",
            "\n",
            "أحمد الشقيري في كتابه رحلتي مع غاندي. لم يحاول إخفاء حقيقته و لم يسعى لتلميع شخصه أو إسمه بخلاف الكثير من الكتاب. فهو يسرد نقاط ضعفه بكل أريحية مقرونة ببعض السبل التي انتهجها بدوره في محاولة جادة لإصلاح نفسه. بداية الكتاب يتكون حقيقة من كتابين. أو من قسمين. يجمعهما بلاد الهند و الكاتب. فالقسم الأول يسرد حكم و مقولات لرجل من عظماء الهند مهاتما غاندي و تعليق المؤلف عليه و محاولة إسقاط حكمه و تأصيلها بالمواقف و الأحاديث النبوية. و القسم الثاني هو عبارة عن رحلة المؤلف لبلاد الهند و تجربته الخاصة هناك التي أحب أن يشارك القراء بها. في البداية الكتاب يحوي العديد من التأملات و الحكم الراقية التي خلص لها الكاتب بعد رحلته و قراءته لعدة كتب في الحكمة بحسب ما ذكر. و يمكننا أن نلمس فيه نبض الإنسان المتحرق على أمته و نفسه. لكن يجب علينا ألا نغفل بعض النقاط السلبية التي تعيب الكتاب و أزعجتني شخصيا. أولها. هو رداءة الترجمة لحكم غاندي المذكورة في القسم الأول من الكتاب. و التي تشعر مع كل كلمة تخطوها في قراءة الحكمة أنك تحاول القفز من مجرة لأخرى لتجد نفسك في كثير من الأحيان معلقا في كوكب اللافهم . النقطة الثانية. هو الإكثار من العبارات العامية في سياق الحديث. قد يعترض علي البعض فيقول :. لكنه موجها للشباب و هو يكتب بأبسط الأساليب . فأقول نعم أنا مع سهولة الأسلوب و اللفظ لكنني أرفض العامية. فالكتاب هو وعاء للفكر و الأدب. و علينا أن ننتقي أفضل ما لدينا لملئ هذا الوعاء و إلا فقد قيمته . و هناك الكثير من الكتب الشبابية إن صح التعبير نجحت و لاقت صداها عند جمهور غفير من القراء الشباب مع أنها مكتوبة بلغة قوية و أسلوب أدبي رصين . فالعامية ليست حجة لأحد. و بالنهاية. أظن لو أن الكاتب تأنى على كتابه أكثر من ذلك لخرج بقيمة لغوية و علمية أكبر. لكنه طبخه على عجل و قد يلاحظ أي قارئ مبتدئ ذلك . و قد اعتبر الشقيري أن انهائه لكتابه في أيام إنجازا . بينما أعتبره إجحافا لأنه لو تأنى عليه أكثر لخرج بصورة أقوى بكثيير كما أسلفت. و هنا أتساءل بدوري هل المال و الشهرة تصنع كل شيء ؟؟ . لأنني متأكد مليار بالمئة لو جاء أحدنا بكتاب الشقيري كما هو لأحد الناشرين و طلب أن ينشره له. لجاء الجواب بالرفض المطلق و لربما التقط الناشر أوراق الكتاب و رماها في وجهنا . و هنا نأتي لبيت القصيد و السؤال الهام. على أي أساس ينشر الناشرون الكتب ؟؟ و لماذا يجوز للمشاهير ما لا يجوز لغيرهم من العامية في الكتابة وعدم الإتيان بشيء جديد ؟؟ . و لماذا يجب أن يكون كل محاضر ناجح أو مفكر بارز كاتبا ناجحا ؟؟. فليس كل من حاضر بكاتب و ليس كل من أجاد بدعوته إلى الله بكاتب . بل ليس كل من كتب بكاتب . فلماذا إذا نصفق و نطبل لأي كتاب يصدر لأحد المشاهير و إن كان مثقلا بالركاكة و الأفكار الإعتيادية ؟ . لا أعلم هل هو مرض خاص بأمتنا أم أنه مستشري في جميع الامم. و أخير أحب أن أنوه أن كل ما ذكرته غير منطلق من كره لشخص الكاتب أو أفكاره. فالشقيري تمكن و بجدارة من صنع شيئا مختلفا بالفعل في مجال الإعلام الهادف و الخاطرة الفكرية النقادة. و لكنني هنا أتحدث عن الكتابة و ليس الإعلام . و أختم بهذا المثال البسيط. نجاح الطبيب في الجراحة لا يخوله بناء عمارة أو حتى إصلاح سيارة . فلكل مقام مقاله. و الله أعلم\n",
            "\n",
            "\n"
          ]
        },
        {
          "output_type": "stream",
          "name": "stderr",
          "text": [
            "[Succeeded / Failed / Skipped / Total] 73 / 25 / 1 / 99:  99%|█████████▉| 99/100 [3:34:52<02:10, 130.23s/it]"
          ]
        },
        {
          "output_type": "stream",
          "name": "stdout",
          "text": [
            "--------------------------------------------- Result 99 ---------------------------------------------\n",
            "[[0 (84%)]] --> [[1 (54%)]]\n",
            "\n",
            "[[نعم]] [[انها]] [[من]] الكتب العادية جدا [[رغم]] طابعها [[المضحك]] الاهم من ذلك انني [[لم]] اتكلف عناء [[شرائها]] او قرائتها فقط سمعتها [[لمدة]] ساعتين او اكثر وانا اؤدي [[بعض]] الاعمال الاخرى احببت جدا تجربة الكتب المسموعة لكن [[الكتاب]] كان [[لابأس]] به\n",
            "\n",
            "[[حسن]] [[اانها]] [[rida21]] الكتب العادية جدا [[وعلىالرغم]] طابعها [[المدهش]] الاهم من ذلك انني [[تعد]]ْ اتكلف عناء [[وشراءها]] او قرائتها فقط سمعتها [[لمد]]َّ[[ة]] ساعتين او اكثر وانا اؤدي [[لكثير]] الاعمال الاخرى احببت جدا تجربة الكتب المسموعة لكن [[لكتاب]] كان [[جدا]]ً به\n",
            "\n",
            "\n"
          ]
        },
        {
          "output_type": "stream",
          "name": "stderr",
          "text": [
            "[Succeeded / Failed / Skipped / Total] 74 / 25 / 1 / 100: 100%|██████████| 100/100 [3:34:59<00:00, 129.00s/it]"
          ]
        },
        {
          "output_type": "stream",
          "name": "stdout",
          "text": [
            "--------------------------------------------- Result 100 ---------------------------------------------\n",
            "[[1 (77%)]] --> [[0 (62%)]]\n",
            "\n",
            "مع [[مهل]] عشت الحزن والفرح وبالرغم من ان الحزن سيطر على اغلب اجواء الرواية إلا انني استمتعت جدا بقراءتها ... اسلوب الكاتب بسيط وسلس مما جعلني انهيها في جلستين تقريبا ... ومع ان النهاية لم تكن تلك التى اطمح ان تكون [[إلا]] ان الرواية حركت بداخلي اشياء كثيرة\n",
            "\n",
            "مع [[ماخي]] عشت الحزن والفرح وبالرغم من ان الحزن سيطر على اغلب اجواء الرواية إلا انني استمتعت جدا بقراءتها ... اسلوب الكاتب بسيط وسلس مما جعلني انهيها في جلستين تقريبا ... ومع ان النهاية لم تكن تلك التى اطمح ان تكون [[سوى]] ان الرواية حركت بداخلي اشياء كثيرة\n",
            "\n",
            "\n",
            "\n",
            "+-------------------------------+---------+\n",
            "| Attack Results                |         |\n",
            "+-------------------------------+---------+\n",
            "| Number of successful attacks: | 74      |\n",
            "| Number of failed attacks:     | 25      |\n",
            "| Number of skipped attacks:    | 1       |\n",
            "| Original accuracy:            | 99.0%   |\n",
            "| Accuracy under attack:        | 25.0%   |\n",
            "| Attack success rate:          | 74.75%  |\n",
            "| Average perturbed word %:     | 28.11%  |\n",
            "| Average num. words per input: | 61.25   |\n",
            "| Avg num queries:              | 2716.65 |\n",
            "+-------------------------------+---------+\n"
          ]
        },
        {
          "output_type": "stream",
          "name": "stderr",
          "text": [
            "\n"
          ]
        },
        {
          "output_type": "execute_result",
          "data": {
            "text/plain": [
              "[<textattack.attack_results.failed_attack_result.FailedAttackResult at 0x7c2b80275d50>,\n",
              " <textattack.attack_results.successful_attack_result.SuccessfulAttackResult at 0x7c29ba15ab90>,\n",
              " <textattack.attack_results.successful_attack_result.SuccessfulAttackResult at 0x7c2b881bc590>,\n",
              " <textattack.attack_results.failed_attack_result.FailedAttackResult at 0x7c2a62046710>,\n",
              " <textattack.attack_results.failed_attack_result.FailedAttackResult at 0x7c29b6b13590>,\n",
              " <textattack.attack_results.failed_attack_result.FailedAttackResult at 0x7c29b65917d0>,\n",
              " <textattack.attack_results.successful_attack_result.SuccessfulAttackResult at 0x7c2a62051690>,\n",
              " <textattack.attack_results.successful_attack_result.SuccessfulAttackResult at 0x7c2b82785890>,\n",
              " <textattack.attack_results.successful_attack_result.SuccessfulAttackResult at 0x7c2abf7f3b90>,\n",
              " <textattack.attack_results.successful_attack_result.SuccessfulAttackResult at 0x7c29ba17c610>,\n",
              " <textattack.attack_results.failed_attack_result.FailedAttackResult at 0x7c2b8239d6d0>,\n",
              " <textattack.attack_results.successful_attack_result.SuccessfulAttackResult at 0x7c2a62011dd0>,\n",
              " <textattack.attack_results.successful_attack_result.SuccessfulAttackResult at 0x7c2b86f14090>,\n",
              " <textattack.attack_results.skipped_attack_result.SkippedAttackResult at 0x7c29b6e3ddd0>,\n",
              " <textattack.attack_results.failed_attack_result.FailedAttackResult at 0x7c29b63b9f10>,\n",
              " <textattack.attack_results.successful_attack_result.SuccessfulAttackResult at 0x7c29b63b9a50>,\n",
              " <textattack.attack_results.failed_attack_result.FailedAttackResult at 0x7c2abf7e9490>,\n",
              " <textattack.attack_results.successful_attack_result.SuccessfulAttackResult at 0x7c2ac0386990>,\n",
              " <textattack.attack_results.successful_attack_result.SuccessfulAttackResult at 0x7c29ba03a3d0>,\n",
              " <textattack.attack_results.successful_attack_result.SuccessfulAttackResult at 0x7c2d082b1050>,\n",
              " <textattack.attack_results.successful_attack_result.SuccessfulAttackResult at 0x7c2991d54290>,\n",
              " <textattack.attack_results.successful_attack_result.SuccessfulAttackResult at 0x7c29b6ec3850>,\n",
              " <textattack.attack_results.successful_attack_result.SuccessfulAttackResult at 0x7c2a6206b490>,\n",
              " <textattack.attack_results.failed_attack_result.FailedAttackResult at 0x7c29b71c5a50>,\n",
              " <textattack.attack_results.successful_attack_result.SuccessfulAttackResult at 0x7c29b693b510>,\n",
              " <textattack.attack_results.successful_attack_result.SuccessfulAttackResult at 0x7c29b6c63590>,\n",
              " <textattack.attack_results.failed_attack_result.FailedAttackResult at 0x7c2a622d7510>,\n",
              " <textattack.attack_results.successful_attack_result.SuccessfulAttackResult at 0x7c29b69ecf10>,\n",
              " <textattack.attack_results.successful_attack_result.SuccessfulAttackResult at 0x7c29ba2256d0>,\n",
              " <textattack.attack_results.failed_attack_result.FailedAttackResult at 0x7c2991d64450>,\n",
              " <textattack.attack_results.successful_attack_result.SuccessfulAttackResult at 0x7c2a63f73050>,\n",
              " <textattack.attack_results.successful_attack_result.SuccessfulAttackResult at 0x7c2b817ee990>,\n",
              " <textattack.attack_results.successful_attack_result.SuccessfulAttackResult at 0x7c2b9747ec90>,\n",
              " <textattack.attack_results.failed_attack_result.FailedAttackResult at 0x7c2b817eed10>,\n",
              " <textattack.attack_results.failed_attack_result.FailedAttackResult at 0x7c2abfa6e050>,\n",
              " <textattack.attack_results.failed_attack_result.FailedAttackResult at 0x7c2a620b2f90>,\n",
              " <textattack.attack_results.successful_attack_result.SuccessfulAttackResult at 0x7c2a6215c310>,\n",
              " <textattack.attack_results.successful_attack_result.SuccessfulAttackResult at 0x7c2abf824550>,\n",
              " <textattack.attack_results.successful_attack_result.SuccessfulAttackResult at 0x7c2c07580790>,\n",
              " <textattack.attack_results.successful_attack_result.SuccessfulAttackResult at 0x7c29ba0d7a50>,\n",
              " <textattack.attack_results.successful_attack_result.SuccessfulAttackResult at 0x7c2abf9e0690>,\n",
              " <textattack.attack_results.successful_attack_result.SuccessfulAttackResult at 0x7c2ac036e450>,\n",
              " <textattack.attack_results.successful_attack_result.SuccessfulAttackResult at 0x7c29ba17ea50>,\n",
              " <textattack.attack_results.successful_attack_result.SuccessfulAttackResult at 0x7c2d08426350>,\n",
              " <textattack.attack_results.failed_attack_result.FailedAttackResult at 0x7c2b823a9ed0>,\n",
              " <textattack.attack_results.successful_attack_result.SuccessfulAttackResult at 0x7c29ba1b3d90>,\n",
              " <textattack.attack_results.successful_attack_result.SuccessfulAttackResult at 0x7c2b83397b90>,\n",
              " <textattack.attack_results.successful_attack_result.SuccessfulAttackResult at 0x7c29b70de350>,\n",
              " <textattack.attack_results.successful_attack_result.SuccessfulAttackResult at 0x7c2abf840ed0>,\n",
              " <textattack.attack_results.successful_attack_result.SuccessfulAttackResult at 0x7c29b6f9b650>,\n",
              " <textattack.attack_results.failed_attack_result.FailedAttackResult at 0x7c29ba17ef90>,\n",
              " <textattack.attack_results.failed_attack_result.FailedAttackResult at 0x7c2b85371d50>,\n",
              " <textattack.attack_results.successful_attack_result.SuccessfulAttackResult at 0x7c29b6df0e90>,\n",
              " <textattack.attack_results.successful_attack_result.SuccessfulAttackResult at 0x7c2b97463e90>,\n",
              " <textattack.attack_results.failed_attack_result.FailedAttackResult at 0x7c2991d54590>,\n",
              " <textattack.attack_results.successful_attack_result.SuccessfulAttackResult at 0x7c29b6c75490>,\n",
              " <textattack.attack_results.successful_attack_result.SuccessfulAttackResult at 0x7c29b66583d0>,\n",
              " <textattack.attack_results.successful_attack_result.SuccessfulAttackResult at 0x7c29b63af750>,\n",
              " <textattack.attack_results.successful_attack_result.SuccessfulAttackResult at 0x7c29ba1f7ad0>,\n",
              " <textattack.attack_results.failed_attack_result.FailedAttackResult at 0x7c29b72077d0>,\n",
              " <textattack.attack_results.successful_attack_result.SuccessfulAttackResult at 0x7c2b876ffad0>,\n",
              " <textattack.attack_results.successful_attack_result.SuccessfulAttackResult at 0x7c2abf834090>,\n",
              " <textattack.attack_results.successful_attack_result.SuccessfulAttackResult at 0x7c29b6585290>,\n",
              " <textattack.attack_results.successful_attack_result.SuccessfulAttackResult at 0x7c2a6202d0d0>,\n",
              " <textattack.attack_results.successful_attack_result.SuccessfulAttackResult at 0x7c29b704fd90>,\n",
              " <textattack.attack_results.failed_attack_result.FailedAttackResult at 0x7c2b9746bed0>,\n",
              " <textattack.attack_results.successful_attack_result.SuccessfulAttackResult at 0x7c2abf844550>,\n",
              " <textattack.attack_results.successful_attack_result.SuccessfulAttackResult at 0x7c29ba03a710>,\n",
              " <textattack.attack_results.failed_attack_result.FailedAttackResult at 0x7c29b701b810>,\n",
              " <textattack.attack_results.successful_attack_result.SuccessfulAttackResult at 0x7c29b642cf10>,\n",
              " <textattack.attack_results.successful_attack_result.SuccessfulAttackResult at 0x7c29b6d26790>,\n",
              " <textattack.attack_results.successful_attack_result.SuccessfulAttackResult at 0x7c2a62052ed0>,\n",
              " <textattack.attack_results.successful_attack_result.SuccessfulAttackResult at 0x7c2cce26e3d0>,\n",
              " <textattack.attack_results.successful_attack_result.SuccessfulAttackResult at 0x7c29ba170b90>,\n",
              " <textattack.attack_results.failed_attack_result.FailedAttackResult at 0x7c2a622908d0>,\n",
              " <textattack.attack_results.successful_attack_result.SuccessfulAttackResult at 0x7c29b691c790>,\n",
              " <textattack.attack_results.successful_attack_result.SuccessfulAttackResult at 0x7c29b6f7ef90>,\n",
              " <textattack.attack_results.successful_attack_result.SuccessfulAttackResult at 0x7c29b5a3c6d0>,\n",
              " <textattack.attack_results.successful_attack_result.SuccessfulAttackResult at 0x7c29b705ed10>,\n",
              " <textattack.attack_results.successful_attack_result.SuccessfulAttackResult at 0x7c2a621824d0>,\n",
              " <textattack.attack_results.successful_attack_result.SuccessfulAttackResult at 0x7c29b69064d0>,\n",
              " <textattack.attack_results.successful_attack_result.SuccessfulAttackResult at 0x7c29b7218390>,\n",
              " <textattack.attack_results.successful_attack_result.SuccessfulAttackResult at 0x7c2b8537cb50>,\n",
              " <textattack.attack_results.successful_attack_result.SuccessfulAttackResult at 0x7c29b6eb6490>,\n",
              " <textattack.attack_results.successful_attack_result.SuccessfulAttackResult at 0x7c29b62d6e50>,\n",
              " <textattack.attack_results.successful_attack_result.SuccessfulAttackResult at 0x7c29b55e7c90>,\n",
              " <textattack.attack_results.successful_attack_result.SuccessfulAttackResult at 0x7c29b5b53510>,\n",
              " <textattack.attack_results.successful_attack_result.SuccessfulAttackResult at 0x7c29b55d2d50>,\n",
              " <textattack.attack_results.successful_attack_result.SuccessfulAttackResult at 0x7c29b55c2810>,\n",
              " <textattack.attack_results.successful_attack_result.SuccessfulAttackResult at 0x7c2abf9e04d0>,\n",
              " <textattack.attack_results.failed_attack_result.FailedAttackResult at 0x7c29ba0d79d0>,\n",
              " <textattack.attack_results.failed_attack_result.FailedAttackResult at 0x7c2abf845890>,\n",
              " <textattack.attack_results.successful_attack_result.SuccessfulAttackResult at 0x7c2b9748da10>,\n",
              " <textattack.attack_results.successful_attack_result.SuccessfulAttackResult at 0x7c29b5f812d0>,\n",
              " <textattack.attack_results.failed_attack_result.FailedAttackResult at 0x7c29ba047dd0>,\n",
              " <textattack.attack_results.successful_attack_result.SuccessfulAttackResult at 0x7c2ac03a9d50>,\n",
              " <textattack.attack_results.successful_attack_result.SuccessfulAttackResult at 0x7c2a62009650>,\n",
              " <textattack.attack_results.failed_attack_result.FailedAttackResult at 0x7c29b6df19d0>,\n",
              " <textattack.attack_results.successful_attack_result.SuccessfulAttackResult at 0x7c29b4c7b0d0>,\n",
              " <textattack.attack_results.successful_attack_result.SuccessfulAttackResult at 0x7c2a90468090>]"
            ]
          },
          "metadata": {},
          "execution_count": 1
        }
      ]
    }
  ]
}